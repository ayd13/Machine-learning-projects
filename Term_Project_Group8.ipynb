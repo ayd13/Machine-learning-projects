{
  "nbformat": 4,
  "nbformat_minor": 0,
  "metadata": {
    "colab": {
      "name": "Term_Project_Group8.ipynb",
      "provenance": [],
      "collapsed_sections": [],
      "include_colab_link": true
    },
    "kernelspec": {
      "display_name": "Python 3",
      "language": "python",
      "name": "python3"
    },
    "language_info": {
      "codemirror_mode": {
        "name": "ipython",
        "version": 3
      },
      "file_extension": ".py",
      "mimetype": "text/x-python",
      "name": "python",
      "nbconvert_exporter": "python",
      "pygments_lexer": "ipython3",
      "version": "3.7.3"
    }
  },
  "cells": [
    {
      "cell_type": "markdown",
      "metadata": {
        "id": "view-in-github",
        "colab_type": "text"
      },
      "source": [
        "<a href=\"https://colab.research.google.com/github/ayd13/Machine-learning-projects/blob/master/Term_Project_Group8.ipynb\" target=\"_parent\"><img src=\"https://colab.research.google.com/assets/colab-badge.svg\" alt=\"Open In Colab\"/></a>"
      ]
    },
    {
      "cell_type": "code",
      "metadata": {
        "id": "aFHwhsbwvn4W",
        "colab_type": "code",
        "colab": {
          "base_uri": "https://localhost:8080/",
          "height": 35
        },
        "outputId": "899bc14b-9b50-473b-9c54-e6f1bb6d21ad"
      },
      "source": [
        "# initial needed packages\n",
        " \n",
        "import numpy as np\n",
        "from sklearn.cluster import KMeans\n",
        "import matplotlib.pyplot as plt\n",
        "import random\n",
        "from sklearn.metrics import silhouette_score\n",
        "from sklearn.cluster import AgglomerativeClustering\n",
        "random.seed(42)\n",
        " \n",
        "#Mount your Google drive so you can read them easilu\n",
        "from google.colab import drive\n",
        "drive.mount('/content/gdrive')"
      ],
      "execution_count": 1,
      "outputs": [
        {
          "output_type": "stream",
          "text": [
            "Drive already mounted at /content/gdrive; to attempt to forcibly remount, call drive.mount(\"/content/gdrive\", force_remount=True).\n"
          ],
          "name": "stdout"
        }
      ]
    },
    {
      "cell_type": "code",
      "metadata": {
        "id": "kxy5rMdavnsW",
        "colab_type": "code",
        "colab": {}
      },
      "source": [
        "import fileinput\n",
        "\n",
        "filePath  ='/content/gdrive/My Drive/Machine Learning/ML Class UofT/Term_Project/BNG_credit-g.csv'"
      ],
      "execution_count": 2,
      "outputs": []
    },
    {
      "cell_type": "code",
      "metadata": {
        "id": "jNB9_Z1vvnf3",
        "colab_type": "code",
        "colab": {}
      },
      "source": [
        "# Create dataframe\n",
        "import pandas as pd\n",
        "\n",
        "data = pd.read_csv(filePath )"
      ],
      "execution_count": 3,
      "outputs": []
    },
    {
      "cell_type": "code",
      "metadata": {
        "colab_type": "code",
        "id": "Z77rJSPx0uh9",
        "colab": {
          "base_uri": "https://localhost:8080/",
          "height": 211
        },
        "outputId": "dd8d8f09-1497-4f32-ece4-b4515a44ea6a"
      },
      "source": [
        "# all other needed packages\n",
        " \n",
        "from sklearn.metrics import confusion_matrix\n",
        "from sklearn.preprocessing import OneHotEncoder\n",
        "from scipy import stats\n",
        "import seaborn as sns\n",
        "import matplotlib\n",
        "import matplotlib.pyplot as plt\n",
        "import pylab\n",
        "import scipy.stats as stats\n",
        "from sklearn.model_selection import train_test_split\n",
        "# the scaler - for min-max scaling\n",
        "from sklearn.preprocessing import MinMaxScaler\n",
        "from sklearn.preprocessing import MaxAbsScaler\n",
        " \n",
        "# install feature-engine package\n",
        "! pip install feature-engine\n",
        " \n",
        "# for one hot encoding with feature-engine\n",
        "from feature_engine.categorical_encoders import OneHotCategoricalEncoder\n",
        " \n",
        "from sklearn.linear_model import SGDClassifier\n",
        "from sklearn.model_selection import cross_val_score\n",
        " \n",
        "from sklearn import tree\n",
        "from sklearn.metrics import f1_score\n",
        "from sklearn.neighbors import KNeighborsClassifier\n",
        "from sklearn.linear_model import LogisticRegression\n",
        "from sklearn import svm\n",
        " \n",
        "from sklearn.pipeline import Pipeline"
      ],
      "execution_count": 4,
      "outputs": [
        {
          "output_type": "stream",
          "text": [
            "Requirement already satisfied: feature-engine in /usr/local/lib/python3.6/dist-packages (0.5.17)\n",
            "Requirement already satisfied: pandas>=1.0.3 in /usr/local/lib/python3.6/dist-packages (from feature-engine) (1.0.5)\n",
            "Requirement already satisfied: numpy>=1.18.2 in /usr/local/lib/python3.6/dist-packages (from feature-engine) (1.18.5)\n",
            "Requirement already satisfied: statsmodels>=0.11.1 in /usr/local/lib/python3.6/dist-packages (from feature-engine) (0.11.1)\n",
            "Requirement already satisfied: scipy>=1.4.1 in /usr/local/lib/python3.6/dist-packages (from feature-engine) (1.4.1)\n",
            "Requirement already satisfied: scikit-learn>=0.22.2 in /usr/local/lib/python3.6/dist-packages (from feature-engine) (0.22.2.post1)\n",
            "Requirement already satisfied: pytz>=2017.2 in /usr/local/lib/python3.6/dist-packages (from pandas>=1.0.3->feature-engine) (2018.9)\n",
            "Requirement already satisfied: python-dateutil>=2.6.1 in /usr/local/lib/python3.6/dist-packages (from pandas>=1.0.3->feature-engine) (2.8.1)\n",
            "Requirement already satisfied: patsy>=0.5 in /usr/local/lib/python3.6/dist-packages (from statsmodels>=0.11.1->feature-engine) (0.5.1)\n",
            "Requirement already satisfied: joblib>=0.11 in /usr/local/lib/python3.6/dist-packages (from scikit-learn>=0.22.2->feature-engine) (0.16.0)\n",
            "Requirement already satisfied: six>=1.5 in /usr/local/lib/python3.6/dist-packages (from python-dateutil>=2.6.1->pandas>=1.0.3->feature-engine) (1.15.0)\n"
          ],
          "name": "stdout"
        }
      ]
    },
    {
      "cell_type": "code",
      "metadata": {
        "colab_type": "code",
        "id": "PkJZPgrJ64bA",
        "colab": {
          "base_uri": "https://localhost:8080/",
          "height": 35
        },
        "outputId": "f0709796-219b-44e9-c321-cd0d038a7990"
      },
      "source": [
        "data.shape"
      ],
      "execution_count": 5,
      "outputs": [
        {
          "output_type": "execute_result",
          "data": {
            "text/plain": [
              "(1000000, 21)"
            ]
          },
          "metadata": {
            "tags": []
          },
          "execution_count": 5
        }
      ]
    },
    {
      "cell_type": "markdown",
      "metadata": {
        "colab_type": "text",
        "id": "3Ntd8noYr6w4"
      },
      "source": [
        "**Attribute Information:**\n",
        "\n",
        "*Attribute 1:* (qualitative)\n",
        "\n",
        "checking_status: Status of existing checking account\n",
        "- < 0 DM,\n",
        "- 0 <= ... < 200 DM, \n",
        "- ... >= 200 DM / salary assignments for at least 1 year, \n",
        "- No checking account)\n",
        "\n",
        "*Duration* in month\n",
        "\n",
        "*Attribute 3:* (qualitative)\n",
        "\n",
        "Credit history\n",
        "- No credits taken/ all credits paid back duly\n",
        "- All credits at this bank paid back duly\n",
        "- Existing credits paid back duly till now\n",
        "- Delay in paying off in the past\n",
        "- Critical account/ other credits existing (not at this bank)\n",
        "\n",
        "*Attribute 4:* (qualitative)\n",
        "\n",
        "Purpose\n",
        "- Car (new)\n",
        "- Car (used)\n",
        "- Furniture/equipment\n",
        "- Radio/television\n",
        "- Domestic appliances\n",
        "- Repairs\n",
        "- Education\n",
        "- (vacation - does not exist?)\n",
        "- Retraining\n",
        "- Business\n",
        "- Others\n",
        "\n",
        "*Attribute 5:* (numerical)\n",
        "\n",
        "credit_amount: Credit amount\n",
        "\n",
        "*Attibute 6:* (qualitative)\n",
        "\n",
        "savings_status: Savings account/bonds\n",
        "- ... < 100 DM\n",
        "- 100 <= ... < 500 DM\n",
        "- 500 <= ... < 1000 DM\n",
        "- .. >= 1000 DM\n",
        "- unknown/ no savings account\n",
        "\n",
        "*Attribute 7:* (qualitative)\n",
        "\n",
        "Employment: Present employment since\n",
        "- unemployed\n",
        "- ... < 1 year\n",
        "- 1 <= ... < 4 years\n",
        "- 4 <= ... < 7 years\n",
        "- .. >= 7 years\n",
        "\n",
        "*Attribute 8:* (numerical)\n",
        "\n",
        "installment_commitment: Installment rate in percentage of disposable income\n",
        "\n",
        "*Attribute 9:* (qualitative)\n",
        "\n",
        "personal_status: Personal status and sex\n",
        "- male : divorced / separated\n",
        "- female : divorced / separated / married\n",
        "- male : single\n",
        "- male : married/widowed\n",
        "- female : single\n",
        "\n",
        "*Attribute 10:* (qualitative)\n",
        "\n",
        "Other_Parties: Other debtors / guarantors\n",
        "- none\n",
        "- co-applicant\n",
        "- guarantor\n",
        "\n",
        "*Attribute 11:* (numerical)\n",
        "\n",
        "residence_since: Present residence since\n",
        "\n",
        "*Attribute 12:* (qualitative)\n",
        "\n",
        "property_magnitude\n",
        "- real estate\n",
        "- if not A121 : building society savings agreement/ life insurance\n",
        "- if not A121/A122 : car or other, not in attribute 6\n",
        "- unknown / no property\n",
        "\n",
        "*Attribute 13:* (numerical)\n",
        "\n",
        "Age: Age in years\n",
        "\n",
        "*Attribute 14:* (qualitative)\n",
        "\n",
        "Other_payments: Other installment plans\n",
        "- bank\n",
        "- stores\n",
        "- none\n",
        "\n",
        "*Attribute 15: *(qualitative)\n",
        "\n",
        "Housing\n",
        "- rent\n",
        "- own\n",
        "- for free\n",
        "\n",
        "*Attribute 16:* (numerical)\n",
        "\n",
        "existing_credits\n",
        "Number of existing credits at this bank\n",
        "\n",
        "*Attribute 17:* (qualitative)\n",
        "\n",
        "Job\n",
        "- unemployed/ unskilled - non-resident\n",
        "- unskilled - resident\n",
        "- skilled employee / official\n",
        "- management/ self-employed/\n",
        "- highly qualified employee/ officer\n",
        "\n",
        "*Attribute 18:* (numerical)\n",
        "\n",
        "num_dependents\n",
        "Number of people being liable to provide maintenance for\n",
        "\n",
        "*Attribute 19:* (qualitative)\n",
        "\n",
        "Own_Telephone\n",
        "- none\n",
        "- yes, registered under the customers name\n",
        "\n",
        "*Attribute 20:* (qualitative)\n",
        "\n",
        "foreign worker\n",
        "- yes\n",
        "- no\n",
        "\n",
        "*Attribute 21: *\n",
        "\n",
        "Class\n",
        "- good\n",
        "- bad"
      ]
    },
    {
      "cell_type": "code",
      "metadata": {
        "colab_type": "code",
        "id": "vA-06ezS9SOM",
        "colab": {
          "base_uri": "https://localhost:8080/",
          "height": 531
        },
        "outputId": "63d655e6-430b-4160-901e-49c053801bae"
      },
      "source": [
        "data.head(10)"
      ],
      "execution_count": 6,
      "outputs": [
        {
          "output_type": "execute_result",
          "data": {
            "text/html": [
              "<div>\n",
              "<style scoped>\n",
              "    .dataframe tbody tr th:only-of-type {\n",
              "        vertical-align: middle;\n",
              "    }\n",
              "\n",
              "    .dataframe tbody tr th {\n",
              "        vertical-align: top;\n",
              "    }\n",
              "\n",
              "    .dataframe thead th {\n",
              "        text-align: right;\n",
              "    }\n",
              "</style>\n",
              "<table border=\"1\" class=\"dataframe\">\n",
              "  <thead>\n",
              "    <tr style=\"text-align: right;\">\n",
              "      <th></th>\n",
              "      <th>checking_status</th>\n",
              "      <th>duration</th>\n",
              "      <th>credit_history</th>\n",
              "      <th>purpose</th>\n",
              "      <th>credit_amount</th>\n",
              "      <th>savings_status</th>\n",
              "      <th>employment</th>\n",
              "      <th>installment_commitment</th>\n",
              "      <th>personal_status</th>\n",
              "      <th>other_parties</th>\n",
              "      <th>residence_since</th>\n",
              "      <th>property_magnitude</th>\n",
              "      <th>age</th>\n",
              "      <th>other_payment_plans</th>\n",
              "      <th>housing</th>\n",
              "      <th>existing_credits</th>\n",
              "      <th>job</th>\n",
              "      <th>num_dependents</th>\n",
              "      <th>own_telephone</th>\n",
              "      <th>foreign_worker</th>\n",
              "      <th>class</th>\n",
              "    </tr>\n",
              "  </thead>\n",
              "  <tbody>\n",
              "    <tr>\n",
              "      <th>0</th>\n",
              "      <td>&lt;0</td>\n",
              "      <td>12.046734</td>\n",
              "      <td>'no credits/all paid'</td>\n",
              "      <td>business</td>\n",
              "      <td>8399.322480</td>\n",
              "      <td>'no known savings'</td>\n",
              "      <td>&gt;=7</td>\n",
              "      <td>2</td>\n",
              "      <td>'male single'</td>\n",
              "      <td>none</td>\n",
              "      <td>4</td>\n",
              "      <td>'no known property'</td>\n",
              "      <td>32.520153</td>\n",
              "      <td>none</td>\n",
              "      <td>'for free'</td>\n",
              "      <td>1</td>\n",
              "      <td>skilled</td>\n",
              "      <td>2</td>\n",
              "      <td>none</td>\n",
              "      <td>yes</td>\n",
              "      <td>bad</td>\n",
              "    </tr>\n",
              "    <tr>\n",
              "      <th>1</th>\n",
              "      <td>'no checking'</td>\n",
              "      <td>7.611170</td>\n",
              "      <td>'no credits/all paid'</td>\n",
              "      <td>'new car'</td>\n",
              "      <td>920.413947</td>\n",
              "      <td>&lt;100</td>\n",
              "      <td>1&lt;=X&lt;4</td>\n",
              "      <td>2</td>\n",
              "      <td>'male single'</td>\n",
              "      <td>none</td>\n",
              "      <td>4</td>\n",
              "      <td>'life insurance'</td>\n",
              "      <td>23.258447</td>\n",
              "      <td>none</td>\n",
              "      <td>own</td>\n",
              "      <td>1</td>\n",
              "      <td>skilled</td>\n",
              "      <td>1</td>\n",
              "      <td>none</td>\n",
              "      <td>no</td>\n",
              "      <td>good</td>\n",
              "    </tr>\n",
              "    <tr>\n",
              "      <th>2</th>\n",
              "      <td>'no checking'</td>\n",
              "      <td>16.926853</td>\n",
              "      <td>'existing paid'</td>\n",
              "      <td>radio/tv</td>\n",
              "      <td>300.381585</td>\n",
              "      <td>&lt;100</td>\n",
              "      <td>&lt;1</td>\n",
              "      <td>4</td>\n",
              "      <td>'male single'</td>\n",
              "      <td>none</td>\n",
              "      <td>1</td>\n",
              "      <td>'real estate'</td>\n",
              "      <td>40.479525</td>\n",
              "      <td>none</td>\n",
              "      <td>own</td>\n",
              "      <td>1</td>\n",
              "      <td>skilled</td>\n",
              "      <td>1</td>\n",
              "      <td>yes</td>\n",
              "      <td>yes</td>\n",
              "      <td>good</td>\n",
              "    </tr>\n",
              "    <tr>\n",
              "      <th>3</th>\n",
              "      <td>&lt;0</td>\n",
              "      <td>43.088352</td>\n",
              "      <td>'delayed previously'</td>\n",
              "      <td>'new car'</td>\n",
              "      <td>7860.320514</td>\n",
              "      <td>&lt;100</td>\n",
              "      <td>unemployed</td>\n",
              "      <td>4</td>\n",
              "      <td>'female div/dep/mar'</td>\n",
              "      <td>none</td>\n",
              "      <td>2</td>\n",
              "      <td>'no known property'</td>\n",
              "      <td>28.875083</td>\n",
              "      <td>none</td>\n",
              "      <td>own</td>\n",
              "      <td>2</td>\n",
              "      <td>skilled</td>\n",
              "      <td>1</td>\n",
              "      <td>yes</td>\n",
              "      <td>yes</td>\n",
              "      <td>bad</td>\n",
              "    </tr>\n",
              "    <tr>\n",
              "      <th>4</th>\n",
              "      <td>&gt;=200</td>\n",
              "      <td>52.761614</td>\n",
              "      <td>'critical/other existing credit'</td>\n",
              "      <td>'new car'</td>\n",
              "      <td>6839.412110</td>\n",
              "      <td>&lt;100</td>\n",
              "      <td>4&lt;=X&lt;7</td>\n",
              "      <td>4</td>\n",
              "      <td>'male single'</td>\n",
              "      <td>none</td>\n",
              "      <td>3</td>\n",
              "      <td>car</td>\n",
              "      <td>21.893383</td>\n",
              "      <td>none</td>\n",
              "      <td>own</td>\n",
              "      <td>2</td>\n",
              "      <td>skilled</td>\n",
              "      <td>1</td>\n",
              "      <td>yes</td>\n",
              "      <td>yes</td>\n",
              "      <td>good</td>\n",
              "    </tr>\n",
              "    <tr>\n",
              "      <th>5</th>\n",
              "      <td>&lt;0</td>\n",
              "      <td>41.266553</td>\n",
              "      <td>'existing paid'</td>\n",
              "      <td>business</td>\n",
              "      <td>3890.129693</td>\n",
              "      <td>&lt;100</td>\n",
              "      <td>1&lt;=X&lt;4</td>\n",
              "      <td>4</td>\n",
              "      <td>'male single'</td>\n",
              "      <td>none</td>\n",
              "      <td>4</td>\n",
              "      <td>'life insurance'</td>\n",
              "      <td>37.249188</td>\n",
              "      <td>none</td>\n",
              "      <td>own</td>\n",
              "      <td>1</td>\n",
              "      <td>'unskilled resident'</td>\n",
              "      <td>1</td>\n",
              "      <td>none</td>\n",
              "      <td>yes</td>\n",
              "      <td>bad</td>\n",
              "    </tr>\n",
              "    <tr>\n",
              "      <th>6</th>\n",
              "      <td>0&lt;=X&lt;200</td>\n",
              "      <td>17.271734</td>\n",
              "      <td>'existing paid'</td>\n",
              "      <td>radio/tv</td>\n",
              "      <td>2037.886566</td>\n",
              "      <td>&lt;100</td>\n",
              "      <td>&lt;1</td>\n",
              "      <td>4</td>\n",
              "      <td>'female div/dep/mar'</td>\n",
              "      <td>none</td>\n",
              "      <td>2</td>\n",
              "      <td>car</td>\n",
              "      <td>29.241406</td>\n",
              "      <td>bank</td>\n",
              "      <td>own</td>\n",
              "      <td>1</td>\n",
              "      <td>'unskilled resident'</td>\n",
              "      <td>1</td>\n",
              "      <td>none</td>\n",
              "      <td>yes</td>\n",
              "      <td>bad</td>\n",
              "    </tr>\n",
              "    <tr>\n",
              "      <th>7</th>\n",
              "      <td>&lt;0</td>\n",
              "      <td>25.135795</td>\n",
              "      <td>'existing paid'</td>\n",
              "      <td>radio/tv</td>\n",
              "      <td>1454.798969</td>\n",
              "      <td>&lt;100</td>\n",
              "      <td>1&lt;=X&lt;4</td>\n",
              "      <td>4</td>\n",
              "      <td>'female div/dep/mar'</td>\n",
              "      <td>none</td>\n",
              "      <td>4</td>\n",
              "      <td>'real estate'</td>\n",
              "      <td>29.826403</td>\n",
              "      <td>none</td>\n",
              "      <td>own</td>\n",
              "      <td>1</td>\n",
              "      <td>'unskilled resident'</td>\n",
              "      <td>1</td>\n",
              "      <td>none</td>\n",
              "      <td>yes</td>\n",
              "      <td>good</td>\n",
              "    </tr>\n",
              "    <tr>\n",
              "      <th>8</th>\n",
              "      <td>0&lt;=X&lt;200</td>\n",
              "      <td>23.160591</td>\n",
              "      <td>'existing paid'</td>\n",
              "      <td>radio/tv</td>\n",
              "      <td>3563.881964</td>\n",
              "      <td>&lt;100</td>\n",
              "      <td>4&lt;=X&lt;7</td>\n",
              "      <td>1</td>\n",
              "      <td>'male single'</td>\n",
              "      <td>guarantor</td>\n",
              "      <td>2</td>\n",
              "      <td>'real estate'</td>\n",
              "      <td>23.271047</td>\n",
              "      <td>none</td>\n",
              "      <td>own</td>\n",
              "      <td>1</td>\n",
              "      <td>'unskilled resident'</td>\n",
              "      <td>2</td>\n",
              "      <td>none</td>\n",
              "      <td>no</td>\n",
              "      <td>good</td>\n",
              "    </tr>\n",
              "    <tr>\n",
              "      <th>9</th>\n",
              "      <td>&lt;0</td>\n",
              "      <td>44.744560</td>\n",
              "      <td>'existing paid'</td>\n",
              "      <td>radio/tv</td>\n",
              "      <td>11858.489336</td>\n",
              "      <td>&lt;100</td>\n",
              "      <td>1&lt;=X&lt;4</td>\n",
              "      <td>4</td>\n",
              "      <td>'male div/sep'</td>\n",
              "      <td>none</td>\n",
              "      <td>2</td>\n",
              "      <td>'no known property'</td>\n",
              "      <td>26.821644</td>\n",
              "      <td>none</td>\n",
              "      <td>'for free'</td>\n",
              "      <td>1</td>\n",
              "      <td>'unskilled resident'</td>\n",
              "      <td>1</td>\n",
              "      <td>none</td>\n",
              "      <td>yes</td>\n",
              "      <td>bad</td>\n",
              "    </tr>\n",
              "  </tbody>\n",
              "</table>\n",
              "</div>"
            ],
            "text/plain": [
              "  checking_status   duration  ... foreign_worker class\n",
              "0              <0  12.046734  ...            yes   bad\n",
              "1   'no checking'   7.611170  ...             no  good\n",
              "2   'no checking'  16.926853  ...            yes  good\n",
              "3              <0  43.088352  ...            yes   bad\n",
              "4           >=200  52.761614  ...            yes  good\n",
              "5              <0  41.266553  ...            yes   bad\n",
              "6        0<=X<200  17.271734  ...            yes   bad\n",
              "7              <0  25.135795  ...            yes  good\n",
              "8        0<=X<200  23.160591  ...             no  good\n",
              "9              <0  44.744560  ...            yes   bad\n",
              "\n",
              "[10 rows x 21 columns]"
            ]
          },
          "metadata": {
            "tags": []
          },
          "execution_count": 6
        }
      ]
    },
    {
      "cell_type": "code",
      "metadata": {
        "colab_type": "code",
        "id": "i8QEIsdc1Ygb",
        "colab": {
          "base_uri": "https://localhost:8080/",
          "height": 295
        },
        "outputId": "b0f0203d-46f1-4bc5-c5f7-daa05bece649"
      },
      "source": [
        "data.describe()"
      ],
      "execution_count": 7,
      "outputs": [
        {
          "output_type": "execute_result",
          "data": {
            "text/html": [
              "<div>\n",
              "<style scoped>\n",
              "    .dataframe tbody tr th:only-of-type {\n",
              "        vertical-align: middle;\n",
              "    }\n",
              "\n",
              "    .dataframe tbody tr th {\n",
              "        vertical-align: top;\n",
              "    }\n",
              "\n",
              "    .dataframe thead th {\n",
              "        text-align: right;\n",
              "    }\n",
              "</style>\n",
              "<table border=\"1\" class=\"dataframe\">\n",
              "  <thead>\n",
              "    <tr style=\"text-align: right;\">\n",
              "      <th></th>\n",
              "      <th>duration</th>\n",
              "      <th>credit_amount</th>\n",
              "      <th>installment_commitment</th>\n",
              "      <th>residence_since</th>\n",
              "      <th>age</th>\n",
              "      <th>existing_credits</th>\n",
              "      <th>num_dependents</th>\n",
              "    </tr>\n",
              "  </thead>\n",
              "  <tbody>\n",
              "    <tr>\n",
              "      <th>count</th>\n",
              "      <td>1000000.000000</td>\n",
              "      <td>1000000.000000</td>\n",
              "      <td>1000000.000000</td>\n",
              "      <td>1000000.000000</td>\n",
              "      <td>1000000.000000</td>\n",
              "      <td>1000000.000000</td>\n",
              "      <td>1000000.000000</td>\n",
              "    </tr>\n",
              "    <tr>\n",
              "      <th>mean</th>\n",
              "      <td>20.891879</td>\n",
              "      <td>3210.124716</td>\n",
              "      <td>2.953633</td>\n",
              "      <td>2.836807</td>\n",
              "      <td>35.633956</td>\n",
              "      <td>1.426606</td>\n",
              "      <td>1.157826</td>\n",
              "    </tr>\n",
              "    <tr>\n",
              "      <th>std</th>\n",
              "      <td>12.055036</td>\n",
              "      <td>2779.716041</td>\n",
              "      <td>1.120668</td>\n",
              "      <td>1.104919</td>\n",
              "      <td>11.312681</td>\n",
              "      <td>0.611262</td>\n",
              "      <td>0.364578</td>\n",
              "    </tr>\n",
              "    <tr>\n",
              "      <th>min</th>\n",
              "      <td>-1.543527</td>\n",
              "      <td>-5997.669542</td>\n",
              "      <td>1.000000</td>\n",
              "      <td>1.000000</td>\n",
              "      <td>16.312481</td>\n",
              "      <td>1.000000</td>\n",
              "      <td>1.000000</td>\n",
              "    </tr>\n",
              "    <tr>\n",
              "      <th>25%</th>\n",
              "      <td>11.968091</td>\n",
              "      <td>1389.640085</td>\n",
              "      <td>2.000000</td>\n",
              "      <td>2.000000</td>\n",
              "      <td>27.119236</td>\n",
              "      <td>1.000000</td>\n",
              "      <td>1.000000</td>\n",
              "    </tr>\n",
              "    <tr>\n",
              "      <th>50%</th>\n",
              "      <td>18.117446</td>\n",
              "      <td>2285.628741</td>\n",
              "      <td>3.000000</td>\n",
              "      <td>3.000000</td>\n",
              "      <td>33.111811</td>\n",
              "      <td>1.000000</td>\n",
              "      <td>1.000000</td>\n",
              "    </tr>\n",
              "    <tr>\n",
              "      <th>75%</th>\n",
              "      <td>24.928179</td>\n",
              "      <td>3825.210598</td>\n",
              "      <td>4.000000</td>\n",
              "      <td>4.000000</td>\n",
              "      <td>40.986604</td>\n",
              "      <td>2.000000</td>\n",
              "      <td>1.000000</td>\n",
              "    </tr>\n",
              "    <tr>\n",
              "      <th>max</th>\n",
              "      <td>78.343283</td>\n",
              "      <td>22001.953049</td>\n",
              "      <td>4.000000</td>\n",
              "      <td>4.000000</td>\n",
              "      <td>90.236360</td>\n",
              "      <td>4.000000</td>\n",
              "      <td>2.000000</td>\n",
              "    </tr>\n",
              "  </tbody>\n",
              "</table>\n",
              "</div>"
            ],
            "text/plain": [
              "             duration   credit_amount  ...  existing_credits  num_dependents\n",
              "count  1000000.000000  1000000.000000  ...    1000000.000000  1000000.000000\n",
              "mean        20.891879     3210.124716  ...          1.426606        1.157826\n",
              "std         12.055036     2779.716041  ...          0.611262        0.364578\n",
              "min         -1.543527    -5997.669542  ...          1.000000        1.000000\n",
              "25%         11.968091     1389.640085  ...          1.000000        1.000000\n",
              "50%         18.117446     2285.628741  ...          1.000000        1.000000\n",
              "75%         24.928179     3825.210598  ...          2.000000        1.000000\n",
              "max         78.343283    22001.953049  ...          4.000000        2.000000\n",
              "\n",
              "[8 rows x 7 columns]"
            ]
          },
          "metadata": {
            "tags": []
          },
          "execution_count": 7
        }
      ]
    },
    {
      "cell_type": "code",
      "metadata": {
        "colab_type": "code",
        "id": "LZ4n9aDp9dK1",
        "colab": {
          "base_uri": "https://localhost:8080/",
          "height": 35
        },
        "outputId": "ca193f32-534b-4262-b330-b40e0885a1cc"
      },
      "source": [
        "# check if any column has null value\n",
        "\n",
        "vars_with_na = [var for var in data.columns if data[var].isnull().mean() > 0]\n",
        "vars_with_na"
      ],
      "execution_count": 8,
      "outputs": [
        {
          "output_type": "execute_result",
          "data": {
            "text/plain": [
              "[]"
            ]
          },
          "metadata": {
            "tags": []
          },
          "execution_count": 8
        }
      ]
    },
    {
      "cell_type": "code",
      "metadata": {
        "colab_type": "code",
        "id": "qQIzEv3d1ZJo",
        "colab": {
          "base_uri": "https://localhost:8080/",
          "height": 263
        },
        "outputId": "5910f581-15f5-4663-f7b0-f933519318c5"
      },
      "source": [
        "# find categorical variables\n",
        "# those of type 'Object' in the dataset\n",
        "features_categorical = [c for c in data.columns if data[c].dtypes=='O']\n",
        "features_categorical"
      ],
      "execution_count": 9,
      "outputs": [
        {
          "output_type": "execute_result",
          "data": {
            "text/plain": [
              "['checking_status',\n",
              " 'credit_history',\n",
              " 'purpose',\n",
              " 'savings_status',\n",
              " 'employment',\n",
              " 'personal_status',\n",
              " 'other_parties',\n",
              " 'property_magnitude',\n",
              " 'other_payment_plans',\n",
              " 'housing',\n",
              " 'job',\n",
              " 'own_telephone',\n",
              " 'foreign_worker',\n",
              " 'class']"
            ]
          },
          "metadata": {
            "tags": []
          },
          "execution_count": 9
        }
      ]
    },
    {
      "cell_type": "code",
      "metadata": {
        "colab_type": "code",
        "id": "t3xnLRhH1ZQF",
        "colab": {
          "base_uri": "https://localhost:8080/",
          "height": 140
        },
        "outputId": "a5db35ab-3b86-4518-9658-cffac4a710de"
      },
      "source": [
        "# find numerical variables\n",
        "# those different from object\n",
        "features_numerical = [c for c in data.columns if data[c].dtypes!='O']\n",
        "features_numerical"
      ],
      "execution_count": 10,
      "outputs": [
        {
          "output_type": "execute_result",
          "data": {
            "text/plain": [
              "['duration',\n",
              " 'credit_amount',\n",
              " 'installment_commitment',\n",
              " 'residence_since',\n",
              " 'age',\n",
              " 'existing_credits',\n",
              " 'num_dependents']"
            ]
          },
          "metadata": {
            "tags": []
          },
          "execution_count": 10
        }
      ]
    },
    {
      "cell_type": "code",
      "metadata": {
        "colab_type": "code",
        "id": "lzvPOJaMCr1O",
        "colab": {
          "base_uri": "https://localhost:8080/",
          "height": 844
        },
        "outputId": "144a6781-3fa3-4aee-a782-60535ca69b3a"
      },
      "source": [
        "# Get distinct values of all catagorical columns\n",
        "\n",
        "for col in features_categorical:\n",
        "   print ('\\nunique values for %s'%col)\n",
        "   print (data[col].unique())"
      ],
      "execution_count": 11,
      "outputs": [
        {
          "output_type": "stream",
          "text": [
            "\n",
            "unique values for checking_status\n",
            "['<0' \"'no checking'\" '>=200' '0<=X<200']\n",
            "\n",
            "unique values for credit_history\n",
            "[\"'no credits/all paid'\" \"'existing paid'\" \"'delayed previously'\"\n",
            " \"'critical/other existing credit'\" \"'all paid'\"]\n",
            "\n",
            "unique values for purpose\n",
            "['business' \"'new car'\" 'radio/tv' 'furniture/equipment' \"'used car'\"\n",
            " 'repairs' 'retraining' 'education' 'other' \"'domestic appliance'\"\n",
            " 'vacation']\n",
            "\n",
            "unique values for savings_status\n",
            "[\"'no known savings'\" '<100' '500<=X<1000' '100<=X<500' '>=1000']\n",
            "\n",
            "unique values for employment\n",
            "['>=7' '1<=X<4' '<1' 'unemployed' '4<=X<7']\n",
            "\n",
            "unique values for personal_status\n",
            "[\"'male single'\" \"'female div/dep/mar'\" \"'male div/sep'\" \"'male mar/wid'\"\n",
            " \"'female single'\"]\n",
            "\n",
            "unique values for other_parties\n",
            "['none' 'guarantor' \"'co applicant'\"]\n",
            "\n",
            "unique values for property_magnitude\n",
            "[\"'no known property'\" \"'life insurance'\" \"'real estate'\" 'car']\n",
            "\n",
            "unique values for other_payment_plans\n",
            "['none' 'bank' 'stores']\n",
            "\n",
            "unique values for housing\n",
            "[\"'for free'\" 'own' 'rent']\n",
            "\n",
            "unique values for job\n",
            "['skilled' \"'unskilled resident'\" \"'high qualif/self emp/mgmt'\"\n",
            " \"'unemp/unskilled non res'\"]\n",
            "\n",
            "unique values for own_telephone\n",
            "['none' 'yes']\n",
            "\n",
            "unique values for foreign_worker\n",
            "['yes' 'no']\n",
            "\n",
            "unique values for class\n",
            "['bad' 'good']\n"
          ],
          "name": "stdout"
        }
      ]
    },
    {
      "cell_type": "code",
      "metadata": {
        "id": "zY56gIeMZCtf",
        "colab_type": "code",
        "colab": {
          "base_uri": "https://localhost:8080/",
          "height": 1000
        },
        "outputId": "f0252d19-bc2e-4a41-a546-b3858e96e864"
      },
      "source": [
        "# value count for all catagorical columns by values\n",
        "\n",
        "for c in features_categorical:\n",
        "    print (\"---- %s ---\" % c)\n",
        "    print (data[c].value_counts())"
      ],
      "execution_count": 12,
      "outputs": [
        {
          "output_type": "stream",
          "text": [
            "---- checking_status ---\n",
            "'no checking'    394051\n",
            "<0               272999\n",
            "0<=X<200         269039\n",
            ">=200             63911\n",
            "Name: checking_status, dtype: int64\n",
            "---- credit_history ---\n",
            "'existing paid'                     528454\n",
            "'critical/other existing credit'    292863\n",
            "'delayed previously'                 88442\n",
            "'all paid'                           49385\n",
            "'no credits/all paid'                40856\n",
            "Name: credit_history, dtype: int64\n",
            "---- purpose ---\n",
            "radio/tv                278087\n",
            "'new car'               232441\n",
            "furniture/equipment     179990\n",
            "'used car'              102886\n",
            "business                 97087\n",
            "education                50167\n",
            "repairs                  22858\n",
            "'domestic appliance'     12810\n",
            "other                    12781\n",
            "retraining                9944\n",
            "vacation                   949\n",
            "Name: purpose, dtype: int64\n",
            "---- savings_status ---\n",
            "<100                  593748\n",
            "'no known savings'    184016\n",
            "100<=X<500            104794\n",
            "500<=X<1000            66015\n",
            ">=1000                 51427\n",
            "Name: savings_status, dtype: int64\n",
            "---- employment ---\n",
            "1<=X<4        339063\n",
            ">=7           252990\n",
            "4<=X<7        173590\n",
            "<1            172051\n",
            "unemployed     62306\n",
            "Name: employment, dtype: int64\n",
            "---- personal_status ---\n",
            "'male single'           546628\n",
            "'female div/dep/mar'    309116\n",
            "'male mar/wid'           92587\n",
            "'male div/sep'           50672\n",
            "'female single'            997\n",
            "Name: personal_status, dtype: int64\n",
            "---- other_parties ---\n",
            "none              905898\n",
            "guarantor          52555\n",
            "'co applicant'     41547\n",
            "Name: other_parties, dtype: int64\n",
            "---- property_magnitude ---\n",
            "car                    329079\n",
            "'real estate'          283081\n",
            "'life insurance'       235942\n",
            "'no known property'    151898\n",
            "Name: property_magnitude, dtype: int64\n",
            "---- other_payment_plans ---\n",
            "none      808505\n",
            "bank      140552\n",
            "stores     50943\n",
            "Name: other_payment_plans, dtype: int64\n",
            "---- housing ---\n",
            "own           710348\n",
            "rent          180930\n",
            "'for free'    108722\n",
            "Name: housing, dtype: int64\n",
            "---- job ---\n",
            "skilled                        623669\n",
            "'unskilled resident'           200724\n",
            "'high qualif/self emp/mgmt'    149830\n",
            "'unemp/unskilled non res'       25777\n",
            "Name: job, dtype: int64\n",
            "---- own_telephone ---\n",
            "none    594649\n",
            "yes     405351\n",
            "Name: own_telephone, dtype: int64\n",
            "---- foreign_worker ---\n",
            "yes    961241\n",
            "no      38759\n",
            "Name: foreign_worker, dtype: int64\n",
            "---- class ---\n",
            "good    699774\n",
            "bad     300226\n",
            "Name: class, dtype: int64\n"
          ],
          "name": "stdout"
        }
      ]
    },
    {
      "cell_type": "code",
      "metadata": {
        "colab_type": "code",
        "id": "Fo2cK93fwfiK",
        "colab": {
          "base_uri": "https://localhost:8080/",
          "height": 35
        },
        "outputId": "685bad20-d817-451a-d1d8-832169d6b169"
      },
      "source": [
        "# we change target column (class) values to numerical and data type too \n",
        "# we will replace out targer (class) with 0 for bad and 1 for good\n",
        "\n",
        "data[\"class\"]= data[\"class\"].replace('bad', 0)\n",
        "data[\"class\"]= data[\"class\"].replace('good', 1)\n",
        "data['class'].unique()"
      ],
      "execution_count": 13,
      "outputs": [
        {
          "output_type": "execute_result",
          "data": {
            "text/plain": [
              "array([0, 1])"
            ]
          },
          "metadata": {
            "tags": []
          },
          "execution_count": 13
        }
      ]
    },
    {
      "cell_type": "code",
      "metadata": {
        "colab_type": "code",
        "id": "D-M-g_waxkcs",
        "colab": {}
      },
      "source": [
        "# Now we will change (class) column to numeric\n",
        "data[\"class\"] = pd.to_numeric(data[\"class\"])"
      ],
      "execution_count": 14,
      "outputs": []
    },
    {
      "cell_type": "code",
      "metadata": {
        "colab_type": "code",
        "id": "e0ALXMHEx1tD",
        "colab": {
          "base_uri": "https://localhost:8080/",
          "height": 246
        },
        "outputId": "7cf6f666-96c4-4175-84cc-e1035b299336"
      },
      "source": [
        "# now lets meke sure what is categorica and what is numerical\n",
        "features_categorical_casted = [c for c in data.columns if data[c].dtypes=='O']\n",
        "features_categorical_casted"
      ],
      "execution_count": 15,
      "outputs": [
        {
          "output_type": "execute_result",
          "data": {
            "text/plain": [
              "['checking_status',\n",
              " 'credit_history',\n",
              " 'purpose',\n",
              " 'savings_status',\n",
              " 'employment',\n",
              " 'personal_status',\n",
              " 'other_parties',\n",
              " 'property_magnitude',\n",
              " 'other_payment_plans',\n",
              " 'housing',\n",
              " 'job',\n",
              " 'own_telephone',\n",
              " 'foreign_worker']"
            ]
          },
          "metadata": {
            "tags": []
          },
          "execution_count": 15
        }
      ]
    },
    {
      "cell_type": "code",
      "metadata": {
        "colab_type": "code",
        "id": "yTGi1568yc73",
        "colab": {
          "base_uri": "https://localhost:8080/",
          "height": 158
        },
        "outputId": "d274b0cb-c57b-4ff7-f15c-60d4ea9264be"
      },
      "source": [
        "features_numerical_casted = [c for c in data.columns if data[c].dtypes!='O']\n",
        "features_numerical_casted"
      ],
      "execution_count": 16,
      "outputs": [
        {
          "output_type": "execute_result",
          "data": {
            "text/plain": [
              "['duration',\n",
              " 'credit_amount',\n",
              " 'installment_commitment',\n",
              " 'residence_since',\n",
              " 'age',\n",
              " 'existing_credits',\n",
              " 'num_dependents',\n",
              " 'class']"
            ]
          },
          "metadata": {
            "tags": []
          },
          "execution_count": 16
        }
      ]
    },
    {
      "cell_type": "code",
      "metadata": {
        "colab_type": "code",
        "id": "_iQyA27bCsIB",
        "colab": {}
      },
      "source": [
        "# looks like we have 13 catagorical columns with no missing data"
      ],
      "execution_count": 17,
      "outputs": []
    },
    {
      "cell_type": "code",
      "metadata": {
        "colab_type": "code",
        "id": "9oqnT9OJX2Tk",
        "colab": {
          "base_uri": "https://localhost:8080/",
          "height": 316
        },
        "outputId": "e575b268-6429-41f3-e371-d293e9798eb1"
      },
      "source": [
        "# Now let's see unique numerical values (only some it they are too much)\n",
        "for col in features_numerical_casted:\n",
        "   print ('\\distinct value count for %s'%col)\n",
        "   print (data[col].unique())"
      ],
      "execution_count": 18,
      "outputs": [
        {
          "output_type": "stream",
          "text": [
            "\\distinct value count for duration\n",
            "[12.046734  7.61117  16.926853 ... 20.49198  16.534777 12.204136]\n",
            "\\distinct value count for credit_amount\n",
            "[8399.32248   920.413947  300.381585 ...  696.655676 1961.985722\n",
            " 1096.40972 ]\n",
            "\\distinct value count for installment_commitment\n",
            "[2 4 1 3]\n",
            "\\distinct value count for residence_since\n",
            "[4 1 2 3]\n",
            "\\distinct value count for age\n",
            "[32.520153 23.258447 40.479525 ... 22.065572 26.537211 26.267923]\n",
            "\\distinct value count for existing_credits\n",
            "[1 2 3 4]\n",
            "\\distinct value count for num_dependents\n",
            "[2 1]\n",
            "\\distinct value count for class\n",
            "[0 1]\n"
          ],
          "name": "stdout"
        }
      ]
    },
    {
      "cell_type": "code",
      "metadata": {
        "colab_type": "code",
        "id": "tiiIQIs8CsPS",
        "colab": {
          "base_uri": "https://localhost:8080/",
          "height": 475
        },
        "outputId": "57382612-ca1e-4db0-afe6-3af7b3e14484"
      },
      "source": [
        "# Now let's see number of distinct catagorical values\n",
        "for col in features_categorical_casted:\n",
        "   print ('\\distinct value count for %s'%col)\n",
        "   print (data[col].nunique())"
      ],
      "execution_count": 19,
      "outputs": [
        {
          "output_type": "stream",
          "text": [
            "\\distinct value count for checking_status\n",
            "4\n",
            "\\distinct value count for credit_history\n",
            "5\n",
            "\\distinct value count for purpose\n",
            "11\n",
            "\\distinct value count for savings_status\n",
            "5\n",
            "\\distinct value count for employment\n",
            "5\n",
            "\\distinct value count for personal_status\n",
            "5\n",
            "\\distinct value count for other_parties\n",
            "3\n",
            "\\distinct value count for property_magnitude\n",
            "4\n",
            "\\distinct value count for other_payment_plans\n",
            "3\n",
            "\\distinct value count for housing\n",
            "3\n",
            "\\distinct value count for job\n",
            "4\n",
            "\\distinct value count for own_telephone\n",
            "2\n",
            "\\distinct value count for foreign_worker\n",
            "2\n"
          ],
          "name": "stdout"
        }
      ]
    },
    {
      "cell_type": "code",
      "metadata": {
        "colab_type": "code",
        "id": "e4UOH4dKCsVZ",
        "colab": {}
      },
      "source": [
        "# although we have 13 categorical values (a lot) we only have few distinct values for each one (except of purpose has 11 unique values)\n",
        "# we will have to create 56 dummies"
      ],
      "execution_count": 20,
      "outputs": []
    },
    {
      "cell_type": "code",
      "metadata": {
        "colab_type": "code",
        "id": "QUPowS3vWg-f",
        "colab": {
          "base_uri": "https://localhost:8080/",
          "height": 299
        },
        "outputId": "b4ad7e9a-54fa-4158-92c2-86181dcbb64e"
      },
      "source": [
        "# Now let's see number of distinct numerical values\n",
        "for col in features_numerical_casted:\n",
        "   print ('\\distinct value count for %s'%col)\n",
        "   print (data[col].nunique())"
      ],
      "execution_count": 21,
      "outputs": [
        {
          "output_type": "stream",
          "text": [
            "\\distinct value count for duration\n",
            "971857\n",
            "\\distinct value count for credit_amount\n",
            "999900\n",
            "\\distinct value count for installment_commitment\n",
            "4\n",
            "\\distinct value count for residence_since\n",
            "4\n",
            "\\distinct value count for age\n",
            "983864\n",
            "\\distinct value count for existing_credits\n",
            "4\n",
            "\\distinct value count for num_dependents\n",
            "2\n",
            "\\distinct value count for class\n",
            "2\n"
          ],
          "name": "stdout"
        }
      ]
    },
    {
      "cell_type": "markdown",
      "metadata": {
        "colab_type": "text",
        "id": "4hAbWah9XSWQ"
      },
      "source": [
        "## Let's try Data Transformation for 'duration', 'credit_amount' and 'age'"
      ]
    },
    {
      "cell_type": "code",
      "metadata": {
        "colab_type": "code",
        "id": "5HT0sYNK1GqH",
        "colab": {
          "base_uri": "https://localhost:8080/",
          "height": 203
        },
        "outputId": "197482bb-be68-4d7c-f57c-7ea34bf0e12f"
      },
      "source": [
        "# create different dataframes for different transformation\n",
        "# we are trying to transforme these numerical values (in below 3 columns) to be linear.\n",
        "data_num = data[['duration', 'credit_amount', 'age']]\n",
        "data_num_sqrt = data_num\n",
        "data_num_cbrt = data_num\n",
        "data_num_log = data_num\n",
        "data_num_boxcox = data_num\n",
        "data_num_yeojohnson = data_num\n",
        "\n",
        "data_num.head()"
      ],
      "execution_count": 22,
      "outputs": [
        {
          "output_type": "execute_result",
          "data": {
            "text/html": [
              "<div>\n",
              "<style scoped>\n",
              "    .dataframe tbody tr th:only-of-type {\n",
              "        vertical-align: middle;\n",
              "    }\n",
              "\n",
              "    .dataframe tbody tr th {\n",
              "        vertical-align: top;\n",
              "    }\n",
              "\n",
              "    .dataframe thead th {\n",
              "        text-align: right;\n",
              "    }\n",
              "</style>\n",
              "<table border=\"1\" class=\"dataframe\">\n",
              "  <thead>\n",
              "    <tr style=\"text-align: right;\">\n",
              "      <th></th>\n",
              "      <th>duration</th>\n",
              "      <th>credit_amount</th>\n",
              "      <th>age</th>\n",
              "    </tr>\n",
              "  </thead>\n",
              "  <tbody>\n",
              "    <tr>\n",
              "      <th>0</th>\n",
              "      <td>12.046734</td>\n",
              "      <td>8399.322480</td>\n",
              "      <td>32.520153</td>\n",
              "    </tr>\n",
              "    <tr>\n",
              "      <th>1</th>\n",
              "      <td>7.611170</td>\n",
              "      <td>920.413947</td>\n",
              "      <td>23.258447</td>\n",
              "    </tr>\n",
              "    <tr>\n",
              "      <th>2</th>\n",
              "      <td>16.926853</td>\n",
              "      <td>300.381585</td>\n",
              "      <td>40.479525</td>\n",
              "    </tr>\n",
              "    <tr>\n",
              "      <th>3</th>\n",
              "      <td>43.088352</td>\n",
              "      <td>7860.320514</td>\n",
              "      <td>28.875083</td>\n",
              "    </tr>\n",
              "    <tr>\n",
              "      <th>4</th>\n",
              "      <td>52.761614</td>\n",
              "      <td>6839.412110</td>\n",
              "      <td>21.893383</td>\n",
              "    </tr>\n",
              "  </tbody>\n",
              "</table>\n",
              "</div>"
            ],
            "text/plain": [
              "    duration  credit_amount        age\n",
              "0  12.046734    8399.322480  32.520153\n",
              "1   7.611170     920.413947  23.258447\n",
              "2  16.926853     300.381585  40.479525\n",
              "3  43.088352    7860.320514  28.875083\n",
              "4  52.761614    6839.412110  21.893383"
            ]
          },
          "metadata": {
            "tags": []
          },
          "execution_count": 22
        }
      ]
    },
    {
      "cell_type": "code",
      "metadata": {
        "colab_type": "code",
        "id": "q-fYgYyF0B-j",
        "colab": {}
      },
      "source": [
        "# lets plot numerical values and see how it look like\n",
        "\n",
        "# function to create histogram, Q-Q plot and boxplot\n",
        "\n",
        "def diagnostic_plots(df, variable):\n",
        "    # function takes a dataframe (df) and\n",
        "    # the variable of interest as arguments\n",
        "\n",
        "    # define figure size\n",
        "    plt.figure(figsize=(16, 4))\n",
        "\n",
        "    # histogram\n",
        "    plt.subplot(1, 3, 1)\n",
        "    sns.distplot(df[variable], bins=30)\n",
        "    plt.title('Histogram')\n",
        "\n",
        "    # Q-Q plot\n",
        "    plt.subplot(1, 3, 2)\n",
        "    stats.probplot(df[variable], dist=\"norm\", plot=pylab)\n",
        "    plt.ylabel('RM quantiles')\n",
        "\n",
        "    # boxplot\n",
        "    plt.subplot(1, 3, 3)\n",
        "    sns.boxplot(y=df[variable])\n",
        "    plt.title('Boxplot')\n",
        "\n",
        "    plt.show()\n"
      ],
      "execution_count": 23,
      "outputs": []
    },
    {
      "cell_type": "code",
      "metadata": {
        "colab_type": "code",
        "id": "S7PAwwzA0COf",
        "colab": {
          "base_uri": "https://localhost:8080/",
          "height": 905
        },
        "outputId": "6e6eed3d-3c64-474b-e05d-ec13475a76cf"
      },
      "source": [
        "# Let's see how this data look like\n",
        "for column in data_num:\n",
        "    print(column)\n",
        "    diagnostic_plots(data_num, column)"
      ],
      "execution_count": 24,
      "outputs": [
        {
          "output_type": "stream",
          "text": [
            "duration\n"
          ],
          "name": "stdout"
        },
        {
          "output_type": "display_data",
          "data": {
            "image/png": "[encoded data removed]",
            "text/plain": [
              "<Figure size 1152x288 with 3 Axes>"
            ]
          },
          "metadata": {
            "tags": [],
            "needs_background": "light"
          }
        },
        {
          "output_type": "stream",
          "text": [
            "credit_amount\n"
          ],
          "name": "stdout"
        },
        {
          "output_type": "display_data",
          "data": {
            "image/png": "[encoded data removed]",
            "text/plain": [
              "<Figure size 1152x288 with 3 Axes>"
            ]
          },
          "metadata": {
            "tags": [],
            "needs_background": "light"
          }
        },
        {
          "output_type": "stream",
          "text": [
            "age\n"
          ],
          "name": "stdout"
        },
        {
          "output_type": "display_data",
          "data": {
            "image/png": "[encoded data removed]",
            "text/plain": [
              "<Figure size 1152x288 with 3 Axes>"
            ]
          },
          "metadata": {
            "tags": [],
            "needs_background": "light"
          }
        }
      ]
    },
    {
      "cell_type": "code",
      "metadata": {
        "colab_type": "code",
        "id": "OqQutZ2X0Cbx",
        "colab": {
          "base_uri": "https://localhost:8080/",
          "height": 1000
        },
        "outputId": "7ceb5d16-5a29-4ced-870e-ebb26c206bd2"
      },
      "source": [
        "# lets try to transform data_num to see if we can make it linear\n",
        "\n",
        "data_num_log['age'] =  np.log(data_num['age']) \n",
        "data_num_log['credit_amount'] =  np.log(data_num['credit_amount'])\n",
        "data_num_log['duration'] =  np.log(data_num['duration'])\n",
        "\n",
        "data_num_sqrt['age'] =  np.sqrt(data_num['age']) \n",
        "data_num_sqrt['credit_amount'] =  np.sqrt(data_num['credit_amount'])\n",
        "data_num_sqrt['duration'] =  np.sqrt(data_num['duration'])\n",
        "\n",
        "data_num_cbrt['age'] =  np.cbrt(data_num['age']) \n",
        "data_num_cbrt['credit_amount'] =  np.cbrt(data_num['credit_amount'])\n",
        "data_num_cbrt['duration'] =  np.cbrt(data_num['duration'])\n",
        "\n",
        "data_num_boxcox['age'], param =  stats.boxcox(data_num['age']) \n",
        "data_num_boxcox['credit_amount'], param=  stats.boxcox(data_num['credit_amount'])\n",
        "data_num_boxcox['duration'], param =  stats.boxcox(data_num['duration'])\n",
        "\n",
        "data_num_yeojohnson['age'], param =  stats.yeojohnson(data_num['age']) \n",
        "data_num_yeojohnson['credit_amount'], param=  stats.yeojohnson(data_num['credit_amount'])\n",
        "data_num_yeojohnson['duration'], param =  stats.yeojohnson(data_num['duration'])"
      ],
      "execution_count": 25,
      "outputs": [
        {
          "output_type": "stream",
          "text": [
            "/usr/local/lib/python3.6/dist-packages/ipykernel_launcher.py:3: SettingWithCopyWarning: \n",
            "A value is trying to be set on a copy of a slice from a DataFrame.\n",
            "Try using .loc[row_indexer,col_indexer] = value instead\n",
            "\n",
            "See the caveats in the documentation: https://pandas.pydata.org/pandas-docs/stable/user_guide/indexing.html#returning-a-view-versus-a-copy\n",
            "  This is separate from the ipykernel package so we can avoid doing imports until\n",
            "/usr/local/lib/python3.6/dist-packages/pandas/core/series.py:679: RuntimeWarning: invalid value encountered in log\n",
            "  result = getattr(ufunc, method)(*inputs, **kwargs)\n",
            "/usr/local/lib/python3.6/dist-packages/ipykernel_launcher.py:4: SettingWithCopyWarning: \n",
            "A value is trying to be set on a copy of a slice from a DataFrame.\n",
            "Try using .loc[row_indexer,col_indexer] = value instead\n",
            "\n",
            "See the caveats in the documentation: https://pandas.pydata.org/pandas-docs/stable/user_guide/indexing.html#returning-a-view-versus-a-copy\n",
            "  after removing the cwd from sys.path.\n",
            "/usr/local/lib/python3.6/dist-packages/ipykernel_launcher.py:5: SettingWithCopyWarning: \n",
            "A value is trying to be set on a copy of a slice from a DataFrame.\n",
            "Try using .loc[row_indexer,col_indexer] = value instead\n",
            "\n",
            "See the caveats in the documentation: https://pandas.pydata.org/pandas-docs/stable/user_guide/indexing.html#returning-a-view-versus-a-copy\n",
            "  \"\"\"\n",
            "/usr/local/lib/python3.6/dist-packages/ipykernel_launcher.py:7: SettingWithCopyWarning: \n",
            "A value is trying to be set on a copy of a slice from a DataFrame.\n",
            "Try using .loc[row_indexer,col_indexer] = value instead\n",
            "\n",
            "See the caveats in the documentation: https://pandas.pydata.org/pandas-docs/stable/user_guide/indexing.html#returning-a-view-versus-a-copy\n",
            "  import sys\n",
            "/usr/local/lib/python3.6/dist-packages/ipykernel_launcher.py:8: SettingWithCopyWarning: \n",
            "A value is trying to be set on a copy of a slice from a DataFrame.\n",
            "Try using .loc[row_indexer,col_indexer] = value instead\n",
            "\n",
            "See the caveats in the documentation: https://pandas.pydata.org/pandas-docs/stable/user_guide/indexing.html#returning-a-view-versus-a-copy\n",
            "  \n",
            "/usr/local/lib/python3.6/dist-packages/pandas/core/series.py:679: RuntimeWarning: invalid value encountered in sqrt\n",
            "  result = getattr(ufunc, method)(*inputs, **kwargs)\n",
            "/usr/local/lib/python3.6/dist-packages/ipykernel_launcher.py:9: SettingWithCopyWarning: \n",
            "A value is trying to be set on a copy of a slice from a DataFrame.\n",
            "Try using .loc[row_indexer,col_indexer] = value instead\n",
            "\n",
            "See the caveats in the documentation: https://pandas.pydata.org/pandas-docs/stable/user_guide/indexing.html#returning-a-view-versus-a-copy\n",
            "  if __name__ == '__main__':\n",
            "/usr/local/lib/python3.6/dist-packages/ipykernel_launcher.py:11: SettingWithCopyWarning: \n",
            "A value is trying to be set on a copy of a slice from a DataFrame.\n",
            "Try using .loc[row_indexer,col_indexer] = value instead\n",
            "\n",
            "See the caveats in the documentation: https://pandas.pydata.org/pandas-docs/stable/user_guide/indexing.html#returning-a-view-versus-a-copy\n",
            "  # This is added back by InteractiveShellApp.init_path()\n",
            "/usr/local/lib/python3.6/dist-packages/ipykernel_launcher.py:12: SettingWithCopyWarning: \n",
            "A value is trying to be set on a copy of a slice from a DataFrame.\n",
            "Try using .loc[row_indexer,col_indexer] = value instead\n",
            "\n",
            "See the caveats in the documentation: https://pandas.pydata.org/pandas-docs/stable/user_guide/indexing.html#returning-a-view-versus-a-copy\n",
            "  if sys.path[0] == '':\n",
            "/usr/local/lib/python3.6/dist-packages/ipykernel_launcher.py:13: SettingWithCopyWarning: \n",
            "A value is trying to be set on a copy of a slice from a DataFrame.\n",
            "Try using .loc[row_indexer,col_indexer] = value instead\n",
            "\n",
            "See the caveats in the documentation: https://pandas.pydata.org/pandas-docs/stable/user_guide/indexing.html#returning-a-view-versus-a-copy\n",
            "  del sys.path[0]\n",
            "/usr/local/lib/python3.6/dist-packages/ipykernel_launcher.py:15: SettingWithCopyWarning: \n",
            "A value is trying to be set on a copy of a slice from a DataFrame.\n",
            "Try using .loc[row_indexer,col_indexer] = value instead\n",
            "\n",
            "See the caveats in the documentation: https://pandas.pydata.org/pandas-docs/stable/user_guide/indexing.html#returning-a-view-versus-a-copy\n",
            "  from ipykernel import kernelapp as app\n",
            "/usr/local/lib/python3.6/dist-packages/scipy/stats/morestats.py:1044: RuntimeWarning: invalid value encountered in less_equal\n",
            "  if any(x <= 0):\n",
            "/usr/local/lib/python3.6/dist-packages/ipykernel_launcher.py:16: SettingWithCopyWarning: \n",
            "A value is trying to be set on a copy of a slice from a DataFrame.\n",
            "Try using .loc[row_indexer,col_indexer] = value instead\n",
            "\n",
            "See the caveats in the documentation: https://pandas.pydata.org/pandas-docs/stable/user_guide/indexing.html#returning-a-view-versus-a-copy\n",
            "  app.launch_new_instance()\n",
            "/usr/local/lib/python3.6/dist-packages/ipykernel_launcher.py:17: SettingWithCopyWarning: \n",
            "A value is trying to be set on a copy of a slice from a DataFrame.\n",
            "Try using .loc[row_indexer,col_indexer] = value instead\n",
            "\n",
            "See the caveats in the documentation: https://pandas.pydata.org/pandas-docs/stable/user_guide/indexing.html#returning-a-view-versus-a-copy\n",
            "/usr/local/lib/python3.6/dist-packages/ipykernel_launcher.py:19: SettingWithCopyWarning: \n",
            "A value is trying to be set on a copy of a slice from a DataFrame.\n",
            "Try using .loc[row_indexer,col_indexer] = value instead\n",
            "\n",
            "See the caveats in the documentation: https://pandas.pydata.org/pandas-docs/stable/user_guide/indexing.html#returning-a-view-versus-a-copy\n",
            "/usr/local/lib/python3.6/dist-packages/scipy/stats/morestats.py:1371: RuntimeWarning: invalid value encountered in greater_equal\n",
            "  pos = x >= 0  # binary mask\n",
            "/usr/local/lib/python3.6/dist-packages/ipykernel_launcher.py:20: SettingWithCopyWarning: \n",
            "A value is trying to be set on a copy of a slice from a DataFrame.\n",
            "Try using .loc[row_indexer,col_indexer] = value instead\n",
            "\n",
            "See the caveats in the documentation: https://pandas.pydata.org/pandas-docs/stable/user_guide/indexing.html#returning-a-view-versus-a-copy\n",
            "/usr/local/lib/python3.6/dist-packages/ipykernel_launcher.py:21: SettingWithCopyWarning: \n",
            "A value is trying to be set on a copy of a slice from a DataFrame.\n",
            "Try using .loc[row_indexer,col_indexer] = value instead\n",
            "\n",
            "See the caveats in the documentation: https://pandas.pydata.org/pandas-docs/stable/user_guide/indexing.html#returning-a-view-versus-a-copy\n"
          ],
          "name": "stderr"
        }
      ]
    },
    {
      "cell_type": "code",
      "metadata": {
        "colab_type": "code",
        "id": "QoMGVzHl0CUr",
        "colab": {
          "base_uri": "https://localhost:8080/",
          "height": 905
        },
        "outputId": "b13d9542-6a1f-4192-8fc1-0e589c82511e"
      },
      "source": [
        "# let's plot transformed data (is it more linear in any of the 5 transformation?)\n",
        "\n",
        "for column in data_num_sqrt:\n",
        "    print(column)\n",
        "    diagnostic_plots(data_num_sqrt, column)"
      ],
      "execution_count": 26,
      "outputs": [
        {
          "output_type": "stream",
          "text": [
            "duration\n"
          ],
          "name": "stdout"
        },
        {
          "output_type": "display_data",
          "data": {
            "image/png": "[encoded data removed]",
            "text/plain": [
              "<Figure size 1152x288 with 3 Axes>"
            ]
          },
          "metadata": {
            "tags": [],
            "needs_background": "light"
          }
        },
        {
          "output_type": "stream",
          "text": [
            "credit_amount\n"
          ],
          "name": "stdout"
        },
        {
          "output_type": "display_data",
          "data": {
            "image/png": "[encoded data removed]",
            "text/plain": [
              "<Figure size 1152x288 with 3 Axes>"
            ]
          },
          "metadata": {
            "tags": [],
            "needs_background": "light"
          }
        },
        {
          "output_type": "stream",
          "text": [
            "age\n"
          ],
          "name": "stdout"
        },
        {
          "output_type": "display_data",
          "data": {
            "image/png": "[encoded data removed]",
            "text/plain": [
              "<Figure size 1152x288 with 3 Axes>"
            ]
          },
          "metadata": {
            "tags": [],
            "needs_background": "light"
          }
        }
      ]
    },
    {
      "cell_type": "code",
      "metadata": {
        "id": "KQejfi3lvU8P",
        "colab_type": "code",
        "colab": {
          "base_uri": "https://localhost:8080/",
          "height": 905
        },
        "outputId": "7670a895-ae8e-4623-86fe-2b3f41160e10"
      },
      "source": [
        "for column in data_num_cbrt:\n",
        "    print(column)\n",
        "    diagnostic_plots(data_num_cbrt, column)"
      ],
      "execution_count": 27,
      "outputs": [
        {
          "output_type": "stream",
          "text": [
            "duration\n"
          ],
          "name": "stdout"
        },
        {
          "output_type": "display_data",
          "data": {
            "image/png": "[encoded data removed]",
            "text/plain": [
              "<Figure size 1152x288 with 3 Axes>"
            ]
          },
          "metadata": {
            "tags": [],
            "needs_background": "light"
          }
        },
        {
          "output_type": "stream",
          "text": [
            "credit_amount\n"
          ],
          "name": "stdout"
        },
        {
          "output_type": "display_data",
          "data": {
            "image/png": "[encoded data removed]",
            "text/plain": [
              "<Figure size 1152x288 with 3 Axes>"
            ]
          },
          "metadata": {
            "tags": [],
            "needs_background": "light"
          }
        },
        {
          "output_type": "stream",
          "text": [
            "age\n"
          ],
          "name": "stdout"
        },
        {
          "output_type": "display_data",
          "data": {
            "image/png": "[encoded data removed]",
            "text/plain": [
              "<Figure size 1152x288 with 3 Axes>"
            ]
          },
          "metadata": {
            "tags": [],
            "needs_background": "light"
          }
        }
      ]
    },
    {
      "cell_type": "code",
      "metadata": {
        "id": "Kc6Eh5-avU8R",
        "colab_type": "code",
        "colab": {
          "base_uri": "https://localhost:8080/",
          "height": 905
        },
        "outputId": "67497ea1-8799-4ead-a839-39ff605d28bc"
      },
      "source": [
        "for column in data_num_log:\n",
        "    print(column)\n",
        "    diagnostic_plots(data_num_log, column)"
      ],
      "execution_count": 28,
      "outputs": [
        {
          "output_type": "stream",
          "text": [
            "duration\n"
          ],
          "name": "stdout"
        },
        {
          "output_type": "display_data",
          "data": {
            "image/png": "[encoded data removed]",
            "text/plain": [
              "<Figure size 1152x288 with 3 Axes>"
            ]
          },
          "metadata": {
            "tags": [],
            "needs_background": "light"
          }
        },
        {
          "output_type": "stream",
          "text": [
            "credit_amount\n"
          ],
          "name": "stdout"
        },
        {
          "output_type": "display_data",
          "data": {
            "image/png": "[encoded data removed]",
            "text/plain": [
              "<Figure size 1152x288 with 3 Axes>"
            ]
          },
          "metadata": {
            "tags": [],
            "needs_background": "light"
          }
        },
        {
          "output_type": "stream",
          "text": [
            "age\n"
          ],
          "name": "stdout"
        },
        {
          "output_type": "display_data",
          "data": {
            "image/png": "[encoded data removed]",
            "text/plain": [
              "<Figure size 1152x288 with 3 Axes>"
            ]
          },
          "metadata": {
            "tags": [],
            "needs_background": "light"
          }
        }
      ]
    },
    {
      "cell_type": "code",
      "metadata": {
        "id": "rUwWNBSgvU8T",
        "colab_type": "code",
        "colab": {
          "base_uri": "https://localhost:8080/",
          "height": 905
        },
        "outputId": "b41dcf5e-0c5a-4c61-8bb9-ab0b3c23b1eb"
      },
      "source": [
        "for column in data_num_yeojohnson:\n",
        "    print(column)\n",
        "    diagnostic_plots(data_num_yeojohnson, column)"
      ],
      "execution_count": 29,
      "outputs": [
        {
          "output_type": "stream",
          "text": [
            "duration\n"
          ],
          "name": "stdout"
        },
        {
          "output_type": "display_data",
          "data": {
            "image/png": "[encoded data removed]",
            "text/plain": [
              "<Figure size 1152x288 with 3 Axes>"
            ]
          },
          "metadata": {
            "tags": [],
            "needs_background": "light"
          }
        },
        {
          "output_type": "stream",
          "text": [
            "credit_amount\n"
          ],
          "name": "stdout"
        },
        {
          "output_type": "display_data",
          "data": {
            "image/png": "[encoded data removed]",
            "text/plain": [
              "<Figure size 1152x288 with 3 Axes>"
            ]
          },
          "metadata": {
            "tags": [],
            "needs_background": "light"
          }
        },
        {
          "output_type": "stream",
          "text": [
            "age\n"
          ],
          "name": "stdout"
        },
        {
          "output_type": "display_data",
          "data": {
            "image/png": "[encoded data removed]",
            "text/plain": [
              "<Figure size 1152x288 with 3 Axes>"
            ]
          },
          "metadata": {
            "tags": [],
            "needs_background": "light"
          }
        }
      ]
    },
    {
      "cell_type": "code",
      "metadata": {
        "id": "Nn7uoMsbvU8V",
        "colab_type": "code",
        "colab": {
          "base_uri": "https://localhost:8080/",
          "height": 905
        },
        "outputId": "ec9acaeb-c8ab-4640-d952-a5d7525f04ed"
      },
      "source": [
        "for column in data_num_boxcox:\n",
        "    print(column)\n",
        "    diagnostic_plots(data_num_boxcox, column)"
      ],
      "execution_count": 30,
      "outputs": [
        {
          "output_type": "stream",
          "text": [
            "duration\n"
          ],
          "name": "stdout"
        },
        {
          "output_type": "display_data",
          "data": {
            "image/png": "[encoded data removed]",
            "text/plain": [
              "<Figure size 1152x288 with 3 Axes>"
            ]
          },
          "metadata": {
            "tags": [],
            "needs_background": "light"
          }
        },
        {
          "output_type": "stream",
          "text": [
            "credit_amount\n"
          ],
          "name": "stdout"
        },
        {
          "output_type": "display_data",
          "data": {
            "image/png": "[encoded data removed]",
            "text/plain": [
              "<Figure size 1152x288 with 3 Axes>"
            ]
          },
          "metadata": {
            "tags": [],
            "needs_background": "light"
          }
        },
        {
          "output_type": "stream",
          "text": [
            "age\n"
          ],
          "name": "stdout"
        },
        {
          "output_type": "display_data",
          "data": {
            "image/png": "[encoded data removed]",
            "text/plain": [
              "<Figure size 1152x288 with 3 Axes>"
            ]
          },
          "metadata": {
            "tags": [],
            "needs_background": "light"
          }
        }
      ]
    },
    {
      "cell_type": "code",
      "metadata": {
        "id": "8SWODJH4vU8X",
        "colab_type": "code",
        "colab": {}
      },
      "source": [
        "# none of the transformation worked to make any of the transformaed values more linear, \n",
        "# we will not apply any of it as data transformations. "
      ],
      "execution_count": 31,
      "outputs": []
    },
    {
      "cell_type": "code",
      "metadata": {
        "colab_type": "code",
        "id": "G94vmm2hMrvH",
        "colab": {}
      },
      "source": [
        "# We have to split data first."
      ],
      "execution_count": 32,
      "outputs": []
    },
    {
      "cell_type": "code",
      "metadata": {
        "colab_type": "code",
        "id": "fKhJxqdHCsa4",
        "colab": {
          "base_uri": "https://localhost:8080/",
          "height": 35
        },
        "outputId": "a82e0a04-ded0-40af-93e7-e0806f3e08a2"
      },
      "source": [
        "# let's separate into training and testing set\n",
        "\n",
        "X_train, X_test, y_train, y_test = train_test_split(\n",
        "    data[['checking_status','credit_history','purpose','savings_status','employment','personal_status','other_parties','property_magnitude','other_payment_plans','housing',\n",
        "            'job','own_telephone','foreign_worker','duration','credit_amount','installment_commitment','residence_since','age','existing_credits','num_dependents']],  # predictors\n",
        "    data['class'],  # target \n",
        "    stratify= data['class'], # make sure rare value are both training and testing data\n",
        "    test_size=0.3,  # percentage of obs in test set\n",
        "    random_state=0)  # seed to ensure reproducibility\n",
        "\n",
        "X_train.shape, X_test.shape"
      ],
      "execution_count": 33,
      "outputs": [
        {
          "output_type": "execute_result",
          "data": {
            "text/plain": [
              "((700000, 20), (300000, 20))"
            ]
          },
          "metadata": {
            "tags": []
          },
          "execution_count": 33
        }
      ]
    },
    {
      "cell_type": "code",
      "metadata": {
        "colab_type": "code",
        "id": "khgc4vgniuAQ",
        "colab": {
          "base_uri": "https://localhost:8080/",
          "height": 140
        },
        "outputId": "eacdd058-ad01-42a3-8c66-a93638e917cd"
      },
      "source": [
        "# with all catagorical values, we need One Hot Encoding\n",
        "\n",
        "ohe_enc = OneHotCategoricalEncoder(\n",
        "    top_categories=None,\n",
        "    variables= features_categorical_casted, # we can select which variables to encode\n",
        "    drop_last=False) # to return k-1, false to return k\n",
        "\n",
        "\n",
        "ohe_enc.fit(X_train.fillna('Missing'))"
      ],
      "execution_count": 34,
      "outputs": [
        {
          "output_type": "execute_result",
          "data": {
            "text/plain": [
              "OneHotCategoricalEncoder(drop_last=False, top_categories=None,\n",
              "                         variables=['checking_status', 'credit_history',\n",
              "                                    'purpose', 'savings_status', 'employment',\n",
              "                                    'personal_status', 'other_parties',\n",
              "                                    'property_magnitude', 'other_payment_plans',\n",
              "                                    'housing', 'job', 'own_telephone',\n",
              "                                    'foreign_worker'])"
            ]
          },
          "metadata": {
            "tags": []
          },
          "execution_count": 34
        }
      ]
    },
    {
      "cell_type": "code",
      "metadata": {
        "colab_type": "code",
        "id": "ibqJpbJViuqW",
        "colab": {
          "base_uri": "https://localhost:8080/",
          "height": 257
        },
        "outputId": "5e92bb26-c999-4147-8466-0ef98e743333"
      },
      "source": [
        "X_train_enc = ohe_enc.transform(X_train.fillna('Missing'))\n",
        "\n",
        "X_train_enc.head()"
      ],
      "execution_count": 35,
      "outputs": [
        {
          "output_type": "execute_result",
          "data": {
            "text/html": [
              "<div>\n",
              "<style scoped>\n",
              "    .dataframe tbody tr th:only-of-type {\n",
              "        vertical-align: middle;\n",
              "    }\n",
              "\n",
              "    .dataframe tbody tr th {\n",
              "        vertical-align: top;\n",
              "    }\n",
              "\n",
              "    .dataframe thead th {\n",
              "        text-align: right;\n",
              "    }\n",
              "</style>\n",
              "<table border=\"1\" class=\"dataframe\">\n",
              "  <thead>\n",
              "    <tr style=\"text-align: right;\">\n",
              "      <th></th>\n",
              "      <th>duration</th>\n",
              "      <th>credit_amount</th>\n",
              "      <th>installment_commitment</th>\n",
              "      <th>residence_since</th>\n",
              "      <th>age</th>\n",
              "      <th>existing_credits</th>\n",
              "      <th>num_dependents</th>\n",
              "      <th>checking_status_&lt;0</th>\n",
              "      <th>checking_status_0&lt;=X&lt;200</th>\n",
              "      <th>checking_status_'no checking'</th>\n",
              "      <th>checking_status_&gt;=200</th>\n",
              "      <th>credit_history_'existing paid'</th>\n",
              "      <th>credit_history_'critical/other existing credit'</th>\n",
              "      <th>credit_history_'all paid'</th>\n",
              "      <th>credit_history_'delayed previously'</th>\n",
              "      <th>credit_history_'no credits/all paid'</th>\n",
              "      <th>purpose_business</th>\n",
              "      <th>purpose_'domestic appliance'</th>\n",
              "      <th>purpose_'new car'</th>\n",
              "      <th>purpose_'used car'</th>\n",
              "      <th>purpose_radio/tv</th>\n",
              "      <th>purpose_furniture/equipment</th>\n",
              "      <th>purpose_education</th>\n",
              "      <th>purpose_repairs</th>\n",
              "      <th>purpose_retraining</th>\n",
              "      <th>purpose_other</th>\n",
              "      <th>purpose_vacation</th>\n",
              "      <th>savings_status_'no known savings'</th>\n",
              "      <th>savings_status_&lt;100</th>\n",
              "      <th>savings_status_100&lt;=X&lt;500</th>\n",
              "      <th>savings_status_&gt;=1000</th>\n",
              "      <th>savings_status_500&lt;=X&lt;1000</th>\n",
              "      <th>employment_1&lt;=X&lt;4</th>\n",
              "      <th>employment_&gt;=7</th>\n",
              "      <th>employment_&lt;1</th>\n",
              "      <th>employment_4&lt;=X&lt;7</th>\n",
              "      <th>employment_unemployed</th>\n",
              "      <th>personal_status_'female div/dep/mar'</th>\n",
              "      <th>personal_status_'male single'</th>\n",
              "      <th>personal_status_'male mar/wid'</th>\n",
              "      <th>personal_status_'male div/sep'</th>\n",
              "      <th>personal_status_'female single'</th>\n",
              "      <th>other_parties_none</th>\n",
              "      <th>other_parties_guarantor</th>\n",
              "      <th>other_parties_'co applicant'</th>\n",
              "      <th>property_magnitude_car</th>\n",
              "      <th>property_magnitude_'real estate'</th>\n",
              "      <th>property_magnitude_'life insurance'</th>\n",
              "      <th>property_magnitude_'no known property'</th>\n",
              "      <th>other_payment_plans_none</th>\n",
              "      <th>other_payment_plans_bank</th>\n",
              "      <th>other_payment_plans_stores</th>\n",
              "      <th>housing_own</th>\n",
              "      <th>housing_rent</th>\n",
              "      <th>housing_'for free'</th>\n",
              "      <th>job_skilled</th>\n",
              "      <th>job_'high qualif/self emp/mgmt'</th>\n",
              "      <th>job_'unskilled resident'</th>\n",
              "      <th>job_'unemp/unskilled non res'</th>\n",
              "      <th>own_telephone_none</th>\n",
              "      <th>own_telephone_yes</th>\n",
              "      <th>foreign_worker_yes</th>\n",
              "      <th>foreign_worker_no</th>\n",
              "    </tr>\n",
              "  </thead>\n",
              "  <tbody>\n",
              "    <tr>\n",
              "      <th>59433</th>\n",
              "      <td>11.991730</td>\n",
              "      <td>964.661322</td>\n",
              "      <td>4</td>\n",
              "      <td>2</td>\n",
              "      <td>33.726090</td>\n",
              "      <td>1</td>\n",
              "      <td>1</td>\n",
              "      <td>1</td>\n",
              "      <td>0</td>\n",
              "      <td>0</td>\n",
              "      <td>0</td>\n",
              "      <td>1</td>\n",
              "      <td>0</td>\n",
              "      <td>0</td>\n",
              "      <td>0</td>\n",
              "      <td>0</td>\n",
              "      <td>1</td>\n",
              "      <td>0</td>\n",
              "      <td>0</td>\n",
              "      <td>0</td>\n",
              "      <td>0</td>\n",
              "      <td>0</td>\n",
              "      <td>0</td>\n",
              "      <td>0</td>\n",
              "      <td>0</td>\n",
              "      <td>0</td>\n",
              "      <td>0</td>\n",
              "      <td>1</td>\n",
              "      <td>0</td>\n",
              "      <td>0</td>\n",
              "      <td>0</td>\n",
              "      <td>0</td>\n",
              "      <td>1</td>\n",
              "      <td>0</td>\n",
              "      <td>0</td>\n",
              "      <td>0</td>\n",
              "      <td>0</td>\n",
              "      <td>1</td>\n",
              "      <td>0</td>\n",
              "      <td>0</td>\n",
              "      <td>0</td>\n",
              "      <td>0</td>\n",
              "      <td>1</td>\n",
              "      <td>0</td>\n",
              "      <td>0</td>\n",
              "      <td>1</td>\n",
              "      <td>0</td>\n",
              "      <td>0</td>\n",
              "      <td>0</td>\n",
              "      <td>1</td>\n",
              "      <td>0</td>\n",
              "      <td>0</td>\n",
              "      <td>1</td>\n",
              "      <td>0</td>\n",
              "      <td>0</td>\n",
              "      <td>1</td>\n",
              "      <td>0</td>\n",
              "      <td>0</td>\n",
              "      <td>0</td>\n",
              "      <td>1</td>\n",
              "      <td>0</td>\n",
              "      <td>1</td>\n",
              "      <td>0</td>\n",
              "    </tr>\n",
              "    <tr>\n",
              "      <th>408875</th>\n",
              "      <td>22.920562</td>\n",
              "      <td>1428.350404</td>\n",
              "      <td>4</td>\n",
              "      <td>4</td>\n",
              "      <td>47.737628</td>\n",
              "      <td>2</td>\n",
              "      <td>1</td>\n",
              "      <td>0</td>\n",
              "      <td>1</td>\n",
              "      <td>0</td>\n",
              "      <td>0</td>\n",
              "      <td>0</td>\n",
              "      <td>1</td>\n",
              "      <td>0</td>\n",
              "      <td>0</td>\n",
              "      <td>0</td>\n",
              "      <td>0</td>\n",
              "      <td>1</td>\n",
              "      <td>0</td>\n",
              "      <td>0</td>\n",
              "      <td>0</td>\n",
              "      <td>0</td>\n",
              "      <td>0</td>\n",
              "      <td>0</td>\n",
              "      <td>0</td>\n",
              "      <td>0</td>\n",
              "      <td>0</td>\n",
              "      <td>0</td>\n",
              "      <td>1</td>\n",
              "      <td>0</td>\n",
              "      <td>0</td>\n",
              "      <td>0</td>\n",
              "      <td>0</td>\n",
              "      <td>1</td>\n",
              "      <td>0</td>\n",
              "      <td>0</td>\n",
              "      <td>0</td>\n",
              "      <td>0</td>\n",
              "      <td>1</td>\n",
              "      <td>0</td>\n",
              "      <td>0</td>\n",
              "      <td>0</td>\n",
              "      <td>1</td>\n",
              "      <td>0</td>\n",
              "      <td>0</td>\n",
              "      <td>0</td>\n",
              "      <td>1</td>\n",
              "      <td>0</td>\n",
              "      <td>0</td>\n",
              "      <td>1</td>\n",
              "      <td>0</td>\n",
              "      <td>0</td>\n",
              "      <td>0</td>\n",
              "      <td>1</td>\n",
              "      <td>0</td>\n",
              "      <td>0</td>\n",
              "      <td>1</td>\n",
              "      <td>0</td>\n",
              "      <td>0</td>\n",
              "      <td>0</td>\n",
              "      <td>1</td>\n",
              "      <td>1</td>\n",
              "      <td>0</td>\n",
              "    </tr>\n",
              "    <tr>\n",
              "      <th>304541</th>\n",
              "      <td>6.636365</td>\n",
              "      <td>1126.760351</td>\n",
              "      <td>4</td>\n",
              "      <td>2</td>\n",
              "      <td>21.098695</td>\n",
              "      <td>2</td>\n",
              "      <td>1</td>\n",
              "      <td>0</td>\n",
              "      <td>1</td>\n",
              "      <td>0</td>\n",
              "      <td>0</td>\n",
              "      <td>0</td>\n",
              "      <td>1</td>\n",
              "      <td>0</td>\n",
              "      <td>0</td>\n",
              "      <td>0</td>\n",
              "      <td>0</td>\n",
              "      <td>0</td>\n",
              "      <td>1</td>\n",
              "      <td>0</td>\n",
              "      <td>0</td>\n",
              "      <td>0</td>\n",
              "      <td>0</td>\n",
              "      <td>0</td>\n",
              "      <td>0</td>\n",
              "      <td>0</td>\n",
              "      <td>0</td>\n",
              "      <td>0</td>\n",
              "      <td>1</td>\n",
              "      <td>0</td>\n",
              "      <td>0</td>\n",
              "      <td>0</td>\n",
              "      <td>1</td>\n",
              "      <td>0</td>\n",
              "      <td>0</td>\n",
              "      <td>0</td>\n",
              "      <td>0</td>\n",
              "      <td>1</td>\n",
              "      <td>0</td>\n",
              "      <td>0</td>\n",
              "      <td>0</td>\n",
              "      <td>0</td>\n",
              "      <td>1</td>\n",
              "      <td>0</td>\n",
              "      <td>0</td>\n",
              "      <td>0</td>\n",
              "      <td>0</td>\n",
              "      <td>1</td>\n",
              "      <td>0</td>\n",
              "      <td>1</td>\n",
              "      <td>0</td>\n",
              "      <td>0</td>\n",
              "      <td>1</td>\n",
              "      <td>0</td>\n",
              "      <td>0</td>\n",
              "      <td>0</td>\n",
              "      <td>0</td>\n",
              "      <td>1</td>\n",
              "      <td>0</td>\n",
              "      <td>1</td>\n",
              "      <td>0</td>\n",
              "      <td>1</td>\n",
              "      <td>0</td>\n",
              "    </tr>\n",
              "    <tr>\n",
              "      <th>21294</th>\n",
              "      <td>16.269664</td>\n",
              "      <td>704.116360</td>\n",
              "      <td>3</td>\n",
              "      <td>4</td>\n",
              "      <td>34.430560</td>\n",
              "      <td>1</td>\n",
              "      <td>1</td>\n",
              "      <td>1</td>\n",
              "      <td>0</td>\n",
              "      <td>0</td>\n",
              "      <td>0</td>\n",
              "      <td>0</td>\n",
              "      <td>0</td>\n",
              "      <td>1</td>\n",
              "      <td>0</td>\n",
              "      <td>0</td>\n",
              "      <td>1</td>\n",
              "      <td>0</td>\n",
              "      <td>0</td>\n",
              "      <td>0</td>\n",
              "      <td>0</td>\n",
              "      <td>0</td>\n",
              "      <td>0</td>\n",
              "      <td>0</td>\n",
              "      <td>0</td>\n",
              "      <td>0</td>\n",
              "      <td>0</td>\n",
              "      <td>0</td>\n",
              "      <td>1</td>\n",
              "      <td>0</td>\n",
              "      <td>0</td>\n",
              "      <td>0</td>\n",
              "      <td>0</td>\n",
              "      <td>1</td>\n",
              "      <td>0</td>\n",
              "      <td>0</td>\n",
              "      <td>0</td>\n",
              "      <td>1</td>\n",
              "      <td>0</td>\n",
              "      <td>0</td>\n",
              "      <td>0</td>\n",
              "      <td>0</td>\n",
              "      <td>1</td>\n",
              "      <td>0</td>\n",
              "      <td>0</td>\n",
              "      <td>0</td>\n",
              "      <td>1</td>\n",
              "      <td>0</td>\n",
              "      <td>0</td>\n",
              "      <td>1</td>\n",
              "      <td>0</td>\n",
              "      <td>0</td>\n",
              "      <td>1</td>\n",
              "      <td>0</td>\n",
              "      <td>0</td>\n",
              "      <td>1</td>\n",
              "      <td>0</td>\n",
              "      <td>0</td>\n",
              "      <td>0</td>\n",
              "      <td>1</td>\n",
              "      <td>0</td>\n",
              "      <td>1</td>\n",
              "      <td>0</td>\n",
              "    </tr>\n",
              "    <tr>\n",
              "      <th>167157</th>\n",
              "      <td>11.981240</td>\n",
              "      <td>2070.992609</td>\n",
              "      <td>4</td>\n",
              "      <td>4</td>\n",
              "      <td>32.553405</td>\n",
              "      <td>1</td>\n",
              "      <td>1</td>\n",
              "      <td>1</td>\n",
              "      <td>0</td>\n",
              "      <td>0</td>\n",
              "      <td>0</td>\n",
              "      <td>1</td>\n",
              "      <td>0</td>\n",
              "      <td>0</td>\n",
              "      <td>0</td>\n",
              "      <td>0</td>\n",
              "      <td>0</td>\n",
              "      <td>0</td>\n",
              "      <td>1</td>\n",
              "      <td>0</td>\n",
              "      <td>0</td>\n",
              "      <td>0</td>\n",
              "      <td>0</td>\n",
              "      <td>0</td>\n",
              "      <td>0</td>\n",
              "      <td>0</td>\n",
              "      <td>0</td>\n",
              "      <td>0</td>\n",
              "      <td>1</td>\n",
              "      <td>0</td>\n",
              "      <td>0</td>\n",
              "      <td>0</td>\n",
              "      <td>0</td>\n",
              "      <td>0</td>\n",
              "      <td>1</td>\n",
              "      <td>0</td>\n",
              "      <td>0</td>\n",
              "      <td>0</td>\n",
              "      <td>1</td>\n",
              "      <td>0</td>\n",
              "      <td>0</td>\n",
              "      <td>0</td>\n",
              "      <td>0</td>\n",
              "      <td>1</td>\n",
              "      <td>0</td>\n",
              "      <td>1</td>\n",
              "      <td>0</td>\n",
              "      <td>0</td>\n",
              "      <td>0</td>\n",
              "      <td>1</td>\n",
              "      <td>0</td>\n",
              "      <td>0</td>\n",
              "      <td>0</td>\n",
              "      <td>1</td>\n",
              "      <td>0</td>\n",
              "      <td>0</td>\n",
              "      <td>0</td>\n",
              "      <td>1</td>\n",
              "      <td>0</td>\n",
              "      <td>1</td>\n",
              "      <td>0</td>\n",
              "      <td>1</td>\n",
              "      <td>0</td>\n",
              "    </tr>\n",
              "  </tbody>\n",
              "</table>\n",
              "</div>"
            ],
            "text/plain": [
              "         duration  credit_amount  ...  foreign_worker_yes  foreign_worker_no\n",
              "59433   11.991730     964.661322  ...                   1                  0\n",
              "408875  22.920562    1428.350404  ...                   1                  0\n",
              "304541   6.636365    1126.760351  ...                   1                  0\n",
              "21294   16.269664     704.116360  ...                   1                  0\n",
              "167157  11.981240    2070.992609  ...                   1                  0\n",
              "\n",
              "[5 rows x 63 columns]"
            ]
          },
          "metadata": {
            "tags": []
          },
          "execution_count": 35
        }
      ]
    },
    {
      "cell_type": "code",
      "metadata": {
        "colab_type": "code",
        "id": "_cfSi6QZiuaO",
        "colab": {
          "base_uri": "https://localhost:8080/",
          "height": 35
        },
        "outputId": "7e6ed901-f76c-47c5-d42d-e792da81a2dd"
      },
      "source": [
        "X_train_enc.shape"
      ],
      "execution_count": 36,
      "outputs": [
        {
          "output_type": "execute_result",
          "data": {
            "text/plain": [
              "(700000, 63)"
            ]
          },
          "metadata": {
            "tags": []
          },
          "execution_count": 36
        }
      ]
    },
    {
      "cell_type": "markdown",
      "metadata": {
        "id": "ptEvC1aU0UmR",
        "colab_type": "text"
      },
      "source": [
        "**One Hot Encode**"
      ]
    },
    {
      "cell_type": "code",
      "metadata": {
        "colab_type": "code",
        "id": "SV_PjElVitUs",
        "colab": {
          "base_uri": "https://localhost:8080/",
          "height": 257
        },
        "outputId": "dc723b11-bfb4-4fde-e549-b3b58d716441"
      },
      "source": [
        "# Now we should encode test data as well ...\n",
        "\n",
        "X_test_enc = ohe_enc.transform(X_test.fillna('Missing'))\n",
        "X_test_enc.head()"
      ],
      "execution_count": 37,
      "outputs": [
        {
          "output_type": "execute_result",
          "data": {
            "text/html": [
              "<div>\n",
              "<style scoped>\n",
              "    .dataframe tbody tr th:only-of-type {\n",
              "        vertical-align: middle;\n",
              "    }\n",
              "\n",
              "    .dataframe tbody tr th {\n",
              "        vertical-align: top;\n",
              "    }\n",
              "\n",
              "    .dataframe thead th {\n",
              "        text-align: right;\n",
              "    }\n",
              "</style>\n",
              "<table border=\"1\" class=\"dataframe\">\n",
              "  <thead>\n",
              "    <tr style=\"text-align: right;\">\n",
              "      <th></th>\n",
              "      <th>duration</th>\n",
              "      <th>credit_amount</th>\n",
              "      <th>installment_commitment</th>\n",
              "      <th>residence_since</th>\n",
              "      <th>age</th>\n",
              "      <th>existing_credits</th>\n",
              "      <th>num_dependents</th>\n",
              "      <th>checking_status_&lt;0</th>\n",
              "      <th>checking_status_0&lt;=X&lt;200</th>\n",
              "      <th>checking_status_'no checking'</th>\n",
              "      <th>checking_status_&gt;=200</th>\n",
              "      <th>credit_history_'existing paid'</th>\n",
              "      <th>credit_history_'critical/other existing credit'</th>\n",
              "      <th>credit_history_'all paid'</th>\n",
              "      <th>credit_history_'delayed previously'</th>\n",
              "      <th>credit_history_'no credits/all paid'</th>\n",
              "      <th>purpose_business</th>\n",
              "      <th>purpose_'domestic appliance'</th>\n",
              "      <th>purpose_'new car'</th>\n",
              "      <th>purpose_'used car'</th>\n",
              "      <th>purpose_radio/tv</th>\n",
              "      <th>purpose_furniture/equipment</th>\n",
              "      <th>purpose_education</th>\n",
              "      <th>purpose_repairs</th>\n",
              "      <th>purpose_retraining</th>\n",
              "      <th>purpose_other</th>\n",
              "      <th>purpose_vacation</th>\n",
              "      <th>savings_status_'no known savings'</th>\n",
              "      <th>savings_status_&lt;100</th>\n",
              "      <th>savings_status_100&lt;=X&lt;500</th>\n",
              "      <th>savings_status_&gt;=1000</th>\n",
              "      <th>savings_status_500&lt;=X&lt;1000</th>\n",
              "      <th>employment_1&lt;=X&lt;4</th>\n",
              "      <th>employment_&gt;=7</th>\n",
              "      <th>employment_&lt;1</th>\n",
              "      <th>employment_4&lt;=X&lt;7</th>\n",
              "      <th>employment_unemployed</th>\n",
              "      <th>personal_status_'female div/dep/mar'</th>\n",
              "      <th>personal_status_'male single'</th>\n",
              "      <th>personal_status_'male mar/wid'</th>\n",
              "      <th>personal_status_'male div/sep'</th>\n",
              "      <th>personal_status_'female single'</th>\n",
              "      <th>other_parties_none</th>\n",
              "      <th>other_parties_guarantor</th>\n",
              "      <th>other_parties_'co applicant'</th>\n",
              "      <th>property_magnitude_car</th>\n",
              "      <th>property_magnitude_'real estate'</th>\n",
              "      <th>property_magnitude_'life insurance'</th>\n",
              "      <th>property_magnitude_'no known property'</th>\n",
              "      <th>other_payment_plans_none</th>\n",
              "      <th>other_payment_plans_bank</th>\n",
              "      <th>other_payment_plans_stores</th>\n",
              "      <th>housing_own</th>\n",
              "      <th>housing_rent</th>\n",
              "      <th>housing_'for free'</th>\n",
              "      <th>job_skilled</th>\n",
              "      <th>job_'high qualif/self emp/mgmt'</th>\n",
              "      <th>job_'unskilled resident'</th>\n",
              "      <th>job_'unemp/unskilled non res'</th>\n",
              "      <th>own_telephone_none</th>\n",
              "      <th>own_telephone_yes</th>\n",
              "      <th>foreign_worker_yes</th>\n",
              "      <th>foreign_worker_no</th>\n",
              "    </tr>\n",
              "  </thead>\n",
              "  <tbody>\n",
              "    <tr>\n",
              "      <th>804268</th>\n",
              "      <td>36.095308</td>\n",
              "      <td>3841.673841</td>\n",
              "      <td>3</td>\n",
              "      <td>4</td>\n",
              "      <td>41.955041</td>\n",
              "      <td>1</td>\n",
              "      <td>1</td>\n",
              "      <td>1</td>\n",
              "      <td>0</td>\n",
              "      <td>0</td>\n",
              "      <td>0</td>\n",
              "      <td>1</td>\n",
              "      <td>0</td>\n",
              "      <td>0</td>\n",
              "      <td>0</td>\n",
              "      <td>0</td>\n",
              "      <td>1</td>\n",
              "      <td>0</td>\n",
              "      <td>0</td>\n",
              "      <td>0</td>\n",
              "      <td>0</td>\n",
              "      <td>0</td>\n",
              "      <td>0</td>\n",
              "      <td>0</td>\n",
              "      <td>0</td>\n",
              "      <td>0</td>\n",
              "      <td>0</td>\n",
              "      <td>0</td>\n",
              "      <td>1</td>\n",
              "      <td>0</td>\n",
              "      <td>0</td>\n",
              "      <td>0</td>\n",
              "      <td>0</td>\n",
              "      <td>0</td>\n",
              "      <td>1</td>\n",
              "      <td>0</td>\n",
              "      <td>0</td>\n",
              "      <td>0</td>\n",
              "      <td>1</td>\n",
              "      <td>0</td>\n",
              "      <td>0</td>\n",
              "      <td>0</td>\n",
              "      <td>1</td>\n",
              "      <td>0</td>\n",
              "      <td>0</td>\n",
              "      <td>1</td>\n",
              "      <td>0</td>\n",
              "      <td>0</td>\n",
              "      <td>0</td>\n",
              "      <td>1</td>\n",
              "      <td>0</td>\n",
              "      <td>0</td>\n",
              "      <td>1</td>\n",
              "      <td>0</td>\n",
              "      <td>0</td>\n",
              "      <td>1</td>\n",
              "      <td>0</td>\n",
              "      <td>0</td>\n",
              "      <td>0</td>\n",
              "      <td>1</td>\n",
              "      <td>0</td>\n",
              "      <td>1</td>\n",
              "      <td>0</td>\n",
              "    </tr>\n",
              "    <tr>\n",
              "      <th>750726</th>\n",
              "      <td>32.482929</td>\n",
              "      <td>11184.814109</td>\n",
              "      <td>2</td>\n",
              "      <td>4</td>\n",
              "      <td>59.190885</td>\n",
              "      <td>1</td>\n",
              "      <td>1</td>\n",
              "      <td>1</td>\n",
              "      <td>0</td>\n",
              "      <td>0</td>\n",
              "      <td>0</td>\n",
              "      <td>1</td>\n",
              "      <td>0</td>\n",
              "      <td>0</td>\n",
              "      <td>0</td>\n",
              "      <td>0</td>\n",
              "      <td>0</td>\n",
              "      <td>0</td>\n",
              "      <td>0</td>\n",
              "      <td>0</td>\n",
              "      <td>1</td>\n",
              "      <td>0</td>\n",
              "      <td>0</td>\n",
              "      <td>0</td>\n",
              "      <td>0</td>\n",
              "      <td>0</td>\n",
              "      <td>0</td>\n",
              "      <td>0</td>\n",
              "      <td>1</td>\n",
              "      <td>0</td>\n",
              "      <td>0</td>\n",
              "      <td>0</td>\n",
              "      <td>1</td>\n",
              "      <td>0</td>\n",
              "      <td>0</td>\n",
              "      <td>0</td>\n",
              "      <td>0</td>\n",
              "      <td>1</td>\n",
              "      <td>0</td>\n",
              "      <td>0</td>\n",
              "      <td>0</td>\n",
              "      <td>0</td>\n",
              "      <td>1</td>\n",
              "      <td>0</td>\n",
              "      <td>0</td>\n",
              "      <td>1</td>\n",
              "      <td>0</td>\n",
              "      <td>0</td>\n",
              "      <td>0</td>\n",
              "      <td>0</td>\n",
              "      <td>1</td>\n",
              "      <td>0</td>\n",
              "      <td>1</td>\n",
              "      <td>0</td>\n",
              "      <td>0</td>\n",
              "      <td>1</td>\n",
              "      <td>0</td>\n",
              "      <td>0</td>\n",
              "      <td>0</td>\n",
              "      <td>0</td>\n",
              "      <td>1</td>\n",
              "      <td>1</td>\n",
              "      <td>0</td>\n",
              "    </tr>\n",
              "    <tr>\n",
              "      <th>958188</th>\n",
              "      <td>24.120411</td>\n",
              "      <td>2063.852373</td>\n",
              "      <td>3</td>\n",
              "      <td>4</td>\n",
              "      <td>69.468393</td>\n",
              "      <td>1</td>\n",
              "      <td>2</td>\n",
              "      <td>0</td>\n",
              "      <td>1</td>\n",
              "      <td>0</td>\n",
              "      <td>0</td>\n",
              "      <td>1</td>\n",
              "      <td>0</td>\n",
              "      <td>0</td>\n",
              "      <td>0</td>\n",
              "      <td>0</td>\n",
              "      <td>0</td>\n",
              "      <td>0</td>\n",
              "      <td>0</td>\n",
              "      <td>0</td>\n",
              "      <td>0</td>\n",
              "      <td>1</td>\n",
              "      <td>0</td>\n",
              "      <td>0</td>\n",
              "      <td>0</td>\n",
              "      <td>0</td>\n",
              "      <td>0</td>\n",
              "      <td>0</td>\n",
              "      <td>1</td>\n",
              "      <td>0</td>\n",
              "      <td>0</td>\n",
              "      <td>0</td>\n",
              "      <td>0</td>\n",
              "      <td>1</td>\n",
              "      <td>0</td>\n",
              "      <td>0</td>\n",
              "      <td>0</td>\n",
              "      <td>0</td>\n",
              "      <td>1</td>\n",
              "      <td>0</td>\n",
              "      <td>0</td>\n",
              "      <td>0</td>\n",
              "      <td>1</td>\n",
              "      <td>0</td>\n",
              "      <td>0</td>\n",
              "      <td>0</td>\n",
              "      <td>0</td>\n",
              "      <td>0</td>\n",
              "      <td>1</td>\n",
              "      <td>1</td>\n",
              "      <td>0</td>\n",
              "      <td>0</td>\n",
              "      <td>1</td>\n",
              "      <td>0</td>\n",
              "      <td>0</td>\n",
              "      <td>0</td>\n",
              "      <td>1</td>\n",
              "      <td>0</td>\n",
              "      <td>0</td>\n",
              "      <td>1</td>\n",
              "      <td>0</td>\n",
              "      <td>1</td>\n",
              "      <td>0</td>\n",
              "    </tr>\n",
              "    <tr>\n",
              "      <th>736190</th>\n",
              "      <td>19.496582</td>\n",
              "      <td>1560.145391</td>\n",
              "      <td>2</td>\n",
              "      <td>2</td>\n",
              "      <td>34.778723</td>\n",
              "      <td>1</td>\n",
              "      <td>1</td>\n",
              "      <td>0</td>\n",
              "      <td>1</td>\n",
              "      <td>0</td>\n",
              "      <td>0</td>\n",
              "      <td>1</td>\n",
              "      <td>0</td>\n",
              "      <td>0</td>\n",
              "      <td>0</td>\n",
              "      <td>0</td>\n",
              "      <td>0</td>\n",
              "      <td>0</td>\n",
              "      <td>1</td>\n",
              "      <td>0</td>\n",
              "      <td>0</td>\n",
              "      <td>0</td>\n",
              "      <td>0</td>\n",
              "      <td>0</td>\n",
              "      <td>0</td>\n",
              "      <td>0</td>\n",
              "      <td>0</td>\n",
              "      <td>0</td>\n",
              "      <td>1</td>\n",
              "      <td>0</td>\n",
              "      <td>0</td>\n",
              "      <td>0</td>\n",
              "      <td>1</td>\n",
              "      <td>0</td>\n",
              "      <td>0</td>\n",
              "      <td>0</td>\n",
              "      <td>0</td>\n",
              "      <td>0</td>\n",
              "      <td>1</td>\n",
              "      <td>0</td>\n",
              "      <td>0</td>\n",
              "      <td>0</td>\n",
              "      <td>0</td>\n",
              "      <td>1</td>\n",
              "      <td>0</td>\n",
              "      <td>0</td>\n",
              "      <td>0</td>\n",
              "      <td>1</td>\n",
              "      <td>0</td>\n",
              "      <td>1</td>\n",
              "      <td>0</td>\n",
              "      <td>0</td>\n",
              "      <td>1</td>\n",
              "      <td>0</td>\n",
              "      <td>0</td>\n",
              "      <td>1</td>\n",
              "      <td>0</td>\n",
              "      <td>0</td>\n",
              "      <td>0</td>\n",
              "      <td>1</td>\n",
              "      <td>0</td>\n",
              "      <td>0</td>\n",
              "      <td>1</td>\n",
              "    </tr>\n",
              "    <tr>\n",
              "      <th>628380</th>\n",
              "      <td>12.693553</td>\n",
              "      <td>976.140501</td>\n",
              "      <td>4</td>\n",
              "      <td>4</td>\n",
              "      <td>39.623411</td>\n",
              "      <td>1</td>\n",
              "      <td>2</td>\n",
              "      <td>0</td>\n",
              "      <td>0</td>\n",
              "      <td>1</td>\n",
              "      <td>0</td>\n",
              "      <td>1</td>\n",
              "      <td>0</td>\n",
              "      <td>0</td>\n",
              "      <td>0</td>\n",
              "      <td>0</td>\n",
              "      <td>0</td>\n",
              "      <td>0</td>\n",
              "      <td>0</td>\n",
              "      <td>0</td>\n",
              "      <td>0</td>\n",
              "      <td>1</td>\n",
              "      <td>0</td>\n",
              "      <td>0</td>\n",
              "      <td>0</td>\n",
              "      <td>0</td>\n",
              "      <td>0</td>\n",
              "      <td>0</td>\n",
              "      <td>0</td>\n",
              "      <td>0</td>\n",
              "      <td>1</td>\n",
              "      <td>0</td>\n",
              "      <td>1</td>\n",
              "      <td>0</td>\n",
              "      <td>0</td>\n",
              "      <td>0</td>\n",
              "      <td>0</td>\n",
              "      <td>0</td>\n",
              "      <td>1</td>\n",
              "      <td>0</td>\n",
              "      <td>0</td>\n",
              "      <td>0</td>\n",
              "      <td>1</td>\n",
              "      <td>0</td>\n",
              "      <td>0</td>\n",
              "      <td>0</td>\n",
              "      <td>0</td>\n",
              "      <td>0</td>\n",
              "      <td>1</td>\n",
              "      <td>1</td>\n",
              "      <td>0</td>\n",
              "      <td>0</td>\n",
              "      <td>0</td>\n",
              "      <td>0</td>\n",
              "      <td>1</td>\n",
              "      <td>1</td>\n",
              "      <td>0</td>\n",
              "      <td>0</td>\n",
              "      <td>0</td>\n",
              "      <td>0</td>\n",
              "      <td>1</td>\n",
              "      <td>1</td>\n",
              "      <td>0</td>\n",
              "    </tr>\n",
              "  </tbody>\n",
              "</table>\n",
              "</div>"
            ],
            "text/plain": [
              "         duration  credit_amount  ...  foreign_worker_yes  foreign_worker_no\n",
              "804268  36.095308    3841.673841  ...                   1                  0\n",
              "750726  32.482929   11184.814109  ...                   1                  0\n",
              "958188  24.120411    2063.852373  ...                   1                  0\n",
              "736190  19.496582    1560.145391  ...                   0                  1\n",
              "628380  12.693553     976.140501  ...                   1                  0\n",
              "\n",
              "[5 rows x 63 columns]"
            ]
          },
          "metadata": {
            "tags": []
          },
          "execution_count": 37
        }
      ]
    },
    {
      "cell_type": "code",
      "metadata": {
        "colab_type": "code",
        "id": "BCZPoOQGlStx",
        "colab": {
          "base_uri": "https://localhost:8080/",
          "height": 35
        },
        "outputId": "10736000-b539-459e-f630-d3562d494bb3"
      },
      "source": [
        "X_test_enc.shape"
      ],
      "execution_count": 38,
      "outputs": [
        {
          "output_type": "execute_result",
          "data": {
            "text/plain": [
              "(300000, 63)"
            ]
          },
          "metadata": {
            "tags": []
          },
          "execution_count": 38
        }
      ]
    },
    {
      "cell_type": "markdown",
      "metadata": {
        "id": "y4PJTMop0hNn",
        "colab_type": "text"
      },
      "source": [
        "**Scale Data**"
      ]
    },
    {
      "cell_type": "code",
      "metadata": {
        "colab_type": "code",
        "id": "C8JnPyjiw4sh",
        "colab": {}
      },
      "source": [
        "# set up the scaler\n",
        "scaler = MaxAbsScaler()\n",
        "\n",
        "# fit the scaler to the train set, it will learn the parameters\n",
        "scaler.fit(X_train_enc)\n",
        "\n",
        "# transform train and test sets\n",
        "X_train_scaled = scaler.transform(X_train_enc)\n",
        "X_test_scaled = scaler.transform(X_test_enc)"
      ],
      "execution_count": 39,
      "outputs": []
    },
    {
      "cell_type": "code",
      "metadata": {
        "colab_type": "code",
        "id": "IkcBXytkxaRh",
        "colab": {}
      },
      "source": [
        "# let's transform the returned NumPy arrays to dataframes \n",
        "\n",
        "X_train_scaled = pd.DataFrame(X_train_scaled, columns=X_train_enc.columns)\n",
        "X_test_scaled = pd.DataFrame(X_test_scaled, columns=X_test_enc.columns)"
      ],
      "execution_count": 40,
      "outputs": []
    },
    {
      "cell_type": "code",
      "metadata": {
        "colab_type": "code",
        "id": "EPgPOCJ-xayw",
        "colab": {
          "base_uri": "https://localhost:8080/",
          "height": 349
        },
        "outputId": "2b26ef2a-f1e1-4776-a477-bb56439bbc49"
      },
      "source": [
        "np.round(X_train_scaled.describe(), 1)"
      ],
      "execution_count": 41,
      "outputs": [
        {
          "output_type": "execute_result",
          "data": {
            "text/html": [
              "<div>\n",
              "<style scoped>\n",
              "    .dataframe tbody tr th:only-of-type {\n",
              "        vertical-align: middle;\n",
              "    }\n",
              "\n",
              "    .dataframe tbody tr th {\n",
              "        vertical-align: top;\n",
              "    }\n",
              "\n",
              "    .dataframe thead th {\n",
              "        text-align: right;\n",
              "    }\n",
              "</style>\n",
              "<table border=\"1\" class=\"dataframe\">\n",
              "  <thead>\n",
              "    <tr style=\"text-align: right;\">\n",
              "      <th></th>\n",
              "      <th>duration</th>\n",
              "      <th>credit_amount</th>\n",
              "      <th>installment_commitment</th>\n",
              "      <th>residence_since</th>\n",
              "      <th>age</th>\n",
              "      <th>existing_credits</th>\n",
              "      <th>num_dependents</th>\n",
              "      <th>checking_status_&lt;0</th>\n",
              "      <th>checking_status_0&lt;=X&lt;200</th>\n",
              "      <th>checking_status_'no checking'</th>\n",
              "      <th>checking_status_&gt;=200</th>\n",
              "      <th>credit_history_'existing paid'</th>\n",
              "      <th>credit_history_'critical/other existing credit'</th>\n",
              "      <th>credit_history_'all paid'</th>\n",
              "      <th>credit_history_'delayed previously'</th>\n",
              "      <th>credit_history_'no credits/all paid'</th>\n",
              "      <th>purpose_business</th>\n",
              "      <th>purpose_'domestic appliance'</th>\n",
              "      <th>purpose_'new car'</th>\n",
              "      <th>purpose_'used car'</th>\n",
              "      <th>purpose_radio/tv</th>\n",
              "      <th>purpose_furniture/equipment</th>\n",
              "      <th>purpose_education</th>\n",
              "      <th>purpose_repairs</th>\n",
              "      <th>purpose_retraining</th>\n",
              "      <th>purpose_other</th>\n",
              "      <th>purpose_vacation</th>\n",
              "      <th>savings_status_'no known savings'</th>\n",
              "      <th>savings_status_&lt;100</th>\n",
              "      <th>savings_status_100&lt;=X&lt;500</th>\n",
              "      <th>savings_status_&gt;=1000</th>\n",
              "      <th>savings_status_500&lt;=X&lt;1000</th>\n",
              "      <th>employment_1&lt;=X&lt;4</th>\n",
              "      <th>employment_&gt;=7</th>\n",
              "      <th>employment_&lt;1</th>\n",
              "      <th>employment_4&lt;=X&lt;7</th>\n",
              "      <th>employment_unemployed</th>\n",
              "      <th>personal_status_'female div/dep/mar'</th>\n",
              "      <th>personal_status_'male single'</th>\n",
              "      <th>personal_status_'male mar/wid'</th>\n",
              "      <th>personal_status_'male div/sep'</th>\n",
              "      <th>personal_status_'female single'</th>\n",
              "      <th>other_parties_none</th>\n",
              "      <th>other_parties_guarantor</th>\n",
              "      <th>other_parties_'co applicant'</th>\n",
              "      <th>property_magnitude_car</th>\n",
              "      <th>property_magnitude_'real estate'</th>\n",
              "      <th>property_magnitude_'life insurance'</th>\n",
              "      <th>property_magnitude_'no known property'</th>\n",
              "      <th>other_payment_plans_none</th>\n",
              "      <th>other_payment_plans_bank</th>\n",
              "      <th>other_payment_plans_stores</th>\n",
              "      <th>housing_own</th>\n",
              "      <th>housing_rent</th>\n",
              "      <th>housing_'for free'</th>\n",
              "      <th>job_skilled</th>\n",
              "      <th>job_'high qualif/self emp/mgmt'</th>\n",
              "      <th>job_'unskilled resident'</th>\n",
              "      <th>job_'unemp/unskilled non res'</th>\n",
              "      <th>own_telephone_none</th>\n",
              "      <th>own_telephone_yes</th>\n",
              "      <th>foreign_worker_yes</th>\n",
              "      <th>foreign_worker_no</th>\n",
              "    </tr>\n",
              "  </thead>\n",
              "  <tbody>\n",
              "    <tr>\n",
              "      <th>count</th>\n",
              "      <td>700000.0</td>\n",
              "      <td>700000.0</td>\n",
              "      <td>700000.0</td>\n",
              "      <td>700000.0</td>\n",
              "      <td>700000.0</td>\n",
              "      <td>700000.0</td>\n",
              "      <td>700000.0</td>\n",
              "      <td>700000.0</td>\n",
              "      <td>700000.0</td>\n",
              "      <td>700000.0</td>\n",
              "      <td>700000.0</td>\n",
              "      <td>700000.0</td>\n",
              "      <td>700000.0</td>\n",
              "      <td>700000.0</td>\n",
              "      <td>700000.0</td>\n",
              "      <td>700000.0</td>\n",
              "      <td>700000.0</td>\n",
              "      <td>700000.0</td>\n",
              "      <td>700000.0</td>\n",
              "      <td>700000.0</td>\n",
              "      <td>700000.0</td>\n",
              "      <td>700000.0</td>\n",
              "      <td>700000.0</td>\n",
              "      <td>700000.0</td>\n",
              "      <td>700000.0</td>\n",
              "      <td>700000.0</td>\n",
              "      <td>700000.0</td>\n",
              "      <td>700000.0</td>\n",
              "      <td>700000.0</td>\n",
              "      <td>700000.0</td>\n",
              "      <td>700000.0</td>\n",
              "      <td>700000.0</td>\n",
              "      <td>700000.0</td>\n",
              "      <td>700000.0</td>\n",
              "      <td>700000.0</td>\n",
              "      <td>700000.0</td>\n",
              "      <td>700000.0</td>\n",
              "      <td>700000.0</td>\n",
              "      <td>700000.0</td>\n",
              "      <td>700000.0</td>\n",
              "      <td>700000.0</td>\n",
              "      <td>700000.0</td>\n",
              "      <td>700000.0</td>\n",
              "      <td>700000.0</td>\n",
              "      <td>700000.0</td>\n",
              "      <td>700000.0</td>\n",
              "      <td>700000.0</td>\n",
              "      <td>700000.0</td>\n",
              "      <td>700000.0</td>\n",
              "      <td>700000.0</td>\n",
              "      <td>700000.0</td>\n",
              "      <td>700000.0</td>\n",
              "      <td>700000.0</td>\n",
              "      <td>700000.0</td>\n",
              "      <td>700000.0</td>\n",
              "      <td>700000.0</td>\n",
              "      <td>700000.0</td>\n",
              "      <td>700000.0</td>\n",
              "      <td>700000.0</td>\n",
              "      <td>700000.0</td>\n",
              "      <td>700000.0</td>\n",
              "      <td>700000.0</td>\n",
              "      <td>700000.0</td>\n",
              "    </tr>\n",
              "    <tr>\n",
              "      <th>mean</th>\n",
              "      <td>0.3</td>\n",
              "      <td>0.1</td>\n",
              "      <td>0.7</td>\n",
              "      <td>0.7</td>\n",
              "      <td>0.4</td>\n",
              "      <td>0.4</td>\n",
              "      <td>0.6</td>\n",
              "      <td>0.3</td>\n",
              "      <td>0.3</td>\n",
              "      <td>0.4</td>\n",
              "      <td>0.1</td>\n",
              "      <td>0.5</td>\n",
              "      <td>0.3</td>\n",
              "      <td>0.0</td>\n",
              "      <td>0.1</td>\n",
              "      <td>0.0</td>\n",
              "      <td>0.1</td>\n",
              "      <td>0.0</td>\n",
              "      <td>0.2</td>\n",
              "      <td>0.1</td>\n",
              "      <td>0.3</td>\n",
              "      <td>0.2</td>\n",
              "      <td>0.1</td>\n",
              "      <td>0.0</td>\n",
              "      <td>0.0</td>\n",
              "      <td>0.0</td>\n",
              "      <td>0.0</td>\n",
              "      <td>0.2</td>\n",
              "      <td>0.6</td>\n",
              "      <td>0.1</td>\n",
              "      <td>0.1</td>\n",
              "      <td>0.1</td>\n",
              "      <td>0.3</td>\n",
              "      <td>0.3</td>\n",
              "      <td>0.2</td>\n",
              "      <td>0.2</td>\n",
              "      <td>0.1</td>\n",
              "      <td>0.3</td>\n",
              "      <td>0.5</td>\n",
              "      <td>0.1</td>\n",
              "      <td>0.1</td>\n",
              "      <td>0.0</td>\n",
              "      <td>0.9</td>\n",
              "      <td>0.1</td>\n",
              "      <td>0.0</td>\n",
              "      <td>0.3</td>\n",
              "      <td>0.3</td>\n",
              "      <td>0.2</td>\n",
              "      <td>0.2</td>\n",
              "      <td>0.8</td>\n",
              "      <td>0.1</td>\n",
              "      <td>0.1</td>\n",
              "      <td>0.7</td>\n",
              "      <td>0.2</td>\n",
              "      <td>0.1</td>\n",
              "      <td>0.6</td>\n",
              "      <td>0.1</td>\n",
              "      <td>0.2</td>\n",
              "      <td>0.0</td>\n",
              "      <td>0.6</td>\n",
              "      <td>0.4</td>\n",
              "      <td>1.0</td>\n",
              "      <td>0.0</td>\n",
              "    </tr>\n",
              "    <tr>\n",
              "      <th>std</th>\n",
              "      <td>0.2</td>\n",
              "      <td>0.1</td>\n",
              "      <td>0.3</td>\n",
              "      <td>0.3</td>\n",
              "      <td>0.1</td>\n",
              "      <td>0.2</td>\n",
              "      <td>0.2</td>\n",
              "      <td>0.4</td>\n",
              "      <td>0.4</td>\n",
              "      <td>0.5</td>\n",
              "      <td>0.2</td>\n",
              "      <td>0.5</td>\n",
              "      <td>0.5</td>\n",
              "      <td>0.2</td>\n",
              "      <td>0.3</td>\n",
              "      <td>0.2</td>\n",
              "      <td>0.3</td>\n",
              "      <td>0.1</td>\n",
              "      <td>0.4</td>\n",
              "      <td>0.3</td>\n",
              "      <td>0.4</td>\n",
              "      <td>0.4</td>\n",
              "      <td>0.2</td>\n",
              "      <td>0.1</td>\n",
              "      <td>0.1</td>\n",
              "      <td>0.1</td>\n",
              "      <td>0.0</td>\n",
              "      <td>0.4</td>\n",
              "      <td>0.5</td>\n",
              "      <td>0.3</td>\n",
              "      <td>0.2</td>\n",
              "      <td>0.2</td>\n",
              "      <td>0.5</td>\n",
              "      <td>0.4</td>\n",
              "      <td>0.4</td>\n",
              "      <td>0.4</td>\n",
              "      <td>0.2</td>\n",
              "      <td>0.5</td>\n",
              "      <td>0.5</td>\n",
              "      <td>0.3</td>\n",
              "      <td>0.2</td>\n",
              "      <td>0.0</td>\n",
              "      <td>0.3</td>\n",
              "      <td>0.2</td>\n",
              "      <td>0.2</td>\n",
              "      <td>0.5</td>\n",
              "      <td>0.5</td>\n",
              "      <td>0.4</td>\n",
              "      <td>0.4</td>\n",
              "      <td>0.4</td>\n",
              "      <td>0.3</td>\n",
              "      <td>0.2</td>\n",
              "      <td>0.5</td>\n",
              "      <td>0.4</td>\n",
              "      <td>0.3</td>\n",
              "      <td>0.5</td>\n",
              "      <td>0.4</td>\n",
              "      <td>0.4</td>\n",
              "      <td>0.2</td>\n",
              "      <td>0.5</td>\n",
              "      <td>0.5</td>\n",
              "      <td>0.2</td>\n",
              "      <td>0.2</td>\n",
              "    </tr>\n",
              "    <tr>\n",
              "      <th>min</th>\n",
              "      <td>-0.0</td>\n",
              "      <td>-0.2</td>\n",
              "      <td>0.2</td>\n",
              "      <td>0.2</td>\n",
              "      <td>0.2</td>\n",
              "      <td>0.2</td>\n",
              "      <td>0.5</td>\n",
              "      <td>0.0</td>\n",
              "      <td>0.0</td>\n",
              "      <td>0.0</td>\n",
              "      <td>0.0</td>\n",
              "      <td>0.0</td>\n",
              "      <td>0.0</td>\n",
              "      <td>0.0</td>\n",
              "      <td>0.0</td>\n",
              "      <td>0.0</td>\n",
              "      <td>0.0</td>\n",
              "      <td>0.0</td>\n",
              "      <td>0.0</td>\n",
              "      <td>0.0</td>\n",
              "      <td>0.0</td>\n",
              "      <td>0.0</td>\n",
              "      <td>0.0</td>\n",
              "      <td>0.0</td>\n",
              "      <td>0.0</td>\n",
              "      <td>0.0</td>\n",
              "      <td>0.0</td>\n",
              "      <td>0.0</td>\n",
              "      <td>0.0</td>\n",
              "      <td>0.0</td>\n",
              "      <td>0.0</td>\n",
              "      <td>0.0</td>\n",
              "      <td>0.0</td>\n",
              "      <td>0.0</td>\n",
              "      <td>0.0</td>\n",
              "      <td>0.0</td>\n",
              "      <td>0.0</td>\n",
              "      <td>0.0</td>\n",
              "      <td>0.0</td>\n",
              "      <td>0.0</td>\n",
              "      <td>0.0</td>\n",
              "      <td>0.0</td>\n",
              "      <td>0.0</td>\n",
              "      <td>0.0</td>\n",
              "      <td>0.0</td>\n",
              "      <td>0.0</td>\n",
              "      <td>0.0</td>\n",
              "      <td>0.0</td>\n",
              "      <td>0.0</td>\n",
              "      <td>0.0</td>\n",
              "      <td>0.0</td>\n",
              "      <td>0.0</td>\n",
              "      <td>0.0</td>\n",
              "      <td>0.0</td>\n",
              "      <td>0.0</td>\n",
              "      <td>0.0</td>\n",
              "      <td>0.0</td>\n",
              "      <td>0.0</td>\n",
              "      <td>0.0</td>\n",
              "      <td>0.0</td>\n",
              "      <td>0.0</td>\n",
              "      <td>0.0</td>\n",
              "      <td>0.0</td>\n",
              "    </tr>\n",
              "    <tr>\n",
              "      <th>25%</th>\n",
              "      <td>0.2</td>\n",
              "      <td>0.1</td>\n",
              "      <td>0.5</td>\n",
              "      <td>0.5</td>\n",
              "      <td>0.3</td>\n",
              "      <td>0.2</td>\n",
              "      <td>0.5</td>\n",
              "      <td>0.0</td>\n",
              "      <td>0.0</td>\n",
              "      <td>0.0</td>\n",
              "      <td>0.0</td>\n",
              "      <td>0.0</td>\n",
              "      <td>0.0</td>\n",
              "      <td>0.0</td>\n",
              "      <td>0.0</td>\n",
              "      <td>0.0</td>\n",
              "      <td>0.0</td>\n",
              "      <td>0.0</td>\n",
              "      <td>0.0</td>\n",
              "      <td>0.0</td>\n",
              "      <td>0.0</td>\n",
              "      <td>0.0</td>\n",
              "      <td>0.0</td>\n",
              "      <td>0.0</td>\n",
              "      <td>0.0</td>\n",
              "      <td>0.0</td>\n",
              "      <td>0.0</td>\n",
              "      <td>0.0</td>\n",
              "      <td>0.0</td>\n",
              "      <td>0.0</td>\n",
              "      <td>0.0</td>\n",
              "      <td>0.0</td>\n",
              "      <td>0.0</td>\n",
              "      <td>0.0</td>\n",
              "      <td>0.0</td>\n",
              "      <td>0.0</td>\n",
              "      <td>0.0</td>\n",
              "      <td>0.0</td>\n",
              "      <td>0.0</td>\n",
              "      <td>0.0</td>\n",
              "      <td>0.0</td>\n",
              "      <td>0.0</td>\n",
              "      <td>1.0</td>\n",
              "      <td>0.0</td>\n",
              "      <td>0.0</td>\n",
              "      <td>0.0</td>\n",
              "      <td>0.0</td>\n",
              "      <td>0.0</td>\n",
              "      <td>0.0</td>\n",
              "      <td>1.0</td>\n",
              "      <td>0.0</td>\n",
              "      <td>0.0</td>\n",
              "      <td>0.0</td>\n",
              "      <td>0.0</td>\n",
              "      <td>0.0</td>\n",
              "      <td>0.0</td>\n",
              "      <td>0.0</td>\n",
              "      <td>0.0</td>\n",
              "      <td>0.0</td>\n",
              "      <td>0.0</td>\n",
              "      <td>0.0</td>\n",
              "      <td>1.0</td>\n",
              "      <td>0.0</td>\n",
              "    </tr>\n",
              "    <tr>\n",
              "      <th>50%</th>\n",
              "      <td>0.2</td>\n",
              "      <td>0.1</td>\n",
              "      <td>0.8</td>\n",
              "      <td>0.8</td>\n",
              "      <td>0.4</td>\n",
              "      <td>0.2</td>\n",
              "      <td>0.5</td>\n",
              "      <td>0.0</td>\n",
              "      <td>0.0</td>\n",
              "      <td>0.0</td>\n",
              "      <td>0.0</td>\n",
              "      <td>1.0</td>\n",
              "      <td>0.0</td>\n",
              "      <td>0.0</td>\n",
              "      <td>0.0</td>\n",
              "      <td>0.0</td>\n",
              "      <td>0.0</td>\n",
              "      <td>0.0</td>\n",
              "      <td>0.0</td>\n",
              "      <td>0.0</td>\n",
              "      <td>0.0</td>\n",
              "      <td>0.0</td>\n",
              "      <td>0.0</td>\n",
              "      <td>0.0</td>\n",
              "      <td>0.0</td>\n",
              "      <td>0.0</td>\n",
              "      <td>0.0</td>\n",
              "      <td>0.0</td>\n",
              "      <td>1.0</td>\n",
              "      <td>0.0</td>\n",
              "      <td>0.0</td>\n",
              "      <td>0.0</td>\n",
              "      <td>0.0</td>\n",
              "      <td>0.0</td>\n",
              "      <td>0.0</td>\n",
              "      <td>0.0</td>\n",
              "      <td>0.0</td>\n",
              "      <td>0.0</td>\n",
              "      <td>1.0</td>\n",
              "      <td>0.0</td>\n",
              "      <td>0.0</td>\n",
              "      <td>0.0</td>\n",
              "      <td>1.0</td>\n",
              "      <td>0.0</td>\n",
              "      <td>0.0</td>\n",
              "      <td>0.0</td>\n",
              "      <td>0.0</td>\n",
              "      <td>0.0</td>\n",
              "      <td>0.0</td>\n",
              "      <td>1.0</td>\n",
              "      <td>0.0</td>\n",
              "      <td>0.0</td>\n",
              "      <td>1.0</td>\n",
              "      <td>0.0</td>\n",
              "      <td>0.0</td>\n",
              "      <td>1.0</td>\n",
              "      <td>0.0</td>\n",
              "      <td>0.0</td>\n",
              "      <td>0.0</td>\n",
              "      <td>1.0</td>\n",
              "      <td>0.0</td>\n",
              "      <td>1.0</td>\n",
              "      <td>0.0</td>\n",
              "    </tr>\n",
              "    <tr>\n",
              "      <th>75%</th>\n",
              "      <td>0.3</td>\n",
              "      <td>0.2</td>\n",
              "      <td>1.0</td>\n",
              "      <td>1.0</td>\n",
              "      <td>0.5</td>\n",
              "      <td>0.5</td>\n",
              "      <td>0.5</td>\n",
              "      <td>1.0</td>\n",
              "      <td>1.0</td>\n",
              "      <td>1.0</td>\n",
              "      <td>0.0</td>\n",
              "      <td>1.0</td>\n",
              "      <td>1.0</td>\n",
              "      <td>0.0</td>\n",
              "      <td>0.0</td>\n",
              "      <td>0.0</td>\n",
              "      <td>0.0</td>\n",
              "      <td>0.0</td>\n",
              "      <td>0.0</td>\n",
              "      <td>0.0</td>\n",
              "      <td>1.0</td>\n",
              "      <td>0.0</td>\n",
              "      <td>0.0</td>\n",
              "      <td>0.0</td>\n",
              "      <td>0.0</td>\n",
              "      <td>0.0</td>\n",
              "      <td>0.0</td>\n",
              "      <td>0.0</td>\n",
              "      <td>1.0</td>\n",
              "      <td>0.0</td>\n",
              "      <td>0.0</td>\n",
              "      <td>0.0</td>\n",
              "      <td>1.0</td>\n",
              "      <td>1.0</td>\n",
              "      <td>0.0</td>\n",
              "      <td>0.0</td>\n",
              "      <td>0.0</td>\n",
              "      <td>1.0</td>\n",
              "      <td>1.0</td>\n",
              "      <td>0.0</td>\n",
              "      <td>0.0</td>\n",
              "      <td>0.0</td>\n",
              "      <td>1.0</td>\n",
              "      <td>0.0</td>\n",
              "      <td>0.0</td>\n",
              "      <td>1.0</td>\n",
              "      <td>1.0</td>\n",
              "      <td>0.0</td>\n",
              "      <td>0.0</td>\n",
              "      <td>1.0</td>\n",
              "      <td>0.0</td>\n",
              "      <td>0.0</td>\n",
              "      <td>1.0</td>\n",
              "      <td>0.0</td>\n",
              "      <td>0.0</td>\n",
              "      <td>1.0</td>\n",
              "      <td>0.0</td>\n",
              "      <td>0.0</td>\n",
              "      <td>0.0</td>\n",
              "      <td>1.0</td>\n",
              "      <td>1.0</td>\n",
              "      <td>1.0</td>\n",
              "      <td>0.0</td>\n",
              "    </tr>\n",
              "    <tr>\n",
              "      <th>max</th>\n",
              "      <td>1.0</td>\n",
              "      <td>1.0</td>\n",
              "      <td>1.0</td>\n",
              "      <td>1.0</td>\n",
              "      <td>1.0</td>\n",
              "      <td>1.0</td>\n",
              "      <td>1.0</td>\n",
              "      <td>1.0</td>\n",
              "      <td>1.0</td>\n",
              "      <td>1.0</td>\n",
              "      <td>1.0</td>\n",
              "      <td>1.0</td>\n",
              "      <td>1.0</td>\n",
              "      <td>1.0</td>\n",
              "      <td>1.0</td>\n",
              "      <td>1.0</td>\n",
              "      <td>1.0</td>\n",
              "      <td>1.0</td>\n",
              "      <td>1.0</td>\n",
              "      <td>1.0</td>\n",
              "      <td>1.0</td>\n",
              "      <td>1.0</td>\n",
              "      <td>1.0</td>\n",
              "      <td>1.0</td>\n",
              "      <td>1.0</td>\n",
              "      <td>1.0</td>\n",
              "      <td>1.0</td>\n",
              "      <td>1.0</td>\n",
              "      <td>1.0</td>\n",
              "      <td>1.0</td>\n",
              "      <td>1.0</td>\n",
              "      <td>1.0</td>\n",
              "      <td>1.0</td>\n",
              "      <td>1.0</td>\n",
              "      <td>1.0</td>\n",
              "      <td>1.0</td>\n",
              "      <td>1.0</td>\n",
              "      <td>1.0</td>\n",
              "      <td>1.0</td>\n",
              "      <td>1.0</td>\n",
              "      <td>1.0</td>\n",
              "      <td>1.0</td>\n",
              "      <td>1.0</td>\n",
              "      <td>1.0</td>\n",
              "      <td>1.0</td>\n",
              "      <td>1.0</td>\n",
              "      <td>1.0</td>\n",
              "      <td>1.0</td>\n",
              "      <td>1.0</td>\n",
              "      <td>1.0</td>\n",
              "      <td>1.0</td>\n",
              "      <td>1.0</td>\n",
              "      <td>1.0</td>\n",
              "      <td>1.0</td>\n",
              "      <td>1.0</td>\n",
              "      <td>1.0</td>\n",
              "      <td>1.0</td>\n",
              "      <td>1.0</td>\n",
              "      <td>1.0</td>\n",
              "      <td>1.0</td>\n",
              "      <td>1.0</td>\n",
              "      <td>1.0</td>\n",
              "      <td>1.0</td>\n",
              "    </tr>\n",
              "  </tbody>\n",
              "</table>\n",
              "</div>"
            ],
            "text/plain": [
              "       duration  credit_amount  ...  foreign_worker_yes  foreign_worker_no\n",
              "count  700000.0       700000.0  ...            700000.0           700000.0\n",
              "mean        0.3            0.1  ...                 1.0                0.0\n",
              "std         0.2            0.1  ...                 0.2                0.2\n",
              "min        -0.0           -0.2  ...                 0.0                0.0\n",
              "25%         0.2            0.1  ...                 1.0                0.0\n",
              "50%         0.2            0.1  ...                 1.0                0.0\n",
              "75%         0.3            0.2  ...                 1.0                0.0\n",
              "max         1.0            1.0  ...                 1.0                1.0\n",
              "\n",
              "[8 rows x 63 columns]"
            ]
          },
          "metadata": {
            "tags": []
          },
          "execution_count": 41
        }
      ]
    },
    {
      "cell_type": "markdown",
      "metadata": {
        "id": "Gr9H1TF7ziRF",
        "colab_type": "text"
      },
      "source": [
        "We are testing if the data we have is worth it (more than 0.5 score)"
      ]
    },
    {
      "cell_type": "code",
      "metadata": {
        "colab_type": "code",
        "id": "J6iJUibIwUaZ",
        "colab": {
          "base_uri": "https://localhost:8080/",
          "height": 123
        },
        "outputId": "dd100105-798b-453c-be15-8d75ced460e9"
      },
      "source": [
        "sgd_clf = SGDClassifier(max_iter=5, tol=-np.infty, random_state=42)\n",
        "sgd_clf.fit(X_train_scaled, y_train)"
      ],
      "execution_count": 42,
      "outputs": [
        {
          "output_type": "execute_result",
          "data": {
            "text/plain": [
              "SGDClassifier(alpha=0.0001, average=False, class_weight=None,\n",
              "              early_stopping=False, epsilon=0.1, eta0=0.0, fit_intercept=True,\n",
              "              l1_ratio=0.15, learning_rate='optimal', loss='hinge', max_iter=5,\n",
              "              n_iter_no_change=5, n_jobs=None, penalty='l2', power_t=0.5,\n",
              "              random_state=42, shuffle=True, tol=-inf, validation_fraction=0.1,\n",
              "              verbose=0, warm_start=False)"
            ]
          },
          "metadata": {
            "tags": []
          },
          "execution_count": 42
        }
      ]
    },
    {
      "cell_type": "code",
      "metadata": {
        "colab_type": "code",
        "id": "q-LwrZ7rwUtB",
        "colab": {
          "base_uri": "https://localhost:8080/",
          "height": 52
        },
        "outputId": "57b5663d-ba0a-4e53-bdc6-a00e5862157c"
      },
      "source": [
        "cross_val_score(sgd_clf, X_train_scaled, y_train, cv=7, scoring=\"f1\")  ## used f1 not accuracy because it's binary"
      ],
      "execution_count": 43,
      "outputs": [
        {
          "output_type": "execute_result",
          "data": {
            "text/plain": [
              "array([0.84755633, 0.85377794, 0.84580127, 0.84937037, 0.84450524,\n",
              "       0.84543422, 0.84543145])"
            ]
          },
          "metadata": {
            "tags": []
          },
          "execution_count": 43
        }
      ]
    },
    {
      "cell_type": "code",
      "metadata": {
        "id": "Nd8FhmAg28Tp",
        "colab_type": "code",
        "colab": {}
      },
      "source": [
        "sgd_pred = sgd_clf.predict(X_test_scaled)"
      ],
      "execution_count": 44,
      "outputs": []
    },
    {
      "cell_type": "code",
      "metadata": {
        "id": "XFQxLLRJ4wgd",
        "colab_type": "code",
        "colab": {
          "base_uri": "https://localhost:8080/",
          "height": 35
        },
        "outputId": "399a0243-6455-4b40-c797-3edfa6792b70"
      },
      "source": [
        "f1_score(y_test, sgd_pred)"
      ],
      "execution_count": 45,
      "outputs": [
        {
          "output_type": "execute_result",
          "data": {
            "text/plain": [
              "0.8529303007281211"
            ]
          },
          "metadata": {
            "tags": []
          },
          "execution_count": 45
        }
      ]
    },
    {
      "cell_type": "code",
      "metadata": {
        "id": "4atvu_MLHoJl",
        "colab_type": "code",
        "colab": {
          "base_uri": "https://localhost:8080/",
          "height": 52
        },
        "outputId": "e65448dc-0584-47a3-a320-4fd8bc5e7bce"
      },
      "source": [
        "confusion_matrix(y_test, sgd_pred)"
      ],
      "execution_count": 46,
      "outputs": [
        {
          "output_type": "execute_result",
          "data": {
            "text/plain": [
              "array([[ 44079,  45989],\n",
              "       [ 19636, 190296]])"
            ]
          },
          "metadata": {
            "tags": []
          },
          "execution_count": 46
        }
      ]
    },
    {
      "cell_type": "markdown",
      "metadata": {
        "id": "PEB0QTMEqvob",
        "colab_type": "text"
      },
      "source": [
        "**Using RFE for Feature Selection**"
      ]
    },
    {
      "cell_type": "code",
      "metadata": {
        "id": "a9WzRtmprC1u",
        "colab_type": "code",
        "colab": {
          "base_uri": "https://localhost:8080/",
          "height": 1000
        },
        "outputId": "240cd24b-0c76-475c-ff98-26b9424d5bea"
      },
      "source": [
        "data_vars=X_train_scaled.columns.values.tolist()\n",
        "y=['y']\n",
        "X=[i for i in data_vars if i not in y]\n",
        "from sklearn.feature_selection import RFE\n",
        "from sklearn.linear_model import LogisticRegression\n",
        "logreg = LogisticRegression()\n",
        "rfe = RFE(logreg, 20)\n",
        "rfe = rfe.fit(X_train_scaled, y_train.values.ravel())\n",
        "print(rfe.support_)\n",
        "print(rfe.ranking_)\n",
        "\n",
        "features = list(X_train_scaled.columns)\n",
        "support=rfe.support_\n",
        "ranking =rfe.ranking_\n",
        "\n",
        "feature_ranking = pd.DataFrame(list(zip(features,support, ranking)), columns =['Features', 'Support','Ranking'])\n",
        "supported_features_list=feature_ranking.index[feature_ranking['Support']==True].tolist()\n",
        "\n",
        "supported_features_list_name = []\n",
        "for i in supported_features_list:\n",
        "    supported_features_list_name.append(features[i])\n",
        "\n",
        "\n"
      ],
      "execution_count": 47,
      "outputs": [
        {
          "output_type": "stream",
          "text": [
            "/usr/local/lib/python3.6/dist-packages/sklearn/linear_model/_logistic.py:940: ConvergenceWarning: lbfgs failed to converge (status=1):\n",
            "STOP: TOTAL NO. of ITERATIONS REACHED LIMIT.\n",
            "\n",
            "Increase the number of iterations (max_iter) or scale the data as shown in:\n",
            "    https://scikit-learn.org/stable/modules/preprocessing.html\n",
            "Please also refer to the documentation for alternative solver options:\n",
            "    https://scikit-learn.org/stable/modules/linear_model.html#logistic-regression\n",
            "  extra_warning_msg=_LOGISTIC_SOLVER_CONVERGENCE_MSG)\n",
            "/usr/local/lib/python3.6/dist-packages/sklearn/linear_model/_logistic.py:940: ConvergenceWarning: lbfgs failed to converge (status=1):\n",
            "STOP: TOTAL NO. of ITERATIONS REACHED LIMIT.\n",
            "\n",
            "Increase the number of iterations (max_iter) or scale the data as shown in:\n",
            "    https://scikit-learn.org/stable/modules/preprocessing.html\n",
            "Please also refer to the documentation for alternative solver options:\n",
            "    https://scikit-learn.org/stable/modules/linear_model.html#logistic-regression\n",
            "  extra_warning_msg=_LOGISTIC_SOLVER_CONVERGENCE_MSG)\n",
            "/usr/local/lib/python3.6/dist-packages/sklearn/linear_model/_logistic.py:940: ConvergenceWarning: lbfgs failed to converge (status=1):\n",
            "STOP: TOTAL NO. of ITERATIONS REACHED LIMIT.\n",
            "\n",
            "Increase the number of iterations (max_iter) or scale the data as shown in:\n",
            "    https://scikit-learn.org/stable/modules/preprocessing.html\n",
            "Please also refer to the documentation for alternative solver options:\n",
            "    https://scikit-learn.org/stable/modules/linear_model.html#logistic-regression\n",
            "  extra_warning_msg=_LOGISTIC_SOLVER_CONVERGENCE_MSG)\n",
            "/usr/local/lib/python3.6/dist-packages/sklearn/linear_model/_logistic.py:940: ConvergenceWarning: lbfgs failed to converge (status=1):\n",
            "STOP: TOTAL NO. of ITERATIONS REACHED LIMIT.\n",
            "\n",
            "Increase the number of iterations (max_iter) or scale the data as shown in:\n",
            "    https://scikit-learn.org/stable/modules/preprocessing.html\n",
            "Please also refer to the documentation for alternative solver options:\n",
            "    https://scikit-learn.org/stable/modules/linear_model.html#logistic-regression\n",
            "  extra_warning_msg=_LOGISTIC_SOLVER_CONVERGENCE_MSG)\n",
            "/usr/local/lib/python3.6/dist-packages/sklearn/linear_model/_logistic.py:940: ConvergenceWarning: lbfgs failed to converge (status=1):\n",
            "STOP: TOTAL NO. of ITERATIONS REACHED LIMIT.\n",
            "\n",
            "Increase the number of iterations (max_iter) or scale the data as shown in:\n",
            "    https://scikit-learn.org/stable/modules/preprocessing.html\n",
            "Please also refer to the documentation for alternative solver options:\n",
            "    https://scikit-learn.org/stable/modules/linear_model.html#logistic-regression\n",
            "  extra_warning_msg=_LOGISTIC_SOLVER_CONVERGENCE_MSG)\n",
            "/usr/local/lib/python3.6/dist-packages/sklearn/linear_model/_logistic.py:940: ConvergenceWarning: lbfgs failed to converge (status=1):\n",
            "STOP: TOTAL NO. of ITERATIONS REACHED LIMIT.\n",
            "\n",
            "Increase the number of iterations (max_iter) or scale the data as shown in:\n",
            "    https://scikit-learn.org/stable/modules/preprocessing.html\n",
            "Please also refer to the documentation for alternative solver options:\n",
            "    https://scikit-learn.org/stable/modules/linear_model.html#logistic-regression\n",
            "  extra_warning_msg=_LOGISTIC_SOLVER_CONVERGENCE_MSG)\n"
          ],
          "name": "stderr"
        },
        {
          "output_type": "stream",
          "text": [
            "[ True False False False  True  True False False False  True  True False\n",
            "  True  True False  True False False False  True  True False False False\n",
            "  True False  True False  True  True False False False False False False\n",
            " False False False False False  True False  True  True False False False\n",
            "  True False False False  True False False False False False False False\n",
            " False False  True]\n",
            "[ 1 39  8 24  1  1 15  9 10  1  1 20  1  1 19  1 33 38 26  1  1 41 12 32\n",
            "  1 16  1 23  1  1 21 34 40 22  3  5 25 37  7  6 17  1 27  1  1 36 11 35\n",
            "  1  4 42 43  1 28  2 31 13 29 30 44 14 18  1]\n"
          ],
          "name": "stdout"
        }
      ]
    },
    {
      "cell_type": "code",
      "metadata": {
        "id": "X4odUdFHu8__",
        "colab_type": "code",
        "colab": {
          "base_uri": "https://localhost:8080/",
          "height": 246
        },
        "outputId": "1f4a9d15-18dd-4b79-cdc2-b1a9f8389059"
      },
      "source": [
        "#select the features from X_tr:\n",
        "X_tr_RFE=  X_train_scaled.loc[:,supported_features_list_name]\n",
        "\n",
        "#######################################################################\n",
        "#bench mark\n",
        "from sklearn.linear_model import LogisticRegression\n",
        "logReg = LogisticRegression(random_state=0).fit(X_train_scaled, y_train)\n",
        "\n",
        "logReg.predict(X_train_scaled)\n",
        "logReg.predict_proba(X_train_scaled)\n",
        "\n",
        "print (\"benchmark:\")\n",
        "print (logReg.score(X_train_scaled, y_train))\n",
        "\n",
        "############################################################\n",
        "#rfe#\n",
        "logReg_RFE = LogisticRegression(random_state=0).fit(X_tr_RFE, y_train)\n",
        "\n",
        "logReg_RFE.predict(X_tr_RFE)\n",
        "logReg_RFE.predict_proba(X_tr_RFE)\n",
        "\n",
        "print (\"RFE:\")\n",
        "print (logReg_RFE.score(X_tr_RFE, y_train))\n",
        "\n",
        "print (\"RFE is not applicable to the data set's feature selection as many features are categorial data, as demoed in the score, removing the unsupported features, the accuracy is dropped\")\n"
      ],
      "execution_count": 48,
      "outputs": [
        {
          "output_type": "stream",
          "text": [
            "/usr/local/lib/python3.6/dist-packages/sklearn/linear_model/_logistic.py:940: ConvergenceWarning: lbfgs failed to converge (status=1):\n",
            "STOP: TOTAL NO. of ITERATIONS REACHED LIMIT.\n",
            "\n",
            "Increase the number of iterations (max_iter) or scale the data as shown in:\n",
            "    https://scikit-learn.org/stable/modules/preprocessing.html\n",
            "Please also refer to the documentation for alternative solver options:\n",
            "    https://scikit-learn.org/stable/modules/linear_model.html#logistic-regression\n",
            "  extra_warning_msg=_LOGISTIC_SOLVER_CONVERGENCE_MSG)\n"
          ],
          "name": "stderr"
        },
        {
          "output_type": "stream",
          "text": [
            "benchmark:\n",
            "0.78415\n",
            "RFE:\n",
            "0.7708985714285714\n",
            "RFE is not applicable to the data set's feature selection as many features are categorial data, as demoed in the score, removing the unsupported features, the accuracy is dropped\n"
          ],
          "name": "stdout"
        }
      ]
    },
    {
      "cell_type": "markdown",
      "metadata": {
        "id": "eFp3ChVBqgM_",
        "colab_type": "text"
      },
      "source": [
        "RFE is not applicable to the data set's feature selection as many features are categorial data, as demoed in the score, removing the unsupported features, the accuracy is dropped"
      ]
    },
    {
      "cell_type": "markdown",
      "metadata": {
        "id": "Yt0aMByUq2Pv",
        "colab_type": "text"
      },
      "source": [
        "Data looks good, now we can go wild on prediction models."
      ]
    },
    {
      "cell_type": "markdown",
      "metadata": {
        "id": "hq3oK2sAH9Ea",
        "colab_type": "text"
      },
      "source": [
        "**Decision Tree Classifier**"
      ]
    },
    {
      "cell_type": "code",
      "metadata": {
        "id": "dZZiZZ0JJ9fq",
        "colab_type": "code",
        "colab": {
          "base_uri": "https://localhost:8080/",
          "height": 52
        },
        "outputId": "42741323-94b5-41ee-bdc2-1727d39d0b54"
      },
      "source": [
        "m_dtc = tree.DecisionTreeClassifier()\n",
        "\n",
        "m_dtc.fit(X_train_scaled,y_train)\n",
        "\n",
        "cross_val_score(m_dtc, X_train_scaled, y_train, cv=7, scoring=\"f1\")"
      ],
      "execution_count": 49,
      "outputs": [
        {
          "output_type": "execute_result",
          "data": {
            "text/plain": [
              "array([0.79776319, 0.79819377, 0.79727271, 0.79887349, 0.79786853,\n",
              "       0.79869561, 0.79773635])"
            ]
          },
          "metadata": {
            "tags": []
          },
          "execution_count": 49
        }
      ]
    },
    {
      "cell_type": "code",
      "metadata": {
        "id": "VheidwFTEZ_1",
        "colab_type": "code",
        "colab": {}
      },
      "source": [
        "pred_dtc =m_dtc.predict(X_test_scaled)"
      ],
      "execution_count": 50,
      "outputs": []
    },
    {
      "cell_type": "code",
      "metadata": {
        "id": "NA9UxBTmELHN",
        "colab_type": "code",
        "colab": {
          "base_uri": "https://localhost:8080/",
          "height": 35
        },
        "outputId": "472749a1-7fcf-430b-bac3-7476685f970c"
      },
      "source": [
        "f1_score(y_test, pred_dtc)"
      ],
      "execution_count": 51,
      "outputs": [
        {
          "output_type": "execute_result",
          "data": {
            "text/plain": [
              "0.7984648224411911"
            ]
          },
          "metadata": {
            "tags": []
          },
          "execution_count": 51
        }
      ]
    },
    {
      "cell_type": "code",
      "metadata": {
        "id": "hBnnzENrHzAP",
        "colab_type": "code",
        "colab": {
          "base_uri": "https://localhost:8080/",
          "height": 52
        },
        "outputId": "4a5499a9-e742-471f-ebb7-455b50f27bba"
      },
      "source": [
        "confusion_matrix(y_test, pred_dtc)"
      ],
      "execution_count": 52,
      "outputs": [
        {
          "output_type": "execute_result",
          "data": {
            "text/plain": [
              "array([[ 49233,  40835],\n",
              "       [ 43288, 166644]])"
            ]
          },
          "metadata": {
            "tags": []
          },
          "execution_count": 52
        }
      ]
    },
    {
      "cell_type": "markdown",
      "metadata": {
        "id": "GZS4MCq6IHO2",
        "colab_type": "text"
      },
      "source": [
        "**Logistic Regression**"
      ]
    },
    {
      "cell_type": "code",
      "metadata": {
        "id": "ADZSi6JCKfFi",
        "colab_type": "code",
        "colab": {
          "base_uri": "https://localhost:8080/",
          "height": 897
        },
        "outputId": "a2cbf678-52d4-4503-ef99-e2966d7345ef"
      },
      "source": [
        "m_lg= LogisticRegression()\n",
        "\n",
        "m_lg.fit(X_train_scaled,y_train)\n",
        "\n",
        "cross_val_score(m_lg, X_train_scaled, y_train, cv=7, scoring=\"f1\")"
      ],
      "execution_count": 53,
      "outputs": [
        {
          "output_type": "stream",
          "text": [
            "/usr/local/lib/python3.6/dist-packages/sklearn/linear_model/_logistic.py:940: ConvergenceWarning: lbfgs failed to converge (status=1):\n",
            "STOP: TOTAL NO. of ITERATIONS REACHED LIMIT.\n",
            "\n",
            "Increase the number of iterations (max_iter) or scale the data as shown in:\n",
            "    https://scikit-learn.org/stable/modules/preprocessing.html\n",
            "Please also refer to the documentation for alternative solver options:\n",
            "    https://scikit-learn.org/stable/modules/linear_model.html#logistic-regression\n",
            "  extra_warning_msg=_LOGISTIC_SOLVER_CONVERGENCE_MSG)\n",
            "/usr/local/lib/python3.6/dist-packages/sklearn/linear_model/_logistic.py:940: ConvergenceWarning: lbfgs failed to converge (status=1):\n",
            "STOP: TOTAL NO. of ITERATIONS REACHED LIMIT.\n",
            "\n",
            "Increase the number of iterations (max_iter) or scale the data as shown in:\n",
            "    https://scikit-learn.org/stable/modules/preprocessing.html\n",
            "Please also refer to the documentation for alternative solver options:\n",
            "    https://scikit-learn.org/stable/modules/linear_model.html#logistic-regression\n",
            "  extra_warning_msg=_LOGISTIC_SOLVER_CONVERGENCE_MSG)\n",
            "/usr/local/lib/python3.6/dist-packages/sklearn/linear_model/_logistic.py:940: ConvergenceWarning: lbfgs failed to converge (status=1):\n",
            "STOP: TOTAL NO. of ITERATIONS REACHED LIMIT.\n",
            "\n",
            "Increase the number of iterations (max_iter) or scale the data as shown in:\n",
            "    https://scikit-learn.org/stable/modules/preprocessing.html\n",
            "Please also refer to the documentation for alternative solver options:\n",
            "    https://scikit-learn.org/stable/modules/linear_model.html#logistic-regression\n",
            "  extra_warning_msg=_LOGISTIC_SOLVER_CONVERGENCE_MSG)\n",
            "/usr/local/lib/python3.6/dist-packages/sklearn/linear_model/_logistic.py:940: ConvergenceWarning: lbfgs failed to converge (status=1):\n",
            "STOP: TOTAL NO. of ITERATIONS REACHED LIMIT.\n",
            "\n",
            "Increase the number of iterations (max_iter) or scale the data as shown in:\n",
            "    https://scikit-learn.org/stable/modules/preprocessing.html\n",
            "Please also refer to the documentation for alternative solver options:\n",
            "    https://scikit-learn.org/stable/modules/linear_model.html#logistic-regression\n",
            "  extra_warning_msg=_LOGISTIC_SOLVER_CONVERGENCE_MSG)\n",
            "/usr/local/lib/python3.6/dist-packages/sklearn/linear_model/_logistic.py:940: ConvergenceWarning: lbfgs failed to converge (status=1):\n",
            "STOP: TOTAL NO. of ITERATIONS REACHED LIMIT.\n",
            "\n",
            "Increase the number of iterations (max_iter) or scale the data as shown in:\n",
            "    https://scikit-learn.org/stable/modules/preprocessing.html\n",
            "Please also refer to the documentation for alternative solver options:\n",
            "    https://scikit-learn.org/stable/modules/linear_model.html#logistic-regression\n",
            "  extra_warning_msg=_LOGISTIC_SOLVER_CONVERGENCE_MSG)\n",
            "/usr/local/lib/python3.6/dist-packages/sklearn/linear_model/_logistic.py:940: ConvergenceWarning: lbfgs failed to converge (status=1):\n",
            "STOP: TOTAL NO. of ITERATIONS REACHED LIMIT.\n",
            "\n",
            "Increase the number of iterations (max_iter) or scale the data as shown in:\n",
            "    https://scikit-learn.org/stable/modules/preprocessing.html\n",
            "Please also refer to the documentation for alternative solver options:\n",
            "    https://scikit-learn.org/stable/modules/linear_model.html#logistic-regression\n",
            "  extra_warning_msg=_LOGISTIC_SOLVER_CONVERGENCE_MSG)\n"
          ],
          "name": "stderr"
        },
        {
          "output_type": "execute_result",
          "data": {
            "text/plain": [
              "array([0.8525432 , 0.85394866, 0.85369253, 0.85308302, 0.85266326,\n",
              "       0.85300373, 0.8533935 ])"
            ]
          },
          "metadata": {
            "tags": []
          },
          "execution_count": 53
        }
      ]
    },
    {
      "cell_type": "code",
      "metadata": {
        "id": "Z2hZwzuUE2qg",
        "colab_type": "code",
        "colab": {}
      },
      "source": [
        "pred_lg=m_lg.predict(X_test_scaled)"
      ],
      "execution_count": 54,
      "outputs": []
    },
    {
      "cell_type": "code",
      "metadata": {
        "id": "SkcxeA8i6DOB",
        "colab_type": "code",
        "colab": {
          "base_uri": "https://localhost:8080/",
          "height": 35
        },
        "outputId": "6abf698c-4048-49b1-f663-ab48b104cdde"
      },
      "source": [
        "f1_score(y_test, pred_lg)"
      ],
      "execution_count": 55,
      "outputs": [
        {
          "output_type": "execute_result",
          "data": {
            "text/plain": [
              "0.8532185340432763"
            ]
          },
          "metadata": {
            "tags": []
          },
          "execution_count": 55
        }
      ]
    },
    {
      "cell_type": "code",
      "metadata": {
        "id": "98-pMnISex4d",
        "colab_type": "code",
        "colab": {
          "base_uri": "https://localhost:8080/",
          "height": 52
        },
        "outputId": "dde01e6f-ee28-4863-c4cb-9e161a5bd70e"
      },
      "source": [
        "confusion_matrix(y_test, pred_lg)"
      ],
      "execution_count": 56,
      "outputs": [
        {
          "output_type": "execute_result",
          "data": {
            "text/plain": [
              "array([[ 46934,  43134],\n",
              "       [ 21648, 188284]])"
            ]
          },
          "metadata": {
            "tags": []
          },
          "execution_count": 56
        }
      ]
    },
    {
      "cell_type": "markdown",
      "metadata": {
        "id": "zzolC9mJITJI",
        "colab_type": "text"
      },
      "source": [
        "**SGD Classifier**"
      ]
    },
    {
      "cell_type": "code",
      "metadata": {
        "id": "MoDJBFPDKeZq",
        "colab_type": "code",
        "colab": {
          "base_uri": "https://localhost:8080/",
          "height": 52
        },
        "outputId": "3d84ccf0-3ef4-4fc5-9f45-6e850de5aaf9"
      },
      "source": [
        "m_sgd = SGDClassifier(max_iter=5, tol=-np.infty, random_state=42)\n",
        "\n",
        "m_sgd.fit(X_train_scaled, y_train)\n",
        "\n",
        "cross_val_score(m_sgd, X_train_scaled, y_train, cv=7, scoring=\"f1\")"
      ],
      "execution_count": 57,
      "outputs": [
        {
          "output_type": "execute_result",
          "data": {
            "text/plain": [
              "array([0.84755633, 0.85377794, 0.84580127, 0.84937037, 0.84450524,\n",
              "       0.84543422, 0.84543145])"
            ]
          },
          "metadata": {
            "tags": []
          },
          "execution_count": 57
        }
      ]
    },
    {
      "cell_type": "code",
      "metadata": {
        "id": "ZDwBPtUBFAVu",
        "colab_type": "code",
        "colab": {}
      },
      "source": [
        "pred_sgd =m_sgd.predict(X_test_scaled)"
      ],
      "execution_count": 58,
      "outputs": []
    },
    {
      "cell_type": "code",
      "metadata": {
        "id": "QEKeam1o6TKh",
        "colab_type": "code",
        "colab": {
          "base_uri": "https://localhost:8080/",
          "height": 35
        },
        "outputId": "3238f188-3cef-4241-cca2-8476b72d0bd2"
      },
      "source": [
        "f1_score(y_test, pred_sgd)"
      ],
      "execution_count": 59,
      "outputs": [
        {
          "output_type": "execute_result",
          "data": {
            "text/plain": [
              "0.8529303007281211"
            ]
          },
          "metadata": {
            "tags": []
          },
          "execution_count": 59
        }
      ]
    },
    {
      "cell_type": "code",
      "metadata": {
        "id": "RHA-q-yQIbdV",
        "colab_type": "code",
        "colab": {
          "base_uri": "https://localhost:8080/",
          "height": 52
        },
        "outputId": "f4ea25a7-1be4-4fe0-9f23-30abdf3e58ad"
      },
      "source": [
        "confusion_matrix(y_test, pred_sgd)"
      ],
      "execution_count": 60,
      "outputs": [
        {
          "output_type": "execute_result",
          "data": {
            "text/plain": [
              "array([[ 44079,  45989],\n",
              "       [ 19636, 190296]])"
            ]
          },
          "metadata": {
            "tags": []
          },
          "execution_count": 60
        }
      ]
    },
    {
      "cell_type": "code",
      "metadata": {
        "id": "MmouMof55mgy",
        "colab_type": "code",
        "colab": {}
      },
      "source": [
        "# Tried MLPClassifier, RandomForestClassifier, ExtraTreesClassifier, KNeighborsClassifier, SVM \n",
        "#They took too long, 85% is not bad :)"
      ],
      "execution_count": 61,
      "outputs": []
    },
    {
      "cell_type": "markdown",
      "metadata": {
        "id": "fN_gYPre9xSO",
        "colab_type": "text"
      },
      "source": [
        "**Let's see hyper parameter for the best modele, LogisticRegression**"
      ]
    },
    {
      "cell_type": "code",
      "metadata": {
        "colab_type": "code",
        "id": "BqBkkM6MNJC0",
        "colab": {
          "base_uri": "https://localhost:8080/",
          "height": 158
        },
        "outputId": "8c886230-fd03-433b-b45c-3a7b4147517f"
      },
      "source": [
        "# took too long\n",
        "# now commenting it to run pipeline #'#\n",
        "\n",
        "\n",
        "from sklearn.model_selection import GridSearchCV\n",
        "\n",
        "penalty = ['l1', 'l2']\n",
        "C = [0.0001, 0.001, 0.01, 0.1, 1, 10, 100, 1000]\n",
        "class_weight = [{1:0.5, 0:0.5}, {1:0.4, 0:0.6}, {1:0.6, 0:0.4}, {1:0.7, 0:0.3}]\n",
        "solver = ['liblinear', 'saga']\n",
        "\n",
        "param_grid = dict(penalty=penalty,\n",
        "                  C=C,\n",
        "                  class_weight=class_weight,\n",
        "                  solver=solver)\n",
        "\n",
        "grid = GridSearchCV(estimator=LogisticRegression(), #logistic\n",
        "                    param_grid=param_grid,\n",
        "                    scoring='f1',\n",
        "                    verbose=1,\n",
        "                    n_jobs=-1)\n",
        "grid_result = grid.fit(X_train_scaled, y_train)\n",
        "\n",
        "print('Best Score: ', grid_result.best_score_)\n",
        "print('Best Params: ', grid_result.best_params_)\n"
      ],
      "execution_count": 62,
      "outputs": [
        {
          "output_type": "stream",
          "text": [
            "Fitting 5 folds for each of 128 candidates, totalling 640 fits\n"
          ],
          "name": "stdout"
        },
        {
          "output_type": "stream",
          "text": [
            "[Parallel(n_jobs=-1)]: Using backend LokyBackend with 2 concurrent workers.\n",
            "[Parallel(n_jobs=-1)]: Done  46 tasks      | elapsed:  4.0min\n",
            "[Parallel(n_jobs=-1)]: Done 196 tasks      | elapsed: 21.5min\n",
            "[Parallel(n_jobs=-1)]: Done 446 tasks      | elapsed: 132.8min\n",
            "[Parallel(n_jobs=-1)]: Done 640 out of 640 | elapsed: 189.1min finished\n"
          ],
          "name": "stderr"
        },
        {
          "output_type": "stream",
          "text": [
            "Best Score:  0.854708796697307\n",
            "Best Params:  {'C': 100, 'class_weight': {1: 0.6, 0: 0.4}, 'penalty': 'l2', 'solver': 'saga'}\n"
          ],
          "name": "stdout"
        }
      ]
    },
    {
      "cell_type": "markdown",
      "metadata": {
        "id": "PoYxSWr1u8Tq",
        "colab_type": "text"
      },
      "source": [
        "So, our final model is LogisticRegression with:\n",
        "{'C': 1, 'class_weight': {1: 0.6, 0: 0.4}, 'penalty': 'l1', 'solver': 'liblinear'}"
      ]
    },
    {
      "cell_type": "code",
      "metadata": {
        "id": "DVNkIir3wWH-",
        "colab_type": "code",
        "colab": {}
      },
      "source": [
        "best_pred = grid_result.predict(X_test_scaled)"
      ],
      "execution_count": 64,
      "outputs": []
    },
    {
      "cell_type": "code",
      "metadata": {
        "id": "SVwfniKsy74v",
        "colab_type": "code",
        "colab": {
          "base_uri": "https://localhost:8080/",
          "height": 35
        },
        "outputId": "c6a33338-7665-4ceb-b945-d7453d59e05a"
      },
      "source": [
        "f1_score(y_test, best_pred)"
      ],
      "execution_count": 65,
      "outputs": [
        {
          "output_type": "execute_result",
          "data": {
            "text/plain": [
              "0.8547144387243892"
            ]
          },
          "metadata": {
            "tags": []
          },
          "execution_count": 65
        }
      ]
    },
    {
      "cell_type": "code",
      "metadata": {
        "id": "6r5rQVqjzVdK",
        "colab_type": "code",
        "colab": {
          "base_uri": "https://localhost:8080/",
          "height": 52
        },
        "outputId": "87a62b11-7f20-4887-9fe6-45891b07cf3f"
      },
      "source": [
        "confusion_matrix(y_test, best_pred)"
      ],
      "execution_count": 66,
      "outputs": [
        {
          "output_type": "execute_result",
          "data": {
            "text/plain": [
              "array([[ 34816,  55252],\n",
              "       [ 12028, 197904]])"
            ]
          },
          "metadata": {
            "tags": []
          },
          "execution_count": 66
        }
      ]
    },
    {
      "cell_type": "markdown",
      "metadata": {
        "id": "-fPHkORGeRW1",
        "colab_type": "text"
      },
      "source": [
        "**Pipeline**"
      ]
    },
    {
      "cell_type": "markdown",
      "metadata": {
        "id": "gF8rDOn3qGyW",
        "colab_type": "text"
      },
      "source": [
        "\n",
        "Pipelines steps\n",
        "1. Data Preprocessing by using One hot encoding\n",
        "2. Data Preprocessing by using Max Abs Scaler\n",
        "3. Apply LogisticRegression with choosen params"
      ]
    },
    {
      "cell_type": "code",
      "metadata": {
        "id": "epikmqbSeTnE",
        "colab_type": "code",
        "colab": {}
      },
      "source": [
        "# pipeline in progress\n",
        "\n",
        "\n",
        "\n",
        "#Below is creating a pipeline with 3 steps\n",
        "m_final_pipe = Pipeline([\n",
        "        \n",
        "        ('OHE', OneHotEncoder(handle_unknown=\"ignore\")),\n",
        "        (\"scaler\", MaxAbsScaler()),\n",
        "        (\"m_lg_best\", LogisticRegression(C= 1, class_weight= {1: 0.6, 0: 0.4}, penalty= 'l1', solver= 'liblinear', random_state=0))\n",
        "    ])\n"
      ],
      "execution_count": 67,
      "outputs": []
    },
    {
      "cell_type": "code",
      "metadata": {
        "id": "eorZRmeKeTwY",
        "colab_type": "code",
        "colab": {
          "base_uri": "https://localhost:8080/",
          "height": 281
        },
        "outputId": "adf9cf45-6c2d-4be7-aecc-465a176dd3cc"
      },
      "source": [
        "m_final_pipe.fit(X_train_scaled, y_train)"
      ],
      "execution_count": 68,
      "outputs": [
        {
          "output_type": "execute_result",
          "data": {
            "text/plain": [
              "Pipeline(memory=None,\n",
              "         steps=[('OHE',\n",
              "                 OneHotEncoder(categories='auto', drop=None,\n",
              "                               dtype=<class 'numpy.float64'>,\n",
              "                               handle_unknown='ignore', sparse=True)),\n",
              "                ('scaler', MaxAbsScaler(copy=True)),\n",
              "                ('m_lg_best',\n",
              "                 LogisticRegression(C=1, class_weight={0: 0.4, 1: 0.6},\n",
              "                                    dual=False, fit_intercept=True,\n",
              "                                    intercept_scaling=1, l1_ratio=None,\n",
              "                                    max_iter=100, multi_class='auto',\n",
              "                                    n_jobs=None, penalty='l1', random_state=0,\n",
              "                                    solver='liblinear', tol=0.0001, verbose=0,\n",
              "                                    warm_start=False))],\n",
              "         verbose=False)"
            ]
          },
          "metadata": {
            "tags": []
          },
          "execution_count": 68
        }
      ]
    },
    {
      "cell_type": "code",
      "metadata": {
        "id": "Sgvdz2EYeT1G",
        "colab_type": "code",
        "colab": {}
      },
      "source": [
        ""
      ],
      "execution_count": null,
      "outputs": []
    },
    {
      "cell_type": "code",
      "metadata": {
        "id": "X6-pisi9eTsd",
        "colab_type": "code",
        "colab": {}
      },
      "source": [
        ""
      ],
      "execution_count": null,
      "outputs": []
    }
  ]
}