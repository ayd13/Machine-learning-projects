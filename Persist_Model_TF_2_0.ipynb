{
  "nbformat": 4,
  "nbformat_minor": 0,
  "metadata": {
    "colab": {
      "name": "Persist Model TF 2.0.ipynb",
      "provenance": [],
      "collapsed_sections": [],
      "include_colab_link": true
    },
    "kernelspec": {
      "name": "python3",
      "display_name": "Python 3"
    }
  },
  "cells": [
    {
      "cell_type": "markdown",
      "metadata": {
        "id": "view-in-github",
        "colab_type": "text"
      },
      "source": [
        "<a href=\"https://colab.research.google.com/github/ayd13/Machine-learning-projects/blob/master/Persist_Model_TF_2_0.ipynb\" target=\"_parent\"><img src=\"https://colab.research.google.com/assets/colab-badge.svg\" alt=\"Open In Colab\"/></a>"
      ]
    },
    {
      "cell_type": "code",
      "metadata": {
        "id": "NVPvFl3gBD3r",
        "colab_type": "code",
        "colab": {}
      },
      "source": [
        "#from __future__ import absolute_import, division, print_function, unicode_literals\n",
        "#!pip install -q tensorflow==2.0.0-beta1\n",
        "import tensorflow as tf"
      ],
      "execution_count": null,
      "outputs": []
    },
    {
      "cell_type": "markdown",
      "metadata": {
        "id": "DFHTWxLQBUco",
        "colab_type": "text"
      },
      "source": [
        "# Train a Keras model"
      ]
    },
    {
      "cell_type": "code",
      "metadata": {
        "id": "aq_U1kiNBVRA",
        "colab_type": "code",
        "colab": {
          "base_uri": "https://localhost:8080/",
          "height": 299
        },
        "outputId": "093339ab-3246-4339-ee58-6f639e2a1bcb"
      },
      "source": [
        "from tensorflow import keras\n",
        "from tensorflow.keras import layers\n",
        "\n",
        "inputs = keras.Input(shape=(784,), name='digits')\n",
        "x = layers.Dense(64, activation='relu', name='dense_1')(inputs)\n",
        "x = layers.Dense(64, activation='relu', name='dense_2')(x)\n",
        "outputs = layers.Dense(10, activation='softmax', name='predictions')(x)\n",
        "\n",
        "model = keras.Model(inputs=inputs, outputs=outputs, name='3_layer_mlp')\n",
        "model.summary()"
      ],
      "execution_count": null,
      "outputs": [
        {
          "output_type": "stream",
          "text": [
            "Model: \"3_layer_mlp\"\n",
            "_________________________________________________________________\n",
            "Layer (type)                 Output Shape              Param #   \n",
            "=================================================================\n",
            "digits (InputLayer)          [(None, 784)]             0         \n",
            "_________________________________________________________________\n",
            "dense_1 (Dense)              (None, 64)                50240     \n",
            "_________________________________________________________________\n",
            "dense_2 (Dense)              (None, 64)                4160      \n",
            "_________________________________________________________________\n",
            "predictions (Dense)          (None, 10)                650       \n",
            "=================================================================\n",
            "Total params: 55,050\n",
            "Trainable params: 55,050\n",
            "Non-trainable params: 0\n",
            "_________________________________________________________________\n"
          ],
          "name": "stdout"
        }
      ]
    },
    {
      "cell_type": "markdown",
      "metadata": {
        "id": "reQXRQPeBqk3",
        "colab_type": "text"
      },
      "source": [
        "#Fit the model"
      ]
    },
    {
      "cell_type": "code",
      "metadata": {
        "id": "m9e5y-KhBrdM",
        "colab_type": "code",
        "colab": {
          "base_uri": "https://localhost:8080/",
          "height": 70
        },
        "outputId": "00c83072-fec7-405e-acf9-1941e69243d0"
      },
      "source": [
        "(x_train, y_train), (x_test, y_test) = keras.datasets.mnist.load_data()\n",
        "x_train = x_train.reshape(60000, 784).astype('float32') / 255\n",
        "x_test = x_test.reshape(10000, 784).astype('float32') / 255\n",
        "\n",
        "model.compile(loss='sparse_categorical_crossentropy',\n",
        "              optimizer=keras.optimizers.RMSprop())\n",
        "history = model.fit(x_train, y_train,\n",
        "                    batch_size=64,\n",
        "                    epochs=1)\n",
        "\n"
      ],
      "execution_count": null,
      "outputs": [
        {
          "output_type": "stream",
          "text": [
            "Downloading data from https://storage.googleapis.com/tensorflow/tf-keras-datasets/mnist.npz\n",
            "11493376/11490434 [==============================] - 0s 0us/step\n",
            "938/938 [==============================] - 3s 3ms/step - loss: 0.3165\n"
          ],
          "name": "stdout"
        }
      ]
    },
    {
      "cell_type": "code",
      "metadata": {
        "id": "r0cyLDcnBr9z",
        "colab_type": "code",
        "colab": {
          "base_uri": "https://localhost:8080/",
          "height": 246
        },
        "outputId": "6e6f6b79-0e6c-4cad-c766-ab8dde35ad58"
      },
      "source": [
        "# Save predictions for future checks\n",
        "predictions = model.predict(x_test)\n",
        "predictions"
      ],
      "execution_count": null,
      "outputs": [
        {
          "output_type": "execute_result",
          "data": {
            "text/plain": [
              "array([[6.4863166e-06, 4.6020450e-06, 1.1361000e-03, ..., 9.9811184e-01,\n",
              "        1.0449687e-05, 4.2541611e-05],\n",
              "       [1.2090290e-04, 1.2388912e-05, 9.9654156e-01, ..., 1.4897329e-08,\n",
              "        5.0760520e-04, 5.6933911e-09],\n",
              "       [4.4418389e-06, 9.9530542e-01, 9.0046896e-04, ..., 8.0165890e-04,\n",
              "        1.1442458e-03, 1.4842223e-05],\n",
              "       ...,\n",
              "       [3.9757637e-08, 3.3322504e-08, 3.4941875e-06, ..., 2.3149338e-05,\n",
              "        6.8305532e-04, 4.1950969e-03],\n",
              "       [6.3431452e-07, 9.5454197e-07, 4.1592656e-07, ..., 1.7141099e-08,\n",
              "        1.1499894e-04, 1.5549720e-07],\n",
              "       [4.1057126e-07, 5.9402044e-10, 9.2072514e-06, ..., 4.5730600e-11,\n",
              "        4.9581099e-09, 1.8555890e-09]], dtype=float32)"
            ]
          },
          "metadata": {
            "tags": []
          },
          "execution_count": 5
        }
      ]
    },
    {
      "cell_type": "markdown",
      "metadata": {
        "id": "1951dJ1BB02n",
        "colab_type": "text"
      },
      "source": [
        "# Save the model"
      ]
    },
    {
      "cell_type": "code",
      "metadata": {
        "id": "yiatLfdiBw2r",
        "colab_type": "code",
        "colab": {}
      },
      "source": [
        "# Save the model\n",
        "model.save('path_to_my_model.h5')"
      ],
      "execution_count": null,
      "outputs": []
    },
    {
      "cell_type": "markdown",
      "metadata": {
        "id": "hoKZaXRAB5AI",
        "colab_type": "text"
      },
      "source": [
        "# In future, we can use below command to load model into memory"
      ]
    },
    {
      "cell_type": "code",
      "metadata": {
        "id": "xlFBICiVB2Py",
        "colab_type": "code",
        "colab": {}
      },
      "source": [
        "# Recreate the exact same model purely from the file\n",
        "new_model = keras.models.load_model('path_to_my_model.h5')"
      ],
      "execution_count": null,
      "outputs": []
    },
    {
      "cell_type": "code",
      "metadata": {
        "id": "o_K4qa_MB8v1",
        "colab_type": "code",
        "colab": {
          "base_uri": "https://localhost:8080/",
          "height": 246
        },
        "outputId": "e810f7f8-8c85-4ee1-8c2a-96aed12f7eac"
      },
      "source": [
        "predictions_using_new_model = new_model.predict(x_test)\n",
        "predictions_using_new_model"
      ],
      "execution_count": null,
      "outputs": [
        {
          "output_type": "execute_result",
          "data": {
            "text/plain": [
              "array([[6.4863166e-06, 4.6020450e-06, 1.1361000e-03, ..., 9.9811184e-01,\n",
              "        1.0449687e-05, 4.2541611e-05],\n",
              "       [1.2090290e-04, 1.2388912e-05, 9.9654156e-01, ..., 1.4897329e-08,\n",
              "        5.0760520e-04, 5.6933911e-09],\n",
              "       [4.4418389e-06, 9.9530542e-01, 9.0046896e-04, ..., 8.0165890e-04,\n",
              "        1.1442458e-03, 1.4842223e-05],\n",
              "       ...,\n",
              "       [3.9757637e-08, 3.3322504e-08, 3.4941875e-06, ..., 2.3149338e-05,\n",
              "        6.8305532e-04, 4.1950969e-03],\n",
              "       [6.3431452e-07, 9.5454197e-07, 4.1592656e-07, ..., 1.7141099e-08,\n",
              "        1.1499894e-04, 1.5549720e-07],\n",
              "       [4.1057126e-07, 5.9402044e-10, 9.2072514e-06, ..., 4.5730600e-11,\n",
              "        4.9581099e-09, 1.8555890e-09]], dtype=float32)"
            ]
          },
          "metadata": {
            "tags": []
          },
          "execution_count": 8
        }
      ]
    },
    {
      "cell_type": "markdown",
      "metadata": {
        "id": "nyijApMSCR_0",
        "colab_type": "text"
      },
      "source": [
        "# Are prediction from old model and loaded model are the same?"
      ]
    },
    {
      "cell_type": "code",
      "metadata": {
        "id": "yTnJmE2JCCe1",
        "colab_type": "code",
        "colab": {
          "base_uri": "https://localhost:8080/",
          "height": 35
        },
        "outputId": "2adacbca-b51e-47ec-96ec-f3eb4e438af2"
      },
      "source": [
        "predictions_using_new_model.mean() == predictions.mean()"
      ],
      "execution_count": null,
      "outputs": [
        {
          "output_type": "execute_result",
          "data": {
            "text/plain": [
              "True"
            ]
          },
          "metadata": {
            "tags": []
          },
          "execution_count": 9
        }
      ]
    },
    {
      "cell_type": "code",
      "metadata": {
        "id": "qDJnoA-ICFpM",
        "colab_type": "code",
        "colab": {
          "base_uri": "https://localhost:8080/",
          "height": 35
        },
        "outputId": "dfe968ab-3b60-48dc-e894-9d42169911be"
      },
      "source": [
        "predictions_using_new_model.mean()"
      ],
      "execution_count": null,
      "outputs": [
        {
          "output_type": "execute_result",
          "data": {
            "text/plain": [
              "0.1"
            ]
          },
          "metadata": {
            "tags": []
          },
          "execution_count": 10
        }
      ]
    }
  ]
}