{
  "nbformat": 4,
  "nbformat_minor": 0,
  "metadata": {
    "colab": {
      "name": "Term_Project_Ahmed Eldib_Loan_Approval.ipynb",
      "provenance": [],
      "collapsed_sections": [],
      "include_colab_link": true
    },
    "kernelspec": {
      "display_name": "Python 3",
      "language": "python",
      "name": "python3"
    },
    "language_info": {
      "codemirror_mode": {
        "name": "ipython",
        "version": 3
      },
      "file_extension": ".py",
      "mimetype": "text/x-python",
      "name": "python",
      "nbconvert_exporter": "python",
      "pygments_lexer": "ipython3",
      "version": "3.7.3"
    }
  },
  "cells": [
    {
      "cell_type": "markdown",
      "metadata": {
        "id": "view-in-github",
        "colab_type": "text"
      },
      "source": [
        "<a href=\"https://colab.research.google.com/github/ayd13/Machine-learning-projects/blob/master/Term_Project_Ahmed_Eldib_Loan_Approval.ipynb\" target=\"_parent\"><img src=\"https://colab.research.google.com/assets/colab-badge.svg\" alt=\"Open In Colab\"/></a>"
      ]
    },
    {
      "cell_type": "code",
      "metadata": {
        "id": "aFHwhsbwvn4W",
        "colab_type": "code",
        "colab": {}
      },
      "source": [
        "# initial needed packages\n",
        " \n",
        "import numpy as np\n",
        "from sklearn.cluster import KMeans\n",
        "import matplotlib.pyplot as plt\n",
        "import random\n",
        "from sklearn.metrics import silhouette_score\n",
        "from sklearn.cluster import AgglomerativeClustering\n",
        "random.seed(42)\n",
        " \n",
        "#Mount your Google drive so you can read them easilu\n",
        "from google.colab import drive\n",
        "drive.mount('/content/gdrive')"
      ],
      "execution_count": null,
      "outputs": []
    },
    {
      "cell_type": "code",
      "metadata": {
        "id": "kxy5rMdavnsW",
        "colab_type": "code",
        "colab": {}
      },
      "source": [
        "import fileinput\n",
        "\n",
        "filePath  ='/content/gdrive/My Drive/Machine Learning/ML Class UofT/Term_Project/BNG_credit-g.csv'"
      ],
      "execution_count": null,
      "outputs": []
    },
    {
      "cell_type": "code",
      "metadata": {
        "id": "jNB9_Z1vvnf3",
        "colab_type": "code",
        "colab": {}
      },
      "source": [
        "# Create dataframe\n",
        "import pandas as pd\n",
        "\n",
        "data = pd.read_csv(filePath )"
      ],
      "execution_count": null,
      "outputs": []
    },
    {
      "cell_type": "code",
      "metadata": {
        "colab_type": "code",
        "id": "Z77rJSPx0uh9",
        "colab": {}
      },
      "source": [
        "# all other needed packages\n",
        " \n",
        "from sklearn.metrics import confusion_matrix\n",
        "from sklearn.preprocessing import OneHotEncoder\n",
        "from scipy import stats\n",
        "import seaborn as sns\n",
        "import matplotlib\n",
        "import matplotlib.pyplot as plt\n",
        "import pylab\n",
        "import scipy.stats as stats\n",
        "from sklearn.model_selection import train_test_split\n",
        "# the scaler - for min-max scaling\n",
        "from sklearn.preprocessing import MinMaxScaler\n",
        "from sklearn.preprocessing import MaxAbsScaler\n",
        " \n",
        "# install feature-engine package\n",
        "! pip install feature-engine\n",
        " \n",
        "# for one hot encoding with feature-engine\n",
        "from feature_engine.categorical_encoders import OneHotCategoricalEncoder\n",
        " \n",
        "from sklearn.linear_model import SGDClassifier\n",
        "from sklearn.model_selection import cross_val_score\n",
        " \n",
        "from sklearn import tree\n",
        "from sklearn.metrics import f1_score\n",
        "from sklearn.neighbors import KNeighborsClassifier\n",
        "from sklearn.linear_model import LogisticRegression\n",
        "from sklearn import svm\n",
        " \n",
        "from sklearn.pipeline import Pipeline"
      ],
      "execution_count": null,
      "outputs": []
    },
    {
      "cell_type": "code",
      "metadata": {
        "colab_type": "code",
        "id": "PkJZPgrJ64bA",
        "colab": {}
      },
      "source": [
        "data.shape"
      ],
      "execution_count": null,
      "outputs": []
    },
    {
      "cell_type": "markdown",
      "metadata": {
        "colab_type": "text",
        "id": "3Ntd8noYr6w4"
      },
      "source": [
        "**Attribute Information:**\n",
        "\n",
        "*Attribute 1:* (qualitative)\n",
        "\n",
        "checking_status: Status of existing checking account\n",
        "- < 0 DM,\n",
        "- 0 <= ... < 200 DM, \n",
        "- ... >= 200 DM / salary assignments for at least 1 year, \n",
        "- No checking account)\n",
        "\n",
        "*Duration* in month\n",
        "\n",
        "*Attribute 3:* (qualitative)\n",
        "\n",
        "Credit history\n",
        "- No credits taken/ all credits paid back duly\n",
        "- All credits at this bank paid back duly\n",
        "- Existing credits paid back duly till now\n",
        "- Delay in paying off in the past\n",
        "- Critical account/ other credits existing (not at this bank)\n",
        "\n",
        "*Attribute 4:* (qualitative)\n",
        "\n",
        "Purpose\n",
        "- Car (new)\n",
        "- Car (used)\n",
        "- Furniture/equipment\n",
        "- Radio/television\n",
        "- Domestic appliances\n",
        "- Repairs\n",
        "- Education\n",
        "- (vacation - does not exist?)\n",
        "- Retraining\n",
        "- Business\n",
        "- Others\n",
        "\n",
        "*Attribute 5:* (numerical)\n",
        "\n",
        "credit_amount: Credit amount\n",
        "\n",
        "*Attibute 6:* (qualitative)\n",
        "\n",
        "savings_status: Savings account/bonds\n",
        "- ... < 100 DM\n",
        "- 100 <= ... < 500 DM\n",
        "- 500 <= ... < 1000 DM\n",
        "- .. >= 1000 DM\n",
        "- unknown/ no savings account\n",
        "\n",
        "*Attribute 7:* (qualitative)\n",
        "\n",
        "Employment: Present employment since\n",
        "- unemployed\n",
        "- ... < 1 year\n",
        "- 1 <= ... < 4 years\n",
        "- 4 <= ... < 7 years\n",
        "- .. >= 7 years\n",
        "\n",
        "*Attribute 8:* (numerical)\n",
        "\n",
        "installment_commitment: Installment rate in percentage of disposable income\n",
        "\n",
        "*Attribute 9:* (qualitative)\n",
        "\n",
        "personal_status: Personal status and sex\n",
        "- male : divorced / separated\n",
        "- female : divorced / separated / married\n",
        "- male : single\n",
        "- male : married/widowed\n",
        "- female : single\n",
        "\n",
        "*Attribute 10:* (qualitative)\n",
        "\n",
        "Other_Parties: Other debtors / guarantors\n",
        "- none\n",
        "- co-applicant\n",
        "- guarantor\n",
        "\n",
        "*Attribute 11:* (numerical)\n",
        "\n",
        "residence_since: Present residence since\n",
        "\n",
        "*Attribute 12:* (qualitative)\n",
        "\n",
        "property_magnitude\n",
        "- real estate\n",
        "- if not A121 : building society savings agreement/ life insurance\n",
        "- if not A121/A122 : car or other, not in attribute 6\n",
        "- unknown / no property\n",
        "\n",
        "*Attribute 13:* (numerical)\n",
        "\n",
        "Age: Age in years\n",
        "\n",
        "*Attribute 14:* (qualitative)\n",
        "\n",
        "Other_payments: Other installment plans\n",
        "- bank\n",
        "- stores\n",
        "- none\n",
        "\n",
        "*Attribute 15: *(qualitative)\n",
        "\n",
        "Housing\n",
        "- rent\n",
        "- own\n",
        "- for free\n",
        "\n",
        "*Attribute 16:* (numerical)\n",
        "\n",
        "existing_credits\n",
        "Number of existing credits at this bank\n",
        "\n",
        "*Attribute 17:* (qualitative)\n",
        "\n",
        "Job\n",
        "- unemployed/ unskilled - non-resident\n",
        "- unskilled - resident\n",
        "- skilled employee / official\n",
        "- management/ self-employed/\n",
        "- highly qualified employee/ officer\n",
        "\n",
        "*Attribute 18:* (numerical)\n",
        "\n",
        "num_dependents\n",
        "Number of people being liable to provide maintenance for\n",
        "\n",
        "*Attribute 19:* (qualitative)\n",
        "\n",
        "Own_Telephone\n",
        "- none\n",
        "- yes, registered under the customers name\n",
        "\n",
        "*Attribute 20:* (qualitative)\n",
        "\n",
        "foreign worker\n",
        "- yes\n",
        "- no\n",
        "\n",
        "*Attribute 21: *\n",
        "\n",
        "Class\n",
        "- good\n",
        "- bad"
      ]
    },
    {
      "cell_type": "code",
      "metadata": {
        "colab_type": "code",
        "id": "vA-06ezS9SOM",
        "colab": {}
      },
      "source": [
        "data.head(10)"
      ],
      "execution_count": null,
      "outputs": []
    },
    {
      "cell_type": "code",
      "metadata": {
        "colab_type": "code",
        "id": "i8QEIsdc1Ygb",
        "colab": {}
      },
      "source": [
        "data.describe()"
      ],
      "execution_count": null,
      "outputs": []
    },
    {
      "cell_type": "code",
      "metadata": {
        "colab_type": "code",
        "id": "LZ4n9aDp9dK1",
        "colab": {}
      },
      "source": [
        "# check if any column has null value\n",
        "\n",
        "vars_with_na = [var for var in data.columns if data[var].isnull().mean() > 0]\n",
        "vars_with_na"
      ],
      "execution_count": null,
      "outputs": []
    },
    {
      "cell_type": "code",
      "metadata": {
        "colab_type": "code",
        "id": "qQIzEv3d1ZJo",
        "colab": {}
      },
      "source": [
        "# find categorical variables\n",
        "# those of type 'Object' in the dataset\n",
        "features_categorical = [c for c in data.columns if data[c].dtypes=='O']\n",
        "features_categorical"
      ],
      "execution_count": null,
      "outputs": []
    },
    {
      "cell_type": "code",
      "metadata": {
        "colab_type": "code",
        "id": "t3xnLRhH1ZQF",
        "colab": {}
      },
      "source": [
        "# find numerical variables\n",
        "# those different from object\n",
        "features_numerical = [c for c in data.columns if data[c].dtypes!='O']\n",
        "features_numerical"
      ],
      "execution_count": null,
      "outputs": []
    },
    {
      "cell_type": "code",
      "metadata": {
        "colab_type": "code",
        "id": "lzvPOJaMCr1O",
        "colab": {}
      },
      "source": [
        "# Get distinct values of all catagorical columns\n",
        "\n",
        "for col in features_categorical:\n",
        "   print ('\\nunique values for %s'%col)\n",
        "   print (data[col].unique())"
      ],
      "execution_count": null,
      "outputs": []
    },
    {
      "cell_type": "code",
      "metadata": {
        "id": "zY56gIeMZCtf",
        "colab_type": "code",
        "colab": {}
      },
      "source": [
        "# value count for all catagorical columns by values\n",
        "\n",
        "for c in features_categorical:\n",
        "    print (\"---- %s ---\" % c)\n",
        "    print (data[c].value_counts())"
      ],
      "execution_count": null,
      "outputs": []
    },
    {
      "cell_type": "code",
      "metadata": {
        "colab_type": "code",
        "id": "Fo2cK93fwfiK",
        "colab": {}
      },
      "source": [
        "# we change target column (class) values to numerical and data type too \n",
        "# we will replace out targer (class) with 0 for bad and 1 for good\n",
        "\n",
        "data[\"class\"]= data[\"class\"].replace('bad', 0)\n",
        "data[\"class\"]= data[\"class\"].replace('good', 1)\n",
        "data['class'].unique()"
      ],
      "execution_count": null,
      "outputs": []
    },
    {
      "cell_type": "code",
      "metadata": {
        "colab_type": "code",
        "id": "D-M-g_waxkcs",
        "colab": {}
      },
      "source": [
        "# Now we will change (class) column to numeric\n",
        "data[\"class\"] = pd.to_numeric(data[\"class\"])"
      ],
      "execution_count": null,
      "outputs": []
    },
    {
      "cell_type": "code",
      "metadata": {
        "colab_type": "code",
        "id": "e0ALXMHEx1tD",
        "colab": {}
      },
      "source": [
        "# now lets meke sure what is categorica and what is numerical\n",
        "features_categorical_casted = [c for c in data.columns if data[c].dtypes=='O']\n",
        "features_categorical_casted"
      ],
      "execution_count": null,
      "outputs": []
    },
    {
      "cell_type": "code",
      "metadata": {
        "colab_type": "code",
        "id": "yTGi1568yc73",
        "colab": {}
      },
      "source": [
        "features_numerical_casted = [c for c in data.columns if data[c].dtypes!='O']\n",
        "features_numerical_casted"
      ],
      "execution_count": null,
      "outputs": []
    },
    {
      "cell_type": "code",
      "metadata": {
        "colab_type": "code",
        "id": "_iQyA27bCsIB",
        "colab": {}
      },
      "source": [
        "# looks like we have 13 catagorical columns with no missing data"
      ],
      "execution_count": null,
      "outputs": []
    },
    {
      "cell_type": "code",
      "metadata": {
        "colab_type": "code",
        "id": "9oqnT9OJX2Tk",
        "colab": {}
      },
      "source": [
        "# Now let's see unique numerical values (only some it they are too much)\n",
        "for col in features_numerical_casted:\n",
        "   print ('\\distinct value count for %s'%col)\n",
        "   print (data[col].unique())"
      ],
      "execution_count": null,
      "outputs": []
    },
    {
      "cell_type": "code",
      "metadata": {
        "colab_type": "code",
        "id": "tiiIQIs8CsPS",
        "colab": {}
      },
      "source": [
        "# Now let's see number of distinct catagorical values\n",
        "for col in features_categorical_casted:\n",
        "   print ('\\distinct value count for %s'%col)\n",
        "   print (data[col].nunique())"
      ],
      "execution_count": null,
      "outputs": []
    },
    {
      "cell_type": "code",
      "metadata": {
        "colab_type": "code",
        "id": "e4UOH4dKCsVZ",
        "colab": {}
      },
      "source": [
        "# although we have 13 categorical values (a lot) we only have few distinct values for each one (except of purpose has 11 unique values)\n",
        "# we will have to create 56 dummies"
      ],
      "execution_count": null,
      "outputs": []
    },
    {
      "cell_type": "code",
      "metadata": {
        "colab_type": "code",
        "id": "QUPowS3vWg-f",
        "colab": {}
      },
      "source": [
        "# Now let's see number of distinct numerical values\n",
        "for col in features_numerical_casted:\n",
        "   print ('\\distinct value count for %s'%col)\n",
        "   print (data[col].nunique())"
      ],
      "execution_count": null,
      "outputs": []
    },
    {
      "cell_type": "markdown",
      "metadata": {
        "colab_type": "text",
        "id": "4hAbWah9XSWQ"
      },
      "source": [
        "## Let's try Data Transformation for 'duration', 'credit_amount' and 'age'"
      ]
    },
    {
      "cell_type": "code",
      "metadata": {
        "colab_type": "code",
        "id": "5HT0sYNK1GqH",
        "colab": {}
      },
      "source": [
        "# create different dataframes for different transformation\n",
        "# we are trying to transforme these numerical values (in below 3 columns) to be linear.\n",
        "data_num = data[['duration', 'credit_amount', 'age']]\n",
        "data_num_sqrt = data_num\n",
        "data_num_cbrt = data_num\n",
        "data_num_log = data_num\n",
        "data_num_boxcox = data_num\n",
        "data_num_yeojohnson = data_num\n",
        "\n",
        "data_num.head()"
      ],
      "execution_count": null,
      "outputs": []
    },
    {
      "cell_type": "code",
      "metadata": {
        "colab_type": "code",
        "id": "q-fYgYyF0B-j",
        "colab": {}
      },
      "source": [
        "# lets plot numerical values and see how it look like\n",
        "\n",
        "# function to create histogram, Q-Q plot and boxplot\n",
        "\n",
        "def diagnostic_plots(df, variable):\n",
        "    # function takes a dataframe (df) and\n",
        "    # the variable of interest as arguments\n",
        "\n",
        "    # define figure size\n",
        "    plt.figure(figsize=(16, 4))\n",
        "\n",
        "    # histogram\n",
        "    plt.subplot(1, 3, 1)\n",
        "    sns.distplot(df[variable], bins=30)\n",
        "    plt.title('Histogram')\n",
        "\n",
        "    # Q-Q plot\n",
        "    plt.subplot(1, 3, 2)\n",
        "    stats.probplot(df[variable], dist=\"norm\", plot=pylab)\n",
        "    plt.ylabel('RM quantiles')\n",
        "\n",
        "    # boxplot\n",
        "    plt.subplot(1, 3, 3)\n",
        "    sns.boxplot(y=df[variable])\n",
        "    plt.title('Boxplot')\n",
        "\n",
        "    plt.show()\n"
      ],
      "execution_count": null,
      "outputs": []
    },
    {
      "cell_type": "code",
      "metadata": {
        "colab_type": "code",
        "id": "S7PAwwzA0COf",
        "colab": {}
      },
      "source": [
        "# Let's see how this data look like\n",
        "for column in data_num:\n",
        "    print(column)\n",
        "    diagnostic_plots(data_num, column)"
      ],
      "execution_count": null,
      "outputs": []
    },
    {
      "cell_type": "code",
      "metadata": {
        "colab_type": "code",
        "id": "OqQutZ2X0Cbx",
        "colab": {}
      },
      "source": [
        "# lets try to transform data_num to see if we can make it linear\n",
        "\n",
        "data_num_log['age'] =  np.log(data_num['age']) \n",
        "data_num_log['credit_amount'] =  np.log(data_num['credit_amount'])\n",
        "data_num_log['duration'] =  np.log(data_num['duration'])\n",
        "\n",
        "data_num_sqrt['age'] =  np.sqrt(data_num['age']) \n",
        "data_num_sqrt['credit_amount'] =  np.sqrt(data_num['credit_amount'])\n",
        "data_num_sqrt['duration'] =  np.sqrt(data_num['duration'])\n",
        "\n",
        "data_num_cbrt['age'] =  np.cbrt(data_num['age']) \n",
        "data_num_cbrt['credit_amount'] =  np.cbrt(data_num['credit_amount'])\n",
        "data_num_cbrt['duration'] =  np.cbrt(data_num['duration'])\n",
        "\n",
        "data_num_boxcox['age'], param =  stats.boxcox(data_num['age']) \n",
        "data_num_boxcox['credit_amount'], param=  stats.boxcox(data_num['credit_amount'])\n",
        "data_num_boxcox['duration'], param =  stats.boxcox(data_num['duration'])\n",
        "\n",
        "data_num_yeojohnson['age'], param =  stats.yeojohnson(data_num['age']) \n",
        "data_num_yeojohnson['credit_amount'], param=  stats.yeojohnson(data_num['credit_amount'])\n",
        "data_num_yeojohnson['duration'], param =  stats.yeojohnson(data_num['duration'])"
      ],
      "execution_count": null,
      "outputs": []
    },
    {
      "cell_type": "code",
      "metadata": {
        "colab_type": "code",
        "id": "QoMGVzHl0CUr",
        "colab": {}
      },
      "source": [
        "# let's plot transformed data (is it more linear in any of the 5 transformation?)\n",
        "\n",
        "for column in data_num_sqrt:\n",
        "    print(column)\n",
        "    diagnostic_plots(data_num_sqrt, column)"
      ],
      "execution_count": null,
      "outputs": []
    },
    {
      "cell_type": "code",
      "metadata": {
        "id": "KQejfi3lvU8P",
        "colab_type": "code",
        "colab": {}
      },
      "source": [
        "for column in data_num_cbrt:\n",
        "    print(column)\n",
        "    diagnostic_plots(data_num_cbrt, column)"
      ],
      "execution_count": null,
      "outputs": []
    },
    {
      "cell_type": "code",
      "metadata": {
        "id": "Kc6Eh5-avU8R",
        "colab_type": "code",
        "colab": {}
      },
      "source": [
        "for column in data_num_log:\n",
        "    print(column)\n",
        "    diagnostic_plots(data_num_log, column)"
      ],
      "execution_count": null,
      "outputs": []
    },
    {
      "cell_type": "code",
      "metadata": {
        "id": "rUwWNBSgvU8T",
        "colab_type": "code",
        "colab": {}
      },
      "source": [
        "for column in data_num_yeojohnson:\n",
        "    print(column)\n",
        "    diagnostic_plots(data_num_yeojohnson, column)"
      ],
      "execution_count": null,
      "outputs": []
    },
    {
      "cell_type": "code",
      "metadata": {
        "id": "Nn7uoMsbvU8V",
        "colab_type": "code",
        "colab": {}
      },
      "source": [
        "for column in data_num_boxcox:\n",
        "    print(column)\n",
        "    diagnostic_plots(data_num_boxcox, column)"
      ],
      "execution_count": null,
      "outputs": []
    },
    {
      "cell_type": "code",
      "metadata": {
        "id": "8SWODJH4vU8X",
        "colab_type": "code",
        "colab": {}
      },
      "source": [
        "# none of the transformation worked to make any of the transformaed values more linear, \n",
        "# we will not apply any of it as data transformations. "
      ],
      "execution_count": null,
      "outputs": []
    },
    {
      "cell_type": "code",
      "metadata": {
        "colab_type": "code",
        "id": "G94vmm2hMrvH",
        "colab": {}
      },
      "source": [
        "# We have to split data first."
      ],
      "execution_count": null,
      "outputs": []
    },
    {
      "cell_type": "code",
      "metadata": {
        "colab_type": "code",
        "id": "fKhJxqdHCsa4",
        "colab": {}
      },
      "source": [
        "# let's separate into training and testing set\n",
        "\n",
        "X_train, X_test, y_train, y_test = train_test_split(\n",
        "    data[['checking_status','credit_history','purpose','savings_status','employment','personal_status','other_parties','property_magnitude','other_payment_plans','housing',\n",
        "            'job','own_telephone','foreign_worker','duration','credit_amount','installment_commitment','residence_since','age','existing_credits','num_dependents']],  # predictors\n",
        "    data['class'],  # target \n",
        "    stratify= data['class'], # make sure rare value are both training and testing data\n",
        "    test_size=0.3,  # percentage of obs in test set\n",
        "    random_state=0)  # seed to ensure reproducibility\n",
        "\n",
        "X_train.shape, X_test.shape"
      ],
      "execution_count": null,
      "outputs": []
    },
    {
      "cell_type": "code",
      "metadata": {
        "colab_type": "code",
        "id": "khgc4vgniuAQ",
        "colab": {}
      },
      "source": [
        "# with all catagorical values, we need One Hot Encoding\n",
        "\n",
        "ohe_enc = OneHotCategoricalEncoder(\n",
        "    top_categories=None,\n",
        "    variables= features_categorical_casted, # we can select which variables to encode\n",
        "    drop_last=False) # to return k-1, false to return k\n",
        "\n",
        "\n",
        "ohe_enc.fit(X_train.fillna('Missing'))"
      ],
      "execution_count": null,
      "outputs": []
    },
    {
      "cell_type": "code",
      "metadata": {
        "colab_type": "code",
        "id": "ibqJpbJViuqW",
        "colab": {}
      },
      "source": [
        "X_train_enc = ohe_enc.transform(X_train.fillna('Missing'))\n",
        "\n",
        "X_train_enc.head()"
      ],
      "execution_count": null,
      "outputs": []
    },
    {
      "cell_type": "code",
      "metadata": {
        "colab_type": "code",
        "id": "_cfSi6QZiuaO",
        "colab": {}
      },
      "source": [
        "X_train_enc.shape"
      ],
      "execution_count": null,
      "outputs": []
    },
    {
      "cell_type": "markdown",
      "metadata": {
        "id": "ptEvC1aU0UmR",
        "colab_type": "text"
      },
      "source": [
        "**One Hot Encode**"
      ]
    },
    {
      "cell_type": "code",
      "metadata": {
        "colab_type": "code",
        "id": "SV_PjElVitUs",
        "colab": {}
      },
      "source": [
        "# Now we should encode test data as well ...\n",
        "\n",
        "X_test_enc = ohe_enc.transform(X_test.fillna('Missing'))\n",
        "X_test_enc.head()"
      ],
      "execution_count": null,
      "outputs": []
    },
    {
      "cell_type": "code",
      "metadata": {
        "colab_type": "code",
        "id": "BCZPoOQGlStx",
        "colab": {}
      },
      "source": [
        "X_test_enc.shape"
      ],
      "execution_count": null,
      "outputs": []
    },
    {
      "cell_type": "markdown",
      "metadata": {
        "id": "y4PJTMop0hNn",
        "colab_type": "text"
      },
      "source": [
        "**Scale Data**"
      ]
    },
    {
      "cell_type": "code",
      "metadata": {
        "colab_type": "code",
        "id": "C8JnPyjiw4sh",
        "colab": {}
      },
      "source": [
        "# set up the scaler\n",
        "scaler = MaxAbsScaler()\n",
        "\n",
        "# fit the scaler to the train set, it will learn the parameters\n",
        "scaler.fit(X_train_enc)\n",
        "\n",
        "# transform train and test sets\n",
        "X_train_scaled = scaler.transform(X_train_enc)\n",
        "X_test_scaled = scaler.transform(X_test_enc)"
      ],
      "execution_count": null,
      "outputs": []
    },
    {
      "cell_type": "code",
      "metadata": {
        "colab_type": "code",
        "id": "IkcBXytkxaRh",
        "colab": {}
      },
      "source": [
        "# let's transform the returned NumPy arrays to dataframes \n",
        "\n",
        "X_train_scaled = pd.DataFrame(X_train_scaled, columns=X_train_enc.columns)\n",
        "X_test_scaled = pd.DataFrame(X_test_scaled, columns=X_test_enc.columns)"
      ],
      "execution_count": null,
      "outputs": []
    },
    {
      "cell_type": "code",
      "metadata": {
        "colab_type": "code",
        "id": "EPgPOCJ-xayw",
        "colab": {}
      },
      "source": [
        "np.round(X_train_scaled.describe(), 1)"
      ],
      "execution_count": null,
      "outputs": []
    },
    {
      "cell_type": "markdown",
      "metadata": {
        "id": "Gr9H1TF7ziRF",
        "colab_type": "text"
      },
      "source": [
        "We are testing if the data we have is worth it (more than 0.5 score)"
      ]
    },
    {
      "cell_type": "code",
      "metadata": {
        "colab_type": "code",
        "id": "J6iJUibIwUaZ",
        "colab": {}
      },
      "source": [
        "sgd_clf = SGDClassifier(max_iter=5, tol=-np.infty, random_state=42)\n",
        "sgd_clf.fit(X_train_scaled, y_train)"
      ],
      "execution_count": null,
      "outputs": []
    },
    {
      "cell_type": "code",
      "metadata": {
        "colab_type": "code",
        "id": "q-LwrZ7rwUtB",
        "colab": {}
      },
      "source": [
        "cross_val_score(sgd_clf, X_train_scaled, y_train, cv=7, scoring=\"f1\")  ## used f1 not accuracy because it's binary"
      ],
      "execution_count": null,
      "outputs": []
    },
    {
      "cell_type": "code",
      "metadata": {
        "id": "Nd8FhmAg28Tp",
        "colab_type": "code",
        "colab": {}
      },
      "source": [
        "sgd_pred = sgd_clf.predict(X_test_scaled)"
      ],
      "execution_count": null,
      "outputs": []
    },
    {
      "cell_type": "code",
      "metadata": {
        "id": "XFQxLLRJ4wgd",
        "colab_type": "code",
        "colab": {}
      },
      "source": [
        "f1_score(y_test, sgd_pred)"
      ],
      "execution_count": null,
      "outputs": []
    },
    {
      "cell_type": "code",
      "metadata": {
        "id": "4atvu_MLHoJl",
        "colab_type": "code",
        "colab": {}
      },
      "source": [
        "confusion_matrix(y_test, sgd_pred)"
      ],
      "execution_count": null,
      "outputs": []
    },
    {
      "cell_type": "markdown",
      "metadata": {
        "id": "PEB0QTMEqvob",
        "colab_type": "text"
      },
      "source": [
        "**Using RFE for Feature Selection**"
      ]
    },
    {
      "cell_type": "code",
      "metadata": {
        "id": "a9WzRtmprC1u",
        "colab_type": "code",
        "colab": {}
      },
      "source": [
        "data_vars=X_train_scaled.columns.values.tolist()\n",
        "y=['y']\n",
        "X=[i for i in data_vars if i not in y]\n",
        "from sklearn.feature_selection import RFE\n",
        "from sklearn.linear_model import LogisticRegression\n",
        "logreg = LogisticRegression()\n",
        "rfe = RFE(logreg, 20)\n",
        "rfe = rfe.fit(X_train_scaled, y_train.values.ravel())\n",
        "print(rfe.support_)\n",
        "print(rfe.ranking_)\n",
        "\n",
        "features = list(X_train_scaled.columns)\n",
        "support=rfe.support_\n",
        "ranking =rfe.ranking_\n",
        "\n",
        "feature_ranking = pd.DataFrame(list(zip(features,support, ranking)), columns =['Features', 'Support','Ranking'])\n",
        "supported_features_list=feature_ranking.index[feature_ranking['Support']==True].tolist()\n",
        "\n",
        "supported_features_list_name = []\n",
        "for i in supported_features_list:\n",
        "    supported_features_list_name.append(features[i])\n",
        "\n",
        "\n"
      ],
      "execution_count": null,
      "outputs": []
    },
    {
      "cell_type": "code",
      "metadata": {
        "id": "X4odUdFHu8__",
        "colab_type": "code",
        "colab": {}
      },
      "source": [
        "#select the features from X_tr:\n",
        "X_tr_RFE=  X_train_scaled.loc[:,supported_features_list_name]\n",
        "\n",
        "#######################################################################\n",
        "#bench mark\n",
        "from sklearn.linear_model import LogisticRegression\n",
        "logReg = LogisticRegression(random_state=0).fit(X_train_scaled, y_train)\n",
        "\n",
        "logReg.predict(X_train_scaled)\n",
        "logReg.predict_proba(X_train_scaled)\n",
        "\n",
        "print (\"benchmark:\")\n",
        "print (logReg.score(X_train_scaled, y_train))\n",
        "\n",
        "############################################################\n",
        "#rfe#\n",
        "logReg_RFE = LogisticRegression(random_state=0).fit(X_tr_RFE, y_train)\n",
        "\n",
        "logReg_RFE.predict(X_tr_RFE)\n",
        "logReg_RFE.predict_proba(X_tr_RFE)\n",
        "\n",
        "print (\"RFE:\")\n",
        "print (logReg_RFE.score(X_tr_RFE, y_train))\n",
        "\n",
        "print (\"RFE is not applicable to the data set's feature selection as many features are categorial data, as demoed in the score, removing the unsupported features, the accuracy is dropped\")\n"
      ],
      "execution_count": null,
      "outputs": []
    },
    {
      "cell_type": "markdown",
      "metadata": {
        "id": "eFp3ChVBqgM_",
        "colab_type": "text"
      },
      "source": [
        "RFE is not applicable to the data set's feature selection as many features are categorial data, as demoed in the score, removing the unsupported features, the accuracy is dropped"
      ]
    },
    {
      "cell_type": "markdown",
      "metadata": {
        "id": "Yt0aMByUq2Pv",
        "colab_type": "text"
      },
      "source": [
        "Data looks good, now we can go wild on prediction models."
      ]
    },
    {
      "cell_type": "markdown",
      "metadata": {
        "id": "hq3oK2sAH9Ea",
        "colab_type": "text"
      },
      "source": [
        "**Decision Tree Classifier**"
      ]
    },
    {
      "cell_type": "code",
      "metadata": {
        "id": "dZZiZZ0JJ9fq",
        "colab_type": "code",
        "colab": {}
      },
      "source": [
        "m_dtc = tree.DecisionTreeClassifier()\n",
        "\n",
        "m_dtc.fit(X_train_scaled,y_train)\n",
        "\n",
        "cross_val_score(m_dtc, X_train_scaled, y_train, cv=7, scoring=\"f1\")"
      ],
      "execution_count": null,
      "outputs": []
    },
    {
      "cell_type": "code",
      "metadata": {
        "id": "VheidwFTEZ_1",
        "colab_type": "code",
        "colab": {}
      },
      "source": [
        "pred_dtc =m_dtc.predict(X_test_scaled)"
      ],
      "execution_count": null,
      "outputs": []
    },
    {
      "cell_type": "code",
      "metadata": {
        "id": "NA9UxBTmELHN",
        "colab_type": "code",
        "colab": {}
      },
      "source": [
        "f1_score(y_test, pred_dtc)"
      ],
      "execution_count": null,
      "outputs": []
    },
    {
      "cell_type": "code",
      "metadata": {
        "id": "hBnnzENrHzAP",
        "colab_type": "code",
        "colab": {}
      },
      "source": [
        "confusion_matrix(y_test, pred_dtc)"
      ],
      "execution_count": null,
      "outputs": []
    },
    {
      "cell_type": "markdown",
      "metadata": {
        "id": "GZS4MCq6IHO2",
        "colab_type": "text"
      },
      "source": [
        "**Logistic Regression**"
      ]
    },
    {
      "cell_type": "code",
      "metadata": {
        "id": "ADZSi6JCKfFi",
        "colab_type": "code",
        "colab": {}
      },
      "source": [
        "m_lg= LogisticRegression()\n",
        "\n",
        "m_lg.fit(X_train_scaled,y_train)\n",
        "\n",
        "cross_val_score(m_lg, X_train_scaled, y_train, cv=7, scoring=\"f1\")"
      ],
      "execution_count": null,
      "outputs": []
    },
    {
      "cell_type": "code",
      "metadata": {
        "id": "Z2hZwzuUE2qg",
        "colab_type": "code",
        "colab": {}
      },
      "source": [
        "pred_lg=m_lg.predict(X_test_scaled)"
      ],
      "execution_count": null,
      "outputs": []
    },
    {
      "cell_type": "code",
      "metadata": {
        "id": "SkcxeA8i6DOB",
        "colab_type": "code",
        "colab": {}
      },
      "source": [
        "f1_score(y_test, pred_lg)"
      ],
      "execution_count": null,
      "outputs": []
    },
    {
      "cell_type": "code",
      "metadata": {
        "id": "98-pMnISex4d",
        "colab_type": "code",
        "colab": {}
      },
      "source": [
        "confusion_matrix(y_test, pred_lg)"
      ],
      "execution_count": null,
      "outputs": []
    },
    {
      "cell_type": "markdown",
      "metadata": {
        "id": "zzolC9mJITJI",
        "colab_type": "text"
      },
      "source": [
        "**SGD Classifier**"
      ]
    },
    {
      "cell_type": "code",
      "metadata": {
        "id": "MoDJBFPDKeZq",
        "colab_type": "code",
        "colab": {}
      },
      "source": [
        "m_sgd = SGDClassifier(max_iter=5, tol=-np.infty, random_state=42)\n",
        "\n",
        "m_sgd.fit(X_train_scaled, y_train)\n",
        "\n",
        "cross_val_score(m_sgd, X_train_scaled, y_train, cv=7, scoring=\"f1\")"
      ],
      "execution_count": null,
      "outputs": []
    },
    {
      "cell_type": "code",
      "metadata": {
        "id": "ZDwBPtUBFAVu",
        "colab_type": "code",
        "colab": {}
      },
      "source": [
        "pred_sgd =m_sgd.predict(X_test_scaled)"
      ],
      "execution_count": null,
      "outputs": []
    },
    {
      "cell_type": "code",
      "metadata": {
        "id": "QEKeam1o6TKh",
        "colab_type": "code",
        "colab": {}
      },
      "source": [
        "f1_score(y_test, pred_sgd)"
      ],
      "execution_count": null,
      "outputs": []
    },
    {
      "cell_type": "code",
      "metadata": {
        "id": "RHA-q-yQIbdV",
        "colab_type": "code",
        "colab": {}
      },
      "source": [
        "confusion_matrix(y_test, pred_sgd)"
      ],
      "execution_count": null,
      "outputs": []
    },
    {
      "cell_type": "code",
      "metadata": {
        "id": "MmouMof55mgy",
        "colab_type": "code",
        "colab": {}
      },
      "source": [
        "# Tried MLPClassifier, RandomForestClassifier, ExtraTreesClassifier, KNeighborsClassifier, SVM \n",
        "#They took too long, 85% is not bad :)"
      ],
      "execution_count": null,
      "outputs": []
    },
    {
      "cell_type": "markdown",
      "metadata": {
        "id": "fN_gYPre9xSO",
        "colab_type": "text"
      },
      "source": [
        "**Let's see hyper parameter for the best modele, LogisticRegression**"
      ]
    },
    {
      "cell_type": "code",
      "metadata": {
        "colab_type": "code",
        "id": "BqBkkM6MNJC0",
        "colab": {}
      },
      "source": [
        "# took too long\n",
        "# now commenting it to run pipeline #'#\n",
        "\n",
        "\n",
        "from sklearn.model_selection import GridSearchCV\n",
        "\n",
        "penalty = ['l1', 'l2']\n",
        "C = [0.0001, 0.001, 0.01, 0.1, 1, 10, 100, 1000]\n",
        "class_weight = [{1:0.5, 0:0.5}, {1:0.4, 0:0.6}, {1:0.6, 0:0.4}, {1:0.7, 0:0.3}]\n",
        "solver = ['liblinear', 'saga']\n",
        "\n",
        "param_grid = dict(penalty=penalty,\n",
        "                  C=C,\n",
        "                  class_weight=class_weight,\n",
        "                  solver=solver)\n",
        "\n",
        "grid = GridSearchCV(estimator=LogisticRegression(), #logistic\n",
        "                    param_grid=param_grid,\n",
        "                    scoring='f1',\n",
        "                    verbose=1,\n",
        "                    n_jobs=-1)\n",
        "grid_result = grid.fit(X_train_scaled, y_train)\n",
        "\n",
        "print('Best Score: ', grid_result.best_score_)\n",
        "print('Best Params: ', grid_result.best_params_)\n"
      ],
      "execution_count": null,
      "outputs": []
    },
    {
      "cell_type": "markdown",
      "metadata": {
        "id": "PoYxSWr1u8Tq",
        "colab_type": "text"
      },
      "source": [
        "So, our final model is LogisticRegression with:\n",
        "{'C': 1, 'class_weight': {1: 0.6, 0: 0.4}, 'penalty': 'l1', 'solver': 'liblinear'}"
      ]
    },
    {
      "cell_type": "code",
      "metadata": {
        "id": "DVNkIir3wWH-",
        "colab_type": "code",
        "colab": {}
      },
      "source": [
        "best_pred = grid_result.predict(X_test_scaled)"
      ],
      "execution_count": null,
      "outputs": []
    },
    {
      "cell_type": "code",
      "metadata": {
        "id": "SVwfniKsy74v",
        "colab_type": "code",
        "colab": {}
      },
      "source": [
        "f1_score(y_test, best_pred)"
      ],
      "execution_count": null,
      "outputs": []
    },
    {
      "cell_type": "code",
      "metadata": {
        "id": "6r5rQVqjzVdK",
        "colab_type": "code",
        "colab": {}
      },
      "source": [
        "confusion_matrix(y_test, best_pred)"
      ],
      "execution_count": null,
      "outputs": []
    },
    {
      "cell_type": "markdown",
      "metadata": {
        "id": "-fPHkORGeRW1",
        "colab_type": "text"
      },
      "source": [
        "**Pipeline**"
      ]
    },
    {
      "cell_type": "markdown",
      "metadata": {
        "id": "gF8rDOn3qGyW",
        "colab_type": "text"
      },
      "source": [
        "\n",
        "Pipelines steps\n",
        "1. Data Preprocessing by using One hot encoding\n",
        "2. Data Preprocessing by using Max Abs Scaler\n",
        "3. Apply LogisticRegression with choosen params"
      ]
    },
    {
      "cell_type": "code",
      "metadata": {
        "id": "epikmqbSeTnE",
        "colab_type": "code",
        "colab": {}
      },
      "source": [
        "# pipeline in progress\n",
        "\n",
        "\n",
        "\n",
        "#Below is creating a pipeline with 3 steps\n",
        "m_final_pipe = Pipeline([\n",
        "        \n",
        "        ('OHE', OneHotEncoder(handle_unknown=\"ignore\")),\n",
        "        (\"scaler\", MaxAbsScaler()),\n",
        "        (\"m_lg_best\", LogisticRegression(C= 1, class_weight= {1: 0.6, 0: 0.4}, penalty= 'l1', solver= 'liblinear', random_state=0))\n",
        "    ])\n"
      ],
      "execution_count": null,
      "outputs": []
    },
    {
      "cell_type": "code",
      "metadata": {
        "id": "eorZRmeKeTwY",
        "colab_type": "code",
        "colab": {}
      },
      "source": [
        "m_final_pipe.fit(X_train_scaled, y_train)"
      ],
      "execution_count": null,
      "outputs": []
    },
    {
      "cell_type": "code",
      "metadata": {
        "id": "Sgvdz2EYeT1G",
        "colab_type": "code",
        "colab": {}
      },
      "source": [
        ""
      ],
      "execution_count": null,
      "outputs": []
    },
    {
      "cell_type": "code",
      "metadata": {
        "id": "X6-pisi9eTsd",
        "colab_type": "code",
        "colab": {}
      },
      "source": [
        ""
      ],
      "execution_count": null,
      "outputs": []
    }
  ]
}