{
  "nbformat": 4,
  "nbformat_minor": 0,
  "metadata": {
    "kernelspec": {
      "display_name": "Environment (conda_tensorflow2)",
      "language": "python",
      "name": "conda_tensorflow2"
    },
    "language_info": {
      "codemirror_mode": {
        "name": "ipython",
        "version": 3
      },
      "file_extension": ".py",
      "mimetype": "text/x-python",
      "name": "python",
      "nbconvert_exporter": "python",
      "pygments_lexer": "ipython3",
      "version": "3.6.9"
    },
    "colab": {
      "name": "TF2.0_CNN_Fashion_MNIST.ipynb",
      "provenance": [],
      "collapsed_sections": [],
      "include_colab_link": true
    }
  },
  "cells": [
    {
      "cell_type": "markdown",
      "metadata": {
        "id": "view-in-github",
        "colab_type": "text"
      },
      "source": [
        "<a href=\"https://colab.research.google.com/github/ayd13/Machine-learning-projects/blob/master/TF2_0_CNN_Fashion_MNIST.ipynb\" target=\"_parent\"><img src=\"https://colab.research.google.com/assets/colab-badge.svg\" alt=\"Open In Colab\"/></a>"
      ]
    },
    {
      "cell_type": "code",
      "metadata": {
        "id": "y9Osh_F7TOc6",
        "colab_type": "code",
        "colab": {}
      },
      "source": [
        "import numpy as np\n",
        "import pandas as pd\n",
        "import matplotlib.pyplot as plt\n",
        "\n",
        "import tensorflow as tf\n",
        "from tensorflow import keras\n",
        "\n",
        "np.random.seed(42)\n",
        "tf.random.set_seed(42)"
      ],
      "execution_count": null,
      "outputs": []
    },
    {
      "cell_type": "markdown",
      "metadata": {
        "id": "V5l8XL_XTOc9",
        "colab_type": "text"
      },
      "source": [
        "Loading the fashion mnist dataset"
      ]
    },
    {
      "cell_type": "code",
      "metadata": {
        "id": "L0jO8F_tTOc9",
        "colab_type": "code",
        "colab": {
          "base_uri": "https://localhost:8080/",
          "height": 158
        },
        "outputId": "e77c0c73-8144-404c-8483-979a76e9f164"
      },
      "source": [
        "fashion_mnist = keras.datasets.fashion_mnist\n",
        "(X_train_full, y_train_full), (X_test, y_test) = fashion_mnist.load_data()"
      ],
      "execution_count": null,
      "outputs": [
        {
          "output_type": "stream",
          "text": [
            "Downloading data from https://storage.googleapis.com/tensorflow/tf-keras-datasets/train-labels-idx1-ubyte.gz\n",
            "32768/29515 [=================================] - 0s 0us/step\n",
            "Downloading data from https://storage.googleapis.com/tensorflow/tf-keras-datasets/train-images-idx3-ubyte.gz\n",
            "26427392/26421880 [==============================] - 1s 0us/step\n",
            "Downloading data from https://storage.googleapis.com/tensorflow/tf-keras-datasets/t10k-labels-idx1-ubyte.gz\n",
            "8192/5148 [===============================================] - 0s 0us/step\n",
            "Downloading data from https://storage.googleapis.com/tensorflow/tf-keras-datasets/t10k-images-idx3-ubyte.gz\n",
            "4423680/4422102 [==============================] - 0s 0us/step\n"
          ],
          "name": "stdout"
        }
      ]
    },
    {
      "cell_type": "markdown",
      "metadata": {
        "id": "JpbnkXBFTOc_",
        "colab_type": "text"
      },
      "source": [
        "Let's make sure the input pixel data is float64. We'll also split off some validation data."
      ]
    },
    {
      "cell_type": "code",
      "metadata": {
        "id": "mNQ6Z4rBTOdA",
        "colab_type": "code",
        "colab": {}
      },
      "source": [
        "X_valid, X_train = X_train_full[:5000] / 255., X_train_full[5000:] / 255.\n",
        "y_valid, y_train = y_train_full[:5000], y_train_full[5000:]\n",
        "X_test = X_test / 255."
      ],
      "execution_count": null,
      "outputs": []
    },
    {
      "cell_type": "code",
      "metadata": {
        "id": "cAbqKqjeTOdC",
        "colab_type": "code",
        "colab": {
          "base_uri": "https://localhost:8080/",
          "height": 35
        },
        "outputId": "c0a67a22-c2b1-4738-9541-f3431a05de87"
      },
      "source": [
        "X_train.dtype"
      ],
      "execution_count": null,
      "outputs": [
        {
          "output_type": "execute_result",
          "data": {
            "text/plain": [
              "dtype('float64')"
            ]
          },
          "metadata": {
            "tags": []
          },
          "execution_count": 4
        }
      ]
    },
    {
      "cell_type": "code",
      "metadata": {
        "id": "KVuYRlX5TOdF",
        "colab_type": "code",
        "colab": {}
      },
      "source": [
        "class_names = [\"T-shirt/top\", \"Trouser\", \"Pullover\", \"Dress\", \"Coat\",\n",
        "               \"Sandal\", \"Shirt\", \"Sneaker\", \"Bag\", \"Ankle boot\"]"
      ],
      "execution_count": null,
      "outputs": []
    },
    {
      "cell_type": "markdown",
      "metadata": {
        "id": "F8RZ-u5LTOdH",
        "colab_type": "text"
      },
      "source": [
        "Let's see what the data looks like. Rerun to see more examples."
      ]
    },
    {
      "cell_type": "code",
      "metadata": {
        "id": "LiWn2mBpTOdI",
        "colab_type": "code",
        "colab": {
          "base_uri": "https://localhost:8080/",
          "height": 270
        },
        "outputId": "8b736f47-bfb1-4c43-e7ad-940e29b25e7a"
      },
      "source": [
        "rand_idx = np.random.choice(range(X_train.shape[0]))\n",
        "plt.imshow(X_train[rand_idx], cmap=\"binary\")\n",
        "plt.colorbar()\n",
        "plt.axis('off')\n",
        "plt.title(class_names[y_train[rand_idx]]);"
      ],
      "execution_count": null,
      "outputs": [
        {
          "output_type": "display_data",
          "data": {
            "image/png": "[encoded data removed]",
            "text/plain": [
              "<Figure size 432x288 with 2 Axes>"
            ]
          },
          "metadata": {
            "tags": [],
            "needs_background": "light"
          }
        }
      ]
    },
    {
      "cell_type": "markdown",
      "metadata": {
        "id": "Kh44cOxtTOdK",
        "colab_type": "text"
      },
      "source": [
        "Build the dense model."
      ]
    },
    {
      "cell_type": "code",
      "metadata": {
        "id": "dgBBG8AkTOdN",
        "colab_type": "code",
        "colab": {}
      },
      "source": [
        "img_size = (28, 28)\n",
        "layer_sizes = (128, 64)\n",
        "n_classes = 10"
      ],
      "execution_count": null,
      "outputs": []
    },
    {
      "cell_type": "code",
      "metadata": {
        "id": "rADDh2bsTOdP",
        "colab_type": "code",
        "colab": {}
      },
      "source": [
        "from tensorflow.keras import Sequential\n",
        "from tensorflow.keras.layers import Flatten, Dense\n",
        "\n",
        "model = Sequential([\n",
        "    Flatten(input_shape=img_size),\n",
        "    Dense(layer_sizes[0], activation='selu',\n",
        "          kernel_initializer='lecun_normal'),\n",
        "    Dense(layer_sizes[1], activation='selu',\n",
        "          kernel_initializer='lecun_normal'),\n",
        "    Dense(n_classes, activation='softmax')\n",
        "])"
      ],
      "execution_count": null,
      "outputs": []
    },
    {
      "cell_type": "code",
      "metadata": {
        "scrolled": true,
        "id": "p3LXtvagTOdR",
        "colab_type": "code",
        "colab": {
          "base_uri": "https://localhost:8080/",
          "height": 299
        },
        "outputId": "827cc028-d16f-462f-c418-cb8cbb84907e"
      },
      "source": [
        "model.summary()"
      ],
      "execution_count": null,
      "outputs": [
        {
          "output_type": "stream",
          "text": [
            "Model: \"sequential\"\n",
            "_________________________________________________________________\n",
            "Layer (type)                 Output Shape              Param #   \n",
            "=================================================================\n",
            "flatten (Flatten)            (None, 784)               0         \n",
            "_________________________________________________________________\n",
            "dense (Dense)                (None, 128)               100480    \n",
            "_________________________________________________________________\n",
            "dense_1 (Dense)              (None, 64)                8256      \n",
            "_________________________________________________________________\n",
            "dense_2 (Dense)              (None, 10)                650       \n",
            "=================================================================\n",
            "Total params: 109,386\n",
            "Trainable params: 109,386\n",
            "Non-trainable params: 0\n",
            "_________________________________________________________________\n"
          ],
          "name": "stdout"
        }
      ]
    },
    {
      "cell_type": "code",
      "metadata": {
        "id": "5SLXTc-2TOdT",
        "colab_type": "code",
        "colab": {}
      },
      "source": [
        "learning_rate = 0.005\n",
        "n_epochs = 20"
      ],
      "execution_count": null,
      "outputs": []
    },
    {
      "cell_type": "code",
      "metadata": {
        "id": "XDNII2qVTOdV",
        "colab_type": "code",
        "colab": {}
      },
      "source": [
        "from tensorflow.keras.optimizers import Nadam\n",
        "\n",
        "optimizer = Nadam(lr=learning_rate)"
      ],
      "execution_count": null,
      "outputs": []
    },
    {
      "cell_type": "code",
      "metadata": {
        "id": "gFmZajc7TOdW",
        "colab_type": "code",
        "colab": {}
      },
      "source": [
        "model.compile(optimizer=optimizer,\n",
        "              loss='sparse_categorical_crossentropy',\n",
        "              metrics=['accuracy'])"
      ],
      "execution_count": null,
      "outputs": []
    },
    {
      "cell_type": "code",
      "metadata": {
        "id": "EPjDsUCqTOdY",
        "colab_type": "code",
        "colab": {}
      },
      "source": [
        "from tensorflow.keras.callbacks import ModelCheckpoint\n",
        "\n",
        "save_cb = ModelCheckpoint(\"dense_fashion_model.h5\",\n",
        "                          save_best_only=True)"
      ],
      "execution_count": null,
      "outputs": []
    },
    {
      "cell_type": "code",
      "metadata": {
        "scrolled": true,
        "id": "NxyHnYywTOdb",
        "colab_type": "code",
        "colab": {
          "base_uri": "https://localhost:8080/",
          "height": 721
        },
        "outputId": "3d3e6980-bbb2-431e-9a0d-6219ed0b66ee"
      },
      "source": [
        "history = model.fit(X_train, y_train, epochs=n_epochs,\n",
        "                    validation_data=(X_valid, y_valid),\n",
        "                    callbacks=[save_cb])"
      ],
      "execution_count": null,
      "outputs": [
        {
          "output_type": "stream",
          "text": [
            "Epoch 1/20\n",
            "1719/1719 [==============================] - 7s 4ms/step - loss: 0.5325 - accuracy: 0.8064 - val_loss: 0.5203 - val_accuracy: 0.8118\n",
            "Epoch 2/20\n",
            "1719/1719 [==============================] - 6s 4ms/step - loss: 0.4146 - accuracy: 0.8491 - val_loss: 0.3680 - val_accuracy: 0.8674\n",
            "Epoch 3/20\n",
            "1719/1719 [==============================] - 6s 4ms/step - loss: 0.3808 - accuracy: 0.8620 - val_loss: 0.4845 - val_accuracy: 0.8310\n",
            "Epoch 4/20\n",
            "1719/1719 [==============================] - 6s 3ms/step - loss: 0.3629 - accuracy: 0.8684 - val_loss: 0.3668 - val_accuracy: 0.8730\n",
            "Epoch 5/20\n",
            "1719/1719 [==============================] - 6s 3ms/step - loss: 0.3474 - accuracy: 0.8739 - val_loss: 0.3529 - val_accuracy: 0.8738\n",
            "Epoch 6/20\n",
            "1719/1719 [==============================] - 6s 3ms/step - loss: 0.3337 - accuracy: 0.8784 - val_loss: 0.3542 - val_accuracy: 0.8768\n",
            "Epoch 7/20\n",
            "1719/1719 [==============================] - 6s 3ms/step - loss: 0.3256 - accuracy: 0.8831 - val_loss: 0.3581 - val_accuracy: 0.8756\n",
            "Epoch 8/20\n",
            "1719/1719 [==============================] - 6s 3ms/step - loss: 0.3161 - accuracy: 0.8869 - val_loss: 0.4079 - val_accuracy: 0.8452\n",
            "Epoch 9/20\n",
            "1719/1719 [==============================] - 6s 3ms/step - loss: 0.3095 - accuracy: 0.8884 - val_loss: 0.3485 - val_accuracy: 0.8764\n",
            "Epoch 10/20\n",
            "1719/1719 [==============================] - 6s 3ms/step - loss: 0.3050 - accuracy: 0.8909 - val_loss: 0.3720 - val_accuracy: 0.8812\n",
            "Epoch 11/20\n",
            "1719/1719 [==============================] - 6s 3ms/step - loss: 0.2978 - accuracy: 0.8929 - val_loss: 0.3994 - val_accuracy: 0.8724\n",
            "Epoch 12/20\n",
            "1719/1719 [==============================] - 6s 3ms/step - loss: 0.2912 - accuracy: 0.8955 - val_loss: 0.3770 - val_accuracy: 0.8720\n",
            "Epoch 13/20\n",
            "1719/1719 [==============================] - 6s 3ms/step - loss: 0.2850 - accuracy: 0.8983 - val_loss: 0.3994 - val_accuracy: 0.8758\n",
            "Epoch 14/20\n",
            "1719/1719 [==============================] - 6s 3ms/step - loss: 0.2855 - accuracy: 0.8970 - val_loss: 0.3244 - val_accuracy: 0.8850\n",
            "Epoch 15/20\n",
            "1719/1719 [==============================] - 6s 3ms/step - loss: 0.2756 - accuracy: 0.9011 - val_loss: 0.4247 - val_accuracy: 0.8784\n",
            "Epoch 16/20\n",
            "1719/1719 [==============================] - 6s 3ms/step - loss: 0.2782 - accuracy: 0.9010 - val_loss: 0.3501 - val_accuracy: 0.8890\n",
            "Epoch 17/20\n",
            "1719/1719 [==============================] - 7s 4ms/step - loss: 0.2709 - accuracy: 0.9044 - val_loss: 0.4168 - val_accuracy: 0.8726\n",
            "Epoch 18/20\n",
            "1719/1719 [==============================] - 6s 4ms/step - loss: 0.2688 - accuracy: 0.9038 - val_loss: 0.4024 - val_accuracy: 0.8838\n",
            "Epoch 19/20\n",
            "1719/1719 [==============================] - 6s 4ms/step - loss: 0.2662 - accuracy: 0.9053 - val_loss: 0.3773 - val_accuracy: 0.8910\n",
            "Epoch 20/20\n",
            "1719/1719 [==============================] - 6s 4ms/step - loss: 0.2573 - accuracy: 0.9077 - val_loss: 0.4274 - val_accuracy: 0.8760\n"
          ],
          "name": "stdout"
        }
      ]
    },
    {
      "cell_type": "code",
      "metadata": {
        "id": "fb0F9WMsTOde",
        "colab_type": "code",
        "colab": {
          "base_uri": "https://localhost:8080/",
          "height": 324
        },
        "outputId": "7ebd66a5-ae10-4823-9a80-8cb7c30f9aec"
      },
      "source": [
        "pd.DataFrame(history.history).plot(figsize=(8, 5))\n",
        "plt.grid(True)\n",
        "plt.gca().set_ylim(0, 1);"
      ],
      "execution_count": null,
      "outputs": [
        {
          "output_type": "display_data",
          "data": {
            "image/png": "[encoded data removed]",
            "text/plain": [
              "<Figure size 576x360 with 1 Axes>"
            ]
          },
          "metadata": {
            "tags": [],
            "needs_background": "light"
          }
        }
      ]
    },
    {
      "cell_type": "markdown",
      "metadata": {
        "id": "DcKYOnv6TOdg",
        "colab_type": "text"
      },
      "source": [
        "Evaluate the model."
      ]
    },
    {
      "cell_type": "code",
      "metadata": {
        "id": "1zzqEITtTOdh",
        "colab_type": "code",
        "colab": {}
      },
      "source": [
        "from tensorflow.keras.models import load_model\n",
        "\n",
        "model = load_model('dense_fashion_model.h5')"
      ],
      "execution_count": null,
      "outputs": []
    },
    {
      "cell_type": "code",
      "metadata": {
        "id": "sYE7hQ5TTOdj",
        "colab_type": "code",
        "colab": {
          "base_uri": "https://localhost:8080/",
          "height": 90
        },
        "outputId": "006d3589-f8d9-49db-f5cb-0a1f58a90802"
      },
      "source": [
        "y_hat = model.predict_classes(X_test)"
      ],
      "execution_count": null,
      "outputs": [
        {
          "output_type": "stream",
          "text": [
            "WARNING:tensorflow:From <ipython-input-17-6224954f3065>:1: Sequential.predict_classes (from tensorflow.python.keras.engine.sequential) is deprecated and will be removed after 2021-01-01.\n",
            "Instructions for updating:\n",
            "Please use instead:* `np.argmax(model.predict(x), axis=-1)`,   if your model does multi-class classification   (e.g. if it uses a `softmax` last-layer activation).* `(model.predict(x) > 0.5).astype(\"int32\")`,   if your model does binary classification   (e.g. if it uses a `sigmoid` last-layer activation).\n"
          ],
          "name": "stdout"
        }
      ]
    },
    {
      "cell_type": "code",
      "metadata": {
        "scrolled": false,
        "id": "sMX2rSvxTOdl",
        "colab_type": "code",
        "colab": {
          "base_uri": "https://localhost:8080/",
          "height": 264
        },
        "outputId": "73637a6f-d84c-417e-8599-0ccdcb25670e"
      },
      "source": [
        "def plot_prediction():\n",
        "    rand_idx = np.random.choice(range(X_test.shape[0]))\n",
        "    image = X_test[rand_idx].squeeze()\n",
        "    prediction = class_names[y_hat[rand_idx]]\n",
        "    actual = class_names[y_test[rand_idx]]\n",
        "\n",
        "    plt.imshow(image, cmap=\"binary\")\n",
        "    plt.axis('off')\n",
        "    plt.title(f\"Prediction: {prediction} (Actual: {actual})\")\n",
        "\n",
        "plot_prediction()"
      ],
      "execution_count": null,
      "outputs": [
        {
          "output_type": "display_data",
          "data": {
            "image/png": "[encoded data removed]",
            "text/plain": [
              "<Figure size 432x288 with 1 Axes>"
            ]
          },
          "metadata": {
            "tags": [],
            "needs_background": "light"
          }
        }
      ]
    },
    {
      "cell_type": "code",
      "metadata": {
        "id": "PqttiGJaTOdn",
        "colab_type": "code",
        "colab": {
          "base_uri": "https://localhost:8080/",
          "height": 316
        },
        "outputId": "7d5a699a-f89c-41ea-cb8e-0ac6fb72f2b6"
      },
      "source": [
        "from sklearn.metrics import classification_report\n",
        "\n",
        "print(classification_report(y_test, y_hat))"
      ],
      "execution_count": null,
      "outputs": [
        {
          "output_type": "stream",
          "text": [
            "              precision    recall  f1-score   support\n",
            "\n",
            "           0       0.80      0.86      0.83      1000\n",
            "           1       0.98      0.97      0.98      1000\n",
            "           2       0.74      0.84      0.79      1000\n",
            "           3       0.88      0.90      0.89      1000\n",
            "           4       0.83      0.77      0.80      1000\n",
            "           5       0.98      0.95      0.96      1000\n",
            "           6       0.71      0.62      0.66      1000\n",
            "           7       0.93      0.96      0.95      1000\n",
            "           8       0.97      0.95      0.96      1000\n",
            "           9       0.95      0.96      0.96      1000\n",
            "\n",
            "    accuracy                           0.88     10000\n",
            "   macro avg       0.88      0.88      0.88     10000\n",
            "weighted avg       0.88      0.88      0.88     10000\n",
            "\n"
          ],
          "name": "stdout"
        }
      ]
    },
    {
      "cell_type": "code",
      "metadata": {
        "id": "y8lRTzpVTOdp",
        "colab_type": "code",
        "colab": {
          "base_uri": "https://localhost:8080/",
          "height": 35
        },
        "outputId": "397f35d0-56a4-427d-ee40-5232ffcffea9"
      },
      "source": [
        "X_train.shape"
      ],
      "execution_count": null,
      "outputs": [
        {
          "output_type": "execute_result",
          "data": {
            "text/plain": [
              "(55000, 28, 28)"
            ]
          },
          "metadata": {
            "tags": []
          },
          "execution_count": 20
        }
      ]
    },
    {
      "cell_type": "code",
      "metadata": {
        "id": "1jZsqf95TOds",
        "colab_type": "code",
        "colab": {}
      },
      "source": [
        "X_train = X_train[..., None]\n",
        "X_valid = X_valid[..., None]\n",
        "X_test = X_test[..., None]"
      ],
      "execution_count": null,
      "outputs": []
    },
    {
      "cell_type": "code",
      "metadata": {
        "id": "zZC6DbZUTOdu",
        "colab_type": "code",
        "colab": {
          "base_uri": "https://localhost:8080/",
          "height": 35
        },
        "outputId": "326c3e3d-4493-40ad-9f8f-cbd2d992535f"
      },
      "source": [
        "X_train.shape"
      ],
      "execution_count": null,
      "outputs": [
        {
          "output_type": "execute_result",
          "data": {
            "text/plain": [
              "(55000, 28, 28, 1)"
            ]
          },
          "metadata": {
            "tags": []
          },
          "execution_count": 22
        }
      ]
    },
    {
      "cell_type": "markdown",
      "metadata": {
        "id": "5UC7SEN9TOdz",
        "colab_type": "text"
      },
      "source": [
        "Build the convolutional model."
      ]
    },
    {
      "cell_type": "code",
      "metadata": {
        "id": "WbSQQRKKTOd1",
        "colab_type": "code",
        "colab": {}
      },
      "source": [
        "img_size = (28, 28, 1)\n",
        "layer_sizes = (128, 64)\n",
        "n_filters = (64, 128, 256)\n",
        "kernel_sizes = (7, 3, 3)\n",
        "pool_size = 2\n",
        "drop_prob = 0.5"
      ],
      "execution_count": null,
      "outputs": []
    },
    {
      "cell_type": "code",
      "metadata": {
        "id": "H9M4lWHfTOd3",
        "colab_type": "code",
        "colab": {}
      },
      "source": [
        "from tensorflow.keras.layers import Conv2D, MaxPooling2D, Dropout\n",
        "\n",
        "model = Sequential([\n",
        "    Conv2D(n_filters[0], kernel_sizes[0],\n",
        "           activation='relu', padding='same',\n",
        "           input_shape=img_size),\n",
        "    MaxPooling2D(pool_size),\n",
        "    Conv2D(n_filters[1], kernel_sizes[1],\n",
        "           activation='relu', padding='same'),\n",
        "     Conv2D(n_filters[1], kernel_sizes[1],\n",
        "           activation='relu', padding='same'),\n",
        "    MaxPooling2D(pool_size),\n",
        "    Conv2D(n_filters[2], kernel_sizes[2],\n",
        "           activation='relu', padding='same'),\n",
        "    Conv2D(n_filters[2], kernel_sizes[2],\n",
        "           activation='relu', padding='same'),\n",
        "    MaxPooling2D(pool_size),\n",
        "    Flatten(),\n",
        "    Dense(layer_sizes[0], activation='relu'),\n",
        "    Dense(layer_sizes[1], activation='relu'),\n",
        "    Dropout(drop_prob),\n",
        "    Dense(n_classes, activation='softmax')\n",
        "])"
      ],
      "execution_count": null,
      "outputs": []
    },
    {
      "cell_type": "code",
      "metadata": {
        "id": "eqguB9f5TOd5",
        "colab_type": "code",
        "colab": {
          "base_uri": "https://localhost:8080/",
          "height": 615
        },
        "outputId": "fd8c3a59-f317-4508-9d05-74974362e220"
      },
      "source": [
        "model.summary()"
      ],
      "execution_count": null,
      "outputs": [
        {
          "output_type": "stream",
          "text": [
            "Model: \"sequential_1\"\n",
            "_________________________________________________________________\n",
            "Layer (type)                 Output Shape              Param #   \n",
            "=================================================================\n",
            "conv2d (Conv2D)              (None, 28, 28, 64)        3200      \n",
            "_________________________________________________________________\n",
            "max_pooling2d (MaxPooling2D) (None, 14, 14, 64)        0         \n",
            "_________________________________________________________________\n",
            "conv2d_1 (Conv2D)            (None, 14, 14, 128)       73856     \n",
            "_________________________________________________________________\n",
            "conv2d_2 (Conv2D)            (None, 14, 14, 128)       147584    \n",
            "_________________________________________________________________\n",
            "max_pooling2d_1 (MaxPooling2 (None, 7, 7, 128)         0         \n",
            "_________________________________________________________________\n",
            "conv2d_3 (Conv2D)            (None, 7, 7, 256)         295168    \n",
            "_________________________________________________________________\n",
            "conv2d_4 (Conv2D)            (None, 7, 7, 256)         590080    \n",
            "_________________________________________________________________\n",
            "max_pooling2d_2 (MaxPooling2 (None, 3, 3, 256)         0         \n",
            "_________________________________________________________________\n",
            "flatten_1 (Flatten)          (None, 2304)              0         \n",
            "_________________________________________________________________\n",
            "dense_3 (Dense)              (None, 128)               295040    \n",
            "_________________________________________________________________\n",
            "dense_4 (Dense)              (None, 64)                8256      \n",
            "_________________________________________________________________\n",
            "dropout (Dropout)            (None, 64)                0         \n",
            "_________________________________________________________________\n",
            "dense_5 (Dense)              (None, 10)                650       \n",
            "=================================================================\n",
            "Total params: 1,413,834\n",
            "Trainable params: 1,413,834\n",
            "Non-trainable params: 0\n",
            "_________________________________________________________________\n"
          ],
          "name": "stdout"
        }
      ]
    },
    {
      "cell_type": "code",
      "metadata": {
        "id": "ogr_CwBzTOd7",
        "colab_type": "code",
        "colab": {}
      },
      "source": [
        "model.compile(optimizer='nadam',\n",
        "              loss='sparse_categorical_crossentropy',\n",
        "              metrics=['accuracy'])\n",
        "\n",
        "save_cb = ModelCheckpoint(\"conv_fashion_model.h5\",\n",
        "                          save_best_only=True)"
      ],
      "execution_count": null,
      "outputs": []
    },
    {
      "cell_type": "code",
      "metadata": {
        "scrolled": true,
        "id": "RFVnsZICTOd9",
        "colab_type": "code",
        "colab": {
          "base_uri": "https://localhost:8080/",
          "height": 721
        },
        "outputId": "2120114b-8325-4410-81df-97f43acdcba7"
      },
      "source": [
        "history = model.fit(X_train, y_train, epochs=n_epochs,\n",
        "                    validation_data=(X_valid, y_valid),\n",
        "                    callbacks=[save_cb])"
      ],
      "execution_count": null,
      "outputs": [
        {
          "output_type": "stream",
          "text": [
            "Epoch 1/20\n",
            "1719/1719 [==============================] - 748s 435ms/step - loss: 0.5622 - accuracy: 0.8011 - val_loss: 0.3154 - val_accuracy: 0.8872\n",
            "Epoch 2/20\n",
            "1719/1719 [==============================] - 763s 444ms/step - loss: 0.3409 - accuracy: 0.8800 - val_loss: 0.2946 - val_accuracy: 0.8966\n",
            "Epoch 3/20\n",
            "1719/1719 [==============================] - 747s 434ms/step - loss: 0.2988 - accuracy: 0.8962 - val_loss: 0.2542 - val_accuracy: 0.9054\n",
            "Epoch 4/20\n",
            "1719/1719 [==============================] - 786s 457ms/step - loss: 0.2637 - accuracy: 0.9061 - val_loss: 0.2406 - val_accuracy: 0.9124\n",
            "Epoch 5/20\n",
            "1719/1719 [==============================] - 789s 459ms/step - loss: 0.2363 - accuracy: 0.9150 - val_loss: 0.2397 - val_accuracy: 0.9118\n",
            "Epoch 6/20\n",
            "1719/1719 [==============================] - 758s 441ms/step - loss: 0.2200 - accuracy: 0.9214 - val_loss: 0.2370 - val_accuracy: 0.9166\n",
            "Epoch 7/20\n",
            "1719/1719 [==============================] - 765s 445ms/step - loss: 0.2012 - accuracy: 0.9279 - val_loss: 0.2392 - val_accuracy: 0.9170\n",
            "Epoch 8/20\n",
            "1719/1719 [==============================] - 787s 458ms/step - loss: 0.1878 - accuracy: 0.9330 - val_loss: 0.2587 - val_accuracy: 0.9134\n",
            "Epoch 9/20\n",
            "1719/1719 [==============================] - 761s 443ms/step - loss: 0.1699 - accuracy: 0.9386 - val_loss: 0.2528 - val_accuracy: 0.9152\n",
            "Epoch 10/20\n",
            "1719/1719 [==============================] - 757s 440ms/step - loss: 0.1624 - accuracy: 0.9414 - val_loss: 0.3042 - val_accuracy: 0.9180\n",
            "Epoch 11/20\n",
            "1719/1719 [==============================] - 771s 448ms/step - loss: 0.1476 - accuracy: 0.9459 - val_loss: 0.2860 - val_accuracy: 0.9152\n",
            "Epoch 12/20\n",
            "1719/1719 [==============================] - 782s 455ms/step - loss: 0.1405 - accuracy: 0.9494 - val_loss: 0.2968 - val_accuracy: 0.9162\n",
            "Epoch 13/20\n",
            "1719/1719 [==============================] - 763s 444ms/step - loss: 0.1300 - accuracy: 0.9523 - val_loss: 0.3008 - val_accuracy: 0.9214\n",
            "Epoch 14/20\n",
            "1719/1719 [==============================] - 805s 468ms/step - loss: 0.1267 - accuracy: 0.9533 - val_loss: 0.3776 - val_accuracy: 0.9186\n",
            "Epoch 15/20\n",
            "1719/1719 [==============================] - 760s 442ms/step - loss: 0.1308 - accuracy: 0.9552 - val_loss: 0.3477 - val_accuracy: 0.9152\n",
            "Epoch 16/20\n",
            "1719/1719 [==============================] - 760s 442ms/step - loss: 0.1106 - accuracy: 0.9607 - val_loss: 0.3833 - val_accuracy: 0.9214\n",
            "Epoch 17/20\n",
            "1719/1719 [==============================] - 768s 447ms/step - loss: 0.1145 - accuracy: 0.9604 - val_loss: 0.3675 - val_accuracy: 0.9144\n",
            "Epoch 18/20\n",
            "1719/1719 [==============================] - 807s 470ms/step - loss: 0.1048 - accuracy: 0.9633 - val_loss: 0.3841 - val_accuracy: 0.9160\n",
            "Epoch 19/20\n",
            "1719/1719 [==============================] - 765s 445ms/step - loss: 0.1018 - accuracy: 0.9643 - val_loss: 0.4401 - val_accuracy: 0.9168\n",
            "Epoch 20/20\n",
            "1719/1719 [==============================] - 803s 467ms/step - loss: 0.0992 - accuracy: 0.9656 - val_loss: 0.4244 - val_accuracy: 0.9200\n"
          ],
          "name": "stdout"
        }
      ]
    },
    {
      "cell_type": "code",
      "metadata": {
        "id": "PfXFl1IFTOd_",
        "colab_type": "code",
        "colab": {
          "base_uri": "https://localhost:8080/",
          "height": 54
        },
        "outputId": "7a7e40a3-f075-4b6d-f4b4-ce3a1ddd255f"
      },
      "source": [
        "pd.DataFrame(history.history).plot(figsize=(8, 5))\n",
        "plt.grid(True)\n",
        "plt.gca().set_ylim(0, 1);"
      ],
      "execution_count": null,
      "outputs": [
        {
          "output_type": "display_data",
          "data": {
            "image/png": "[encoded data removed]",
            "text/plain": [
              "<Figure size 576x360 with 1 Axes>"
            ]
          },
          "metadata": {
            "tags": [],
            "needs_background": "light"
          }
        }
      ]
    },
    {
      "cell_type": "markdown",
      "metadata": {
        "id": "u95GyFYhTOeA",
        "colab_type": "text"
      },
      "source": [
        "Evaluate the model."
      ]
    },
    {
      "cell_type": "code",
      "metadata": {
        "id": "OeQJsqq8TOeC",
        "colab_type": "code",
        "colab": {}
      },
      "source": [
        "model = load_model('conv_fashion_model.h5')\n",
        "y_hat = model.predict_classes(X_test)"
      ],
      "execution_count": null,
      "outputs": []
    },
    {
      "cell_type": "code",
      "metadata": {
        "id": "nmgf7E4KTOeE",
        "colab_type": "code",
        "colab": {
          "base_uri": "https://localhost:8080/",
          "height": 54
        },
        "outputId": "14f720c0-91db-4c24-b755-5a61d2a116dc"
      },
      "source": [
        "plot_prediction()"
      ],
      "execution_count": null,
      "outputs": [
        {
          "output_type": "display_data",
          "data": {
            "image/png": "[encoded data removed]",
            "text/plain": [
              "<Figure size 432x288 with 1 Axes>"
            ]
          },
          "metadata": {
            "tags": [],
            "needs_background": "light"
          }
        }
      ]
    },
    {
      "cell_type": "code",
      "metadata": {
        "id": "NegTYlyZTOeG",
        "colab_type": "code",
        "colab": {
          "base_uri": "https://localhost:8080/",
          "height": 336
        },
        "outputId": "2d521999-a2df-4c31-91d9-391e2391ca84"
      },
      "source": [
        "print(classification_report(y_test, y_hat))"
      ],
      "execution_count": null,
      "outputs": [
        {
          "output_type": "stream",
          "text": [
            "              precision    recall  f1-score   support\n",
            "\n",
            "           0       0.84      0.85      0.85      1000\n",
            "           1       0.99      0.98      0.99      1000\n",
            "           2       0.90      0.79      0.84      1000\n",
            "           3       0.93      0.91      0.92      1000\n",
            "           4       0.79      0.89      0.84      1000\n",
            "           5       0.97      0.99      0.98      1000\n",
            "           6       0.75      0.73      0.74      1000\n",
            "           7       0.96      0.98      0.97      1000\n",
            "           8       0.97      0.99      0.98      1000\n",
            "           9       0.99      0.96      0.97      1000\n",
            "\n",
            "    accuracy                           0.91     10000\n",
            "   macro avg       0.91      0.91      0.91     10000\n",
            "weighted avg       0.91      0.91      0.91     10000\n",
            "\n"
          ],
          "name": "stdout"
        }
      ]
    }
  ]
}