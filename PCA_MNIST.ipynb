{
  "nbformat": 4,
  "nbformat_minor": 0,
  "metadata": {
    "colab": {
      "name": "PCA MNIST.ipynb",
      "provenance": [],
      "collapsed_sections": [],
      "include_colab_link": true
    },
    "kernelspec": {
      "name": "python3",
      "display_name": "Python 3"
    }
  },
  "cells": [
    {
      "cell_type": "markdown",
      "metadata": {
        "id": "view-in-github",
        "colab_type": "text"
      },
      "source": [
        "<a href=\"https://colab.research.google.com/github/ayd13/Machine-learning-projects/blob/master/PCA_MNIST.ipynb\" target=\"_parent\"><img src=\"https://colab.research.google.com/assets/colab-badge.svg\" alt=\"Open In Colab\"/></a>"
      ]
    },
    {
      "cell_type": "code",
      "metadata": {
        "id": "RkbQkRkNFjn2",
        "colab_type": "code",
        "colab": {}
      },
      "source": [
        "# Setup\n",
        "from sklearn.decomposition import PCA\n",
        "from sklearn.preprocessing import StandardScaler\n",
        "from sklearn import metrics\n",
        "from sklearn.model_selection import train_test_split\n",
        "import pandas as pd\n",
        "import numpy as np\n",
        "from sklearn.datasets import fetch_openml\n"
      ],
      "execution_count": null,
      "outputs": []
    },
    {
      "cell_type": "markdown",
      "metadata": {
        "id": "iNXDI6VJGNTq",
        "colab_type": "text"
      },
      "source": [
        "#Download and Load the Data\n"
      ]
    },
    {
      "cell_type": "code",
      "metadata": {
        "id": "sc9tKI0gF5_G",
        "colab_type": "code",
        "colab": {}
      },
      "source": [
        "from sklearn.datasets import fetch_openml\n",
        "\n",
        "mnist = fetch_openml('mnist_784', version=1, cache=True)\n",
        "mnist.target = mnist.target.astype(np.int8) # fetch_openml() returns targets as strings\n",
        "\n",
        "X, y = mnist[\"data\"], mnist[\"target\"]"
      ],
      "execution_count": null,
      "outputs": []
    },
    {
      "cell_type": "markdown",
      "metadata": {
        "id": "2zVF3pvMHiAJ",
        "colab_type": "text"
      },
      "source": [
        "# Split data into train/test"
      ]
    },
    {
      "cell_type": "code",
      "metadata": {
        "id": "FxVFDOX_F-iw",
        "colab_type": "code",
        "colab": {}
      },
      "source": [
        "# Write a code to split your dataset into 80/20 dataset\n",
        "from sklearn.model_selection import train_test_split\n",
        "\n",
        "X_train, X_test, y_train, y_test = train_test_split(X,y,test_size= 0.2)"
      ],
      "execution_count": null,
      "outputs": []
    },
    {
      "cell_type": "markdown",
      "metadata": {
        "id": "-r5taD09Hvh6",
        "colab_type": "text"
      },
      "source": [
        "# View Data Dimension"
      ]
    },
    {
      "cell_type": "code",
      "metadata": {
        "id": "iY_oQehrHlWa",
        "colab_type": "code",
        "colab": {
          "base_uri": "https://localhost:8080/",
          "height": 35
        },
        "outputId": "254efe18-afcf-417a-924b-9c1c7fc3b0a0"
      },
      "source": [
        "X_train.shape, X_test.shape, y_train.shape, y_test.shape\n"
      ],
      "execution_count": null,
      "outputs": [
        {
          "output_type": "execute_result",
          "data": {
            "text/plain": [
              "((56000, 784), (14000, 784), (56000,), (14000,))"
            ]
          },
          "metadata": {
            "tags": []
          },
          "execution_count": 4
        }
      ]
    },
    {
      "cell_type": "markdown",
      "metadata": {
        "id": "2e-0MowUIN1_",
        "colab_type": "text"
      },
      "source": [
        "#Standardizing the Data¶\n"
      ]
    },
    {
      "cell_type": "code",
      "metadata": {
        "id": "mAoSLQYOHnt5",
        "colab_type": "code",
        "colab": {}
      },
      "source": [
        "from sklearn.preprocessing import StandardScaler\n",
        "scaler = StandardScaler()\n",
        "\n",
        "# Fit on training set only.\n",
        "scaler.fit(X_train)\n",
        "\n",
        "# Apply transform to both the training set and the test set.\n",
        "X_train = scaler.transform(X_train)\n",
        "X_test = scaler.transform(X_test)\n",
        "\n",
        "#X_train.shape, X_test.shape, y_train.shape, y_test.shape"
      ],
      "execution_count": null,
      "outputs": []
    },
    {
      "cell_type": "code",
      "metadata": {
        "id": "P0KsvtHIImHM",
        "colab_type": "code",
        "colab": {}
      },
      "source": [
        "# Self note: In case you want to see how the scaled number would look like, you can uncomment below lines\n",
        "#from scipy.stats import describe\n",
        "\n",
        "#describe(X_train)[1]"
      ],
      "execution_count": null,
      "outputs": []
    },
    {
      "cell_type": "code",
      "metadata": {
        "id": "AdL_WHYHIqJn",
        "colab_type": "code",
        "colab": {
          "base_uri": "https://localhost:8080/",
          "height": 52
        },
        "outputId": "8680f97f-40c2-455b-adea-1fd85f15f13c"
      },
      "source": [
        "from sklearn.decomposition import PCA\n",
        "# specify how much of variation you would like PCA to capture (between 0-1)\n",
        "#pca = PCA('mle')\n",
        "pca = PCA(0.9)\n",
        "\n",
        "pca.fit(X_train)\n"
      ],
      "execution_count": null,
      "outputs": [
        {
          "output_type": "execute_result",
          "data": {
            "text/plain": [
              "PCA(copy=True, iterated_power='auto', n_components=0.9, random_state=None,\n",
              "    svd_solver='auto', tol=0.0, whiten=False)"
            ]
          },
          "metadata": {
            "tags": []
          },
          "execution_count": 7
        }
      ]
    },
    {
      "cell_type": "markdown",
      "metadata": {
        "id": "x7daelXrJl3S",
        "colab_type": "text"
      },
      "source": [
        "# Look at components"
      ]
    },
    {
      "cell_type": "code",
      "metadata": {
        "id": "avBBGnfKJj2Q",
        "colab_type": "code",
        "colab": {
          "base_uri": "https://localhost:8080/",
          "height": 35
        },
        "outputId": "4d88707c-a5af-4492-e616-fd19a6b7bd22"
      },
      "source": [
        "pca.n_components_"
      ],
      "execution_count": null,
      "outputs": [
        {
          "output_type": "execute_result",
          "data": {
            "text/plain": [
              "231"
            ]
          },
          "metadata": {
            "tags": []
          },
          "execution_count": 8
        }
      ]
    },
    {
      "cell_type": "markdown",
      "metadata": {
        "id": "IhCsTvUcJrVa",
        "colab_type": "text"
      },
      "source": [
        "#Apply the mapping (transform) to both the training set and the test set.\n",
        "\n"
      ]
    },
    {
      "cell_type": "code",
      "metadata": {
        "id": "d0A_eeoIJnvm",
        "colab_type": "code",
        "colab": {}
      },
      "source": [
        "X_train = pca.transform(X_train)\n",
        "X_test = pca.transform(X_test)"
      ],
      "execution_count": null,
      "outputs": []
    },
    {
      "cell_type": "markdown",
      "metadata": {
        "id": "-hQFCo4JJ1Rz",
        "colab_type": "text"
      },
      "source": [
        "#Build a linear model and measure model fitting period."
      ]
    },
    {
      "cell_type": "code",
      "metadata": {
        "id": "TWGajY2pJzIP",
        "colab_type": "code",
        "colab": {
          "base_uri": "https://localhost:8080/",
          "height": 158
        },
        "outputId": "67a05b83-447c-46cb-bd10-e6c6b258aec0"
      },
      "source": [
        "from sklearn.linear_model import LogisticRegression\n",
        "logisticRegr = LogisticRegression(solver = 'lbfgs', multi_class ='auto')\n",
        "\n",
        "import datetime\n",
        "start= datetime.datetime.now()\n",
        "logisticRegr.fit(X_train, y_train)\n",
        "end= datetime.datetime.now()"
      ],
      "execution_count": null,
      "outputs": [
        {
          "output_type": "stream",
          "text": [
            "/usr/local/lib/python3.6/dist-packages/sklearn/linear_model/_logistic.py:940: ConvergenceWarning: lbfgs failed to converge (status=1):\n",
            "STOP: TOTAL NO. of ITERATIONS REACHED LIMIT.\n",
            "\n",
            "Increase the number of iterations (max_iter) or scale the data as shown in:\n",
            "    https://scikit-learn.org/stable/modules/preprocessing.html\n",
            "Please also refer to the documentation for alternative solver options:\n",
            "    https://scikit-learn.org/stable/modules/linear_model.html#logistic-regression\n",
            "  extra_warning_msg=_LOGISTIC_SOLVER_CONVERGENCE_MSG)\n"
          ],
          "name": "stderr"
        }
      ]
    },
    {
      "cell_type": "code",
      "metadata": {
        "id": "SzSIMXttJ_Zy",
        "colab_type": "code",
        "colab": {
          "base_uri": "https://localhost:8080/",
          "height": 35
        },
        "outputId": "21d9b8ba-1460-4181-833f-78ad1ba04a97"
      },
      "source": [
        "print(end-start)\n",
        "#logisticRegr.predict(X_train[0].reshape(1,-1))"
      ],
      "execution_count": null,
      "outputs": [
        {
          "output_type": "stream",
          "text": [
            "0:00:12.363067\n"
          ],
          "name": "stdout"
        }
      ]
    },
    {
      "cell_type": "markdown",
      "metadata": {
        "id": "Jt4e5w9iKFNF",
        "colab_type": "text"
      },
      "source": [
        "#Measuring Model Performance"
      ]
    },
    {
      "cell_type": "code",
      "metadata": {
        "id": "SP9TM_6GKGMp",
        "colab_type": "code",
        "colab": {
          "base_uri": "https://localhost:8080/",
          "height": 35
        },
        "outputId": "9d164450-4d7d-46f8-b89e-92b4867b92c6"
      },
      "source": [
        "score = logisticRegr.score(X_test, y_test)\n",
        "print(score)"
      ],
      "execution_count": null,
      "outputs": [
        {
          "output_type": "stream",
          "text": [
            "0.9250714285714285\n"
          ],
          "name": "stdout"
        }
      ]
    },
    {
      "cell_type": "markdown",
      "metadata": {
        "id": "1XCCjrWrKRne",
        "colab_type": "text"
      },
      "source": [
        "#Number of Components, Variance, Time Table\n"
      ]
    },
    {
      "cell_type": "code",
      "metadata": {
        "id": "R3ED7CHoKL55",
        "colab_type": "code",
        "colab": {
          "base_uri": "https://localhost:8080/",
          "height": 203
        },
        "outputId": "01c40269-473a-4f39-8b90-aa97ef965005"
      },
      "source": [
        "pd.DataFrame(data = [[1.00, 784, 48.94, .9158],\n",
        "                     [.99, 541, 34.69, .9169],\n",
        "                     [.95, 330, 13.89, .92],\n",
        "                     [.90, 236, 10.56, .9168],\n",
        "                     [.85, 184, 8.85, .9156]], \n",
        "             columns = ['Variance Retained',\n",
        "                      'Number of Components', \n",
        "                      'Time (seconds)',\n",
        "                      'Accuracy'])"
      ],
      "execution_count": null,
      "outputs": [
        {
          "output_type": "execute_result",
          "data": {
            "text/html": [
              "<div>\n",
              "<style scoped>\n",
              "    .dataframe tbody tr th:only-of-type {\n",
              "        vertical-align: middle;\n",
              "    }\n",
              "\n",
              "    .dataframe tbody tr th {\n",
              "        vertical-align: top;\n",
              "    }\n",
              "\n",
              "    .dataframe thead th {\n",
              "        text-align: right;\n",
              "    }\n",
              "</style>\n",
              "<table border=\"1\" class=\"dataframe\">\n",
              "  <thead>\n",
              "    <tr style=\"text-align: right;\">\n",
              "      <th></th>\n",
              "      <th>Variance Retained</th>\n",
              "      <th>Number of Components</th>\n",
              "      <th>Time (seconds)</th>\n",
              "      <th>Accuracy</th>\n",
              "    </tr>\n",
              "  </thead>\n",
              "  <tbody>\n",
              "    <tr>\n",
              "      <th>0</th>\n",
              "      <td>1.00</td>\n",
              "      <td>784</td>\n",
              "      <td>48.94</td>\n",
              "      <td>0.9158</td>\n",
              "    </tr>\n",
              "    <tr>\n",
              "      <th>1</th>\n",
              "      <td>0.99</td>\n",
              "      <td>541</td>\n",
              "      <td>34.69</td>\n",
              "      <td>0.9169</td>\n",
              "    </tr>\n",
              "    <tr>\n",
              "      <th>2</th>\n",
              "      <td>0.95</td>\n",
              "      <td>330</td>\n",
              "      <td>13.89</td>\n",
              "      <td>0.9200</td>\n",
              "    </tr>\n",
              "    <tr>\n",
              "      <th>3</th>\n",
              "      <td>0.90</td>\n",
              "      <td>236</td>\n",
              "      <td>10.56</td>\n",
              "      <td>0.9168</td>\n",
              "    </tr>\n",
              "    <tr>\n",
              "      <th>4</th>\n",
              "      <td>0.85</td>\n",
              "      <td>184</td>\n",
              "      <td>8.85</td>\n",
              "      <td>0.9156</td>\n",
              "    </tr>\n",
              "  </tbody>\n",
              "</table>\n",
              "</div>"
            ],
            "text/plain": [
              "   Variance Retained  Number of Components  Time (seconds)  Accuracy\n",
              "0               1.00                   784           48.94    0.9158\n",
              "1               0.99                   541           34.69    0.9169\n",
              "2               0.95                   330           13.89    0.9200\n",
              "3               0.90                   236           10.56    0.9168\n",
              "4               0.85                   184            8.85    0.9156"
            ]
          },
          "metadata": {
            "tags": []
          },
          "execution_count": 13
        }
      ]
    }
  ]
}